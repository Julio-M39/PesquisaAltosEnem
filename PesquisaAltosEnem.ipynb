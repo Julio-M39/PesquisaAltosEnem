{
  "nbformat": 4,
  "nbformat_minor": 0,
  "metadata": {
    "colab": {
      "name": "PesquisaAltosEnem.ipynb",
      "provenance": [],
      "collapsed_sections": [
        "EHECmtyMEsvz",
        "dXanULzlFlzs",
        "Acsd00smnYO1",
        "V7qScKDnkdbY",
        "F1B3x6u2mD7t",
        "_3IsiXR-sP6q",
        "YzeaOo3jsm2M",
        "5Eojk5UAssc4",
        "zeGJXvPhsxTb",
        "spfjO48oIC3i",
        "pMJqd-0gIyGJ",
        "qO5tF3eHI1_f",
        "CGovGem5I57L"
      ],
      "toc_visible": true,
      "authorship_tag": "ABX9TyPOP7HwZe1IHwQYMUMOm1Ra",
      "include_colab_link": true
    },
    "kernelspec": {
      "name": "python3",
      "display_name": "Python 3"
    }
  },
  "cells": [
    {
      "cell_type": "markdown",
      "metadata": {
        "id": "view-in-github",
        "colab_type": "text"
      },
      "source": [
        "<a href=\"https://colab.research.google.com/github/Julio-M39/PesquisaAltosEnem/blob/master/PesquisaAltosEnem.ipynb\" target=\"_parent\"><img src=\"https://colab.research.google.com/assets/colab-badge.svg\" alt=\"Open In Colab\"/></a>"
      ]
    },
    {
      "cell_type": "markdown",
      "metadata": {
        "id": "i7ehziNl_mJm"
      },
      "source": [
        "# **PESQUISA DE DESEMPENHO DOS INSCRITOS NO ENEM 2016 a 2019 QUE MORAM OU MORAVAM NO MUNICÍPIO DE ALTOS NO ESTADO DO PIAUÍ**"
      ]
    },
    {
      "cell_type": "markdown",
      "metadata": {
        "id": "EHECmtyMEsvz"
      },
      "source": [
        "## **1.0 Bibliotecas**"
      ]
    },
    {
      "cell_type": "code",
      "metadata": {
        "id": "IkaK3jRK_HFs"
      },
      "source": [
        "#Importando Bibliotecas\n",
        "import pandas as pd"
      ],
      "execution_count": 1,
      "outputs": []
    },
    {
      "cell_type": "markdown",
      "metadata": {
        "id": "dXanULzlFlzs"
      },
      "source": [
        "## **2.0 Lendo os Dados**"
      ]
    },
    {
      "cell_type": "code",
      "metadata": {
        "id": "2GASPlSJ776V"
      },
      "source": [
        "#Selecionando as bases de dados\n",
        "fonte2016 = 'https://github.com/Julio-M39/PesquisaAltosEnem/blob/master/microdadosEnem2016.csv?raw=true'\n",
        "fonte2017 = 'https://github.com/Julio-M39/PesquisaAltosEnem/blob/master/microdadosEnem2017.csv?raw=true'\n",
        "fonte2018 = 'https://github.com/Julio-M39/PesquisaAltosEnem/blob/master/microdadosEnem2018.csv?raw=true'\n",
        "fonte2019 = 'https://github.com/Julio-M39/PesquisaAltosEnem/blob/master/microdadosEnem2019.csv?raw=true'"
      ],
      "execution_count": 30,
      "outputs": []
    },
    {
      "cell_type": "code",
      "metadata": {
        "id": "p39d2zSw-2KT"
      },
      "source": [
        "#Leitura de dados\n",
        "microdadosEnem2016 = pd.read_csv(fonte2016)\n",
        "microdadosEnem2017 = pd.read_csv(fonte2017)\n",
        "microdadosEnem2018 = pd.read_csv(fonte2018)\n",
        "microdadosEnem2019 = pd.read_csv(fonte2019)"
      ],
      "execution_count": 31,
      "outputs": []
    },
    {
      "cell_type": "markdown",
      "metadata": {
        "id": "N3n6QYATG3Tg"
      },
      "source": [
        "## **3.0 Explorando os Dados**"
      ]
    },
    {
      "cell_type": "markdown",
      "metadata": {
        "id": "Acsd00smnYO1"
      },
      "source": [
        "### **3.1 Visualização do dataframe**"
      ]
    },
    {
      "cell_type": "code",
      "metadata": {
        "id": "Er9Alfpz_GNf",
        "outputId": "e3317299-a4e7-4f58-bf09-08a73c735edc",
        "colab": {
          "base_uri": "https://localhost:8080/",
          "height": 0
        }
      },
      "source": [
        "#Visualização do dataframe\n",
        "microdadosEnem2019.head(3)"
      ],
      "execution_count": 32,
      "outputs": [
        {
          "output_type": "execute_result",
          "data": {
            "text/html": [
              "<div>\n",
              "<style scoped>\n",
              "    .dataframe tbody tr th:only-of-type {\n",
              "        vertical-align: middle;\n",
              "    }\n",
              "\n",
              "    .dataframe tbody tr th {\n",
              "        vertical-align: top;\n",
              "    }\n",
              "\n",
              "    .dataframe thead th {\n",
              "        text-align: right;\n",
              "    }\n",
              "</style>\n",
              "<table border=\"1\" class=\"dataframe\">\n",
              "  <thead>\n",
              "    <tr style=\"text-align: right;\">\n",
              "      <th></th>\n",
              "      <th>Unnamed: 0</th>\n",
              "      <th>NU_INSCRICAO</th>\n",
              "      <th>NU_ANO</th>\n",
              "      <th>NO_MUNICIPIO_RESIDENCIA</th>\n",
              "      <th>SG_UF_RESIDENCIA</th>\n",
              "      <th>NU_IDADE</th>\n",
              "      <th>TP_SEXO</th>\n",
              "      <th>TP_ST_CONCLUSAO</th>\n",
              "      <th>TP_ESCOLA</th>\n",
              "      <th>NO_MUNICIPIO_ESC</th>\n",
              "      <th>TP_DEPENDENCIA_ADM_ESC</th>\n",
              "      <th>NO_MUNICIPIO_PROVA</th>\n",
              "      <th>NU_NOTA_CN</th>\n",
              "      <th>NU_NOTA_CH</th>\n",
              "      <th>NU_NOTA_LC</th>\n",
              "      <th>NU_NOTA_MT</th>\n",
              "      <th>NU_NOTA_REDACAO</th>\n",
              "    </tr>\n",
              "  </thead>\n",
              "  <tbody>\n",
              "    <tr>\n",
              "      <th>0</th>\n",
              "      <td>91345</td>\n",
              "      <td>190001095974</td>\n",
              "      <td>2019</td>\n",
              "      <td>Altos</td>\n",
              "      <td>PI</td>\n",
              "      <td>18</td>\n",
              "      <td>M</td>\n",
              "      <td>2</td>\n",
              "      <td>2</td>\n",
              "      <td>Altos</td>\n",
              "      <td>2.0</td>\n",
              "      <td>Altos</td>\n",
              "      <td>488.1</td>\n",
              "      <td>454.3</td>\n",
              "      <td>562.8</td>\n",
              "      <td>516.0</td>\n",
              "      <td>640.0</td>\n",
              "    </tr>\n",
              "    <tr>\n",
              "      <th>1</th>\n",
              "      <td>91355</td>\n",
              "      <td>190001095984</td>\n",
              "      <td>2019</td>\n",
              "      <td>Altos</td>\n",
              "      <td>PI</td>\n",
              "      <td>25</td>\n",
              "      <td>F</td>\n",
              "      <td>1</td>\n",
              "      <td>1</td>\n",
              "      <td>NaN</td>\n",
              "      <td>NaN</td>\n",
              "      <td>Altos</td>\n",
              "      <td>424.0</td>\n",
              "      <td>440.8</td>\n",
              "      <td>539.0</td>\n",
              "      <td>462.5</td>\n",
              "      <td>560.0</td>\n",
              "    </tr>\n",
              "    <tr>\n",
              "      <th>2</th>\n",
              "      <td>91397</td>\n",
              "      <td>190001096026</td>\n",
              "      <td>2019</td>\n",
              "      <td>Altos</td>\n",
              "      <td>PI</td>\n",
              "      <td>23</td>\n",
              "      <td>F</td>\n",
              "      <td>1</td>\n",
              "      <td>1</td>\n",
              "      <td>NaN</td>\n",
              "      <td>NaN</td>\n",
              "      <td>Altos</td>\n",
              "      <td>426.5</td>\n",
              "      <td>442.4</td>\n",
              "      <td>455.3</td>\n",
              "      <td>413.3</td>\n",
              "      <td>720.0</td>\n",
              "    </tr>\n",
              "  </tbody>\n",
              "</table>\n",
              "</div>"
            ],
            "text/plain": [
              "   Unnamed: 0  NU_INSCRICAO  NU_ANO  ... NU_NOTA_LC NU_NOTA_MT  NU_NOTA_REDACAO\n",
              "0       91345  190001095974    2019  ...      562.8      516.0            640.0\n",
              "1       91355  190001095984    2019  ...      539.0      462.5            560.0\n",
              "2       91397  190001096026    2019  ...      455.3      413.3            720.0\n",
              "\n",
              "[3 rows x 17 columns]"
            ]
          },
          "metadata": {
            "tags": []
          },
          "execution_count": 32
        }
      ]
    },
    {
      "cell_type": "markdown",
      "metadata": {
        "id": "QAKvQfp6faRa"
      },
      "source": [
        "Visualização de apenas um dataframe pois os outros seguem o mesmo padrão de colunas, ou seja as colunas de todos os dataframes são iguais"
      ]
    },
    {
      "cell_type": "markdown",
      "metadata": {
        "id": "V7qScKDnkdbY"
      },
      "source": [
        "### **3.2 Números de inscritos Altoenses por ano**"
      ]
    },
    {
      "cell_type": "code",
      "metadata": {
        "id": "yx1HlUtFj6aP",
        "outputId": "071015f4-70b4-479d-b65a-a20602100aad",
        "colab": {
          "base_uri": "https://localhost:8080/"
        }
      },
      "source": [
        "#Verificando se existem inscrições em branco\n",
        "print(microdadosEnem2019['NU_INSCRICAO'].isnull().sum())\n"
      ],
      "execution_count": 33,
      "outputs": [
        {
          "output_type": "stream",
          "text": [
            "0\n"
          ],
          "name": "stdout"
        }
      ]
    },
    {
      "cell_type": "markdown",
      "metadata": {
        "id": "_eK42YIrlmYt"
      },
      "source": [
        "Todas as linhas de inscritos estão preenchidas"
      ]
    },
    {
      "cell_type": "code",
      "metadata": {
        "id": "Kyr6agyVexk3",
        "outputId": "27557355-5849-47f8-c50b-918c88d73f52",
        "colab": {
          "base_uri": "https://localhost:8080/"
        }
      },
      "source": [
        "#Número de inscritos\n",
        "print(microdadosEnem2019['NU_INSCRICAO'].shape,\n",
        "      microdadosEnem2018['NU_INSCRICAO'].shape,\n",
        "      microdadosEnem2017['NU_INSCRICAO'].shape,\n",
        "      microdadosEnem2016['NU_INSCRICAO'].shape)"
      ],
      "execution_count": 34,
      "outputs": [
        {
          "output_type": "stream",
          "text": [
            "(1507,) (1439,) (1979,) (2450,)\n"
          ],
          "name": "stdout"
        }
      ]
    },
    {
      "cell_type": "markdown",
      "metadata": {
        "id": "O8Ur2pdkkyVt"
      },
      "source": [
        "Números de inscritos que residem em Altos por ano:\n",
        "\n",
        "* Ano de 2019 - 1507 Inscritos\n",
        "* Ano de 2018 - 1439 Inscritos\n",
        "* Ano de 2017 - 1979 Inscritos\n",
        "* Ano de 2016 - 2450 Inscritos"
      ]
    },
    {
      "cell_type": "markdown",
      "metadata": {
        "id": "F1B3x6u2mD7t"
      },
      "source": [
        "### **3.3 Números de inscritos Altoenses pelo município da escola onde estudaram**"
      ]
    },
    {
      "cell_type": "markdown",
      "metadata": {
        "id": "_3IsiXR-sP6q"
      },
      "source": [
        "#### **2019**"
      ]
    },
    {
      "cell_type": "code",
      "metadata": {
        "id": "sd3LDjaNlyO6",
        "outputId": "fcfc7d54-e608-4834-f0a5-b04db25f20c4",
        "colab": {
          "base_uri": "https://localhost:8080/"
        }
      },
      "source": [
        "#Verificar quantos inscritos não responderam com o nome do município da escola em 2019\n",
        "print(microdadosEnem2019['NO_MUNICIPIO_ESC'].isnull().sum())"
      ],
      "execution_count": 35,
      "outputs": [
        {
          "output_type": "stream",
          "text": [
            "1217\n"
          ],
          "name": "stdout"
        }
      ]
    },
    {
      "cell_type": "code",
      "metadata": {
        "id": "ifkj8gPgmmiq",
        "outputId": "df65e20f-2564-42fe-92bc-929fc37e4211",
        "colab": {
          "base_uri": "https://localhost:8080/"
        }
      },
      "source": [
        "#Verificar os nomes dos municípios onde os inscritos Altoenses estudaram em 2019\n",
        "microdadosEnem2019['NO_MUNICIPIO_ESC'].value_counts()"
      ],
      "execution_count": 36,
      "outputs": [
        {
          "output_type": "execute_result",
          "data": {
            "text/plain": [
              "Altos                  233\n",
              "Teresina                47\n",
              "Campo Maior              7\n",
              "Pau D'Arco do Piauí      2\n",
              "Bom Jesus                1\n",
              "Name: NO_MUNICIPIO_ESC, dtype: int64"
            ]
          },
          "metadata": {
            "tags": []
          },
          "execution_count": 36
        }
      ]
    },
    {
      "cell_type": "markdown",
      "metadata": {
        "id": "C9y8WQtaoXFt"
      },
      "source": [
        "Em 2019 os municípios onde os Altoenses estudaram foram:\n",
        "\n",
        "* 233 Inscritos - Município de Altos\n",
        "* 47 Inscritos - Município de Teresina \n",
        "* 7 Inscritos - Município de Campo Maior\n",
        "* 2 Inscritos - Município de Pau D'Arco do Piauí\n",
        "* 1 Inscritos - Município de Bom Jesus\n",
        "\n",
        "1217 Inscritos não responderam com o nome do município da escola onde estudou ou estuda, totalizando os 1507 inscritos no ano de 2019.\n",
        "\n",
        "\n",
        "\n"
      ]
    },
    {
      "cell_type": "markdown",
      "metadata": {
        "id": "YzeaOo3jsm2M"
      },
      "source": [
        "#### **2018**"
      ]
    },
    {
      "cell_type": "code",
      "metadata": {
        "id": "BuvGwm4Lq6Sk",
        "outputId": "89091c17-f9f1-4476-8954-3b50e5d6440d",
        "colab": {
          "base_uri": "https://localhost:8080/"
        }
      },
      "source": [
        "#Verificar quantos inscritos não responderam com o nome do município da escola em 2018\n",
        "print(microdadosEnem2018['NO_MUNICIPIO_ESC'].isnull().sum())"
      ],
      "execution_count": 37,
      "outputs": [
        {
          "output_type": "stream",
          "text": [
            "1132\n"
          ],
          "name": "stdout"
        }
      ]
    },
    {
      "cell_type": "code",
      "metadata": {
        "id": "9fka5cMZm35W",
        "outputId": "4360e2d4-f263-416f-bbf7-8e5807106715",
        "colab": {
          "base_uri": "https://localhost:8080/"
        }
      },
      "source": [
        "#Verificar os nomes dos municípios onde os inscritos Altoenses estudaram em 2018\n",
        "microdadosEnem2018['NO_MUNICIPIO_ESC'].value_counts()"
      ],
      "execution_count": 38,
      "outputs": [
        {
          "output_type": "execute_result",
          "data": {
            "text/plain": [
              "Altos                  257\n",
              "Teresina                44\n",
              "Pau D'Arco do Piauí      3\n",
              "Campo Maior              2\n",
              "São João da Serra        1\n",
              "Name: NO_MUNICIPIO_ESC, dtype: int64"
            ]
          },
          "metadata": {
            "tags": []
          },
          "execution_count": 38
        }
      ]
    },
    {
      "cell_type": "markdown",
      "metadata": {
        "id": "yQTIxwKkrqy3"
      },
      "source": [
        "Em 2018 os municípios onde os Altoenses estudaram foram:\n",
        "\n",
        "* 257 Inscritos - Município de Altos\n",
        "* 44 Inscritos - Município de Teresina\n",
        "* 3 Inscritos - Município de Pau D'Arco do Piauí\n",
        "* 2 Inscritos - Município de Campo Maior\n",
        "* 1 Inscritos - Município de São João da Serra\n",
        "\n",
        "1132 Inscritos não responderam com o nome do município da escola onde estudou ou estuda, totalizando os 1439 inscritos no ano de 2018."
      ]
    },
    {
      "cell_type": "markdown",
      "metadata": {
        "id": "5Eojk5UAssc4"
      },
      "source": [
        "#### **2017**"
      ]
    },
    {
      "cell_type": "code",
      "metadata": {
        "id": "TosX-oy6s2Nv",
        "outputId": "f1acf236-c77a-4755-b126-5b98c7b4533c",
        "colab": {
          "base_uri": "https://localhost:8080/"
        }
      },
      "source": [
        "#Verificar quantos inscritos não responderam com o nome do município da escola em 2017\n",
        "print(microdadosEnem2017['NO_MUNICIPIO_ESC'].isnull().sum())"
      ],
      "execution_count": 39,
      "outputs": [
        {
          "output_type": "stream",
          "text": [
            "1564\n"
          ],
          "name": "stdout"
        }
      ]
    },
    {
      "cell_type": "code",
      "metadata": {
        "id": "BF5fVooitLjr",
        "outputId": "01b8527b-bbe1-411c-e4f9-b9b9ce25749f",
        "colab": {
          "base_uri": "https://localhost:8080/"
        }
      },
      "source": [
        "#Verificar os nomes dos municípios onde os inscritos Altoenses estudaram em 2017\n",
        "microdadosEnem2017['NO_MUNICIPIO_ESC'].value_counts()"
      ],
      "execution_count": 40,
      "outputs": [
        {
          "output_type": "execute_result",
          "data": {
            "text/plain": [
              "Altos                  372\n",
              "Teresina                34\n",
              "Campo Maior              4\n",
              "Pau D'Arco do Piauí      4\n",
              "Coivaras                 1\n",
              "Name: NO_MUNICIPIO_ESC, dtype: int64"
            ]
          },
          "metadata": {
            "tags": []
          },
          "execution_count": 40
        }
      ]
    },
    {
      "cell_type": "markdown",
      "metadata": {
        "id": "c7Tx1pb7uodz"
      },
      "source": [
        "Em 2017 os municípios onde os Altoenses estudaram foram:\n",
        "\n",
        "* 372 Inscritos - Município de Altos\n",
        "* 34 Inscritos - Município de Teresina\n",
        "* 4 Inscritos - Município de Pau D'Arco do Piauí\n",
        "* 4 Inscritos - Município de Campo Maior\n",
        "* 1 Inscritos - Município de Coivaras\n",
        "\n",
        "1564 Inscritos não responderam com o nome do município da escola onde estudou ou estuda, totalizando os 1979 inscritos no ano de 2017."
      ]
    },
    {
      "cell_type": "markdown",
      "metadata": {
        "id": "zeGJXvPhsxTb"
      },
      "source": [
        "#### **2016**"
      ]
    },
    {
      "cell_type": "code",
      "metadata": {
        "id": "0qzR6VNGq5IC",
        "outputId": "a1431911-7403-41e2-ffbf-cf990f078d5e",
        "colab": {
          "base_uri": "https://localhost:8080/"
        }
      },
      "source": [
        "#Verificar quantos inscritos não responderam com o nome do município da escola em 2016\n",
        "print(microdadosEnem2016['NO_MUNICIPIO_ESC'].isnull().sum())"
      ],
      "execution_count": 41,
      "outputs": [
        {
          "output_type": "stream",
          "text": [
            "1983\n"
          ],
          "name": "stdout"
        }
      ]
    },
    {
      "cell_type": "code",
      "metadata": {
        "id": "RQhpOSbJwj7a",
        "outputId": "86185c45-edc1-4496-e954-90288184cfad",
        "colab": {
          "base_uri": "https://localhost:8080/"
        }
      },
      "source": [
        "#Verificar os nomes dos municípios onde os inscritos Altoenses estudaram em 2016\n",
        "microdadosEnem2016['NO_MUNICIPIO_ESC'].value_counts()"
      ],
      "execution_count": 42,
      "outputs": [
        {
          "output_type": "execute_result",
          "data": {
            "text/plain": [
              "Altos                  409\n",
              "Teresina                42\n",
              "Pau D'Arco do Piauí     13\n",
              "Beneditinos              1\n",
              "Corrente                 1\n",
              "Santa Inês               1\n",
              "Name: NO_MUNICIPIO_ESC, dtype: int64"
            ]
          },
          "metadata": {
            "tags": []
          },
          "execution_count": 42
        }
      ]
    },
    {
      "cell_type": "markdown",
      "metadata": {
        "id": "MUdfrcAUwqes"
      },
      "source": [
        "Em 2016 os municípios onde os Altoenses estudaram foram:\n",
        "\n",
        "* 409 Inscritos - Município de Altos\n",
        "* 42 Inscritos - Município de Teresina\n",
        "* 13 Inscritos - Município de Pau D'Arco do Piauí\n",
        "* 1 Inscrito - Município de Corrente\n",
        "* 1 Inscritos - Município de Santa Inês\n",
        "* 1 Inscritos - Município de Beneditinos\n",
        "\n",
        "1983 Inscritos não responderam com o nome do município da escola onde estudou ou estuda, totalizando os 2450 inscritos no ano de 2017."
      ]
    },
    {
      "cell_type": "markdown",
      "metadata": {
        "id": "rgJ6v9aNx8Sc"
      },
      "source": [
        "### **3.4 Números de inscritos Altoenses pelo tipo de escola**"
      ]
    },
    {
      "cell_type": "markdown",
      "metadata": {
        "id": "spfjO48oIC3i"
      },
      "source": [
        "#### **3.4.1 Substituindo os valores da coluna TP_ESCOLA**"
      ]
    },
    {
      "cell_type": "markdown",
      "metadata": {
        "id": "WxEEfV0WErxJ"
      },
      "source": [
        "No dataframe a coluna TP_ESCOLA contêm valores de 1 a 4 para representar os tipos das escolas, sendo eles:\n",
        "\n",
        "* 1 - Não Respondeu\n",
        "* 2 - Pública\n",
        "* 3 - Privada\n",
        "* 4 - Exterior\n"
      ]
    },
    {
      "cell_type": "code",
      "metadata": {
        "id": "RN3Sv6wQFJCN"
      },
      "source": [
        "#Substituindo os valores\n",
        "microdadosEnem2019['TP_ESCOLA'] = microdadosEnem2019['TP_ESCOLA'].map({1: 'Não Respondeu' , 2: 'Pública', 3: 'Privada', 4: 'Exterior'})\n",
        "microdadosEnem2018['TP_ESCOLA'] = microdadosEnem2018['TP_ESCOLA'].map({1: 'Não Respondeu' , 2: 'Pública', 3: 'Privada', 4: 'Exterior'})\n",
        "microdadosEnem2017['TP_ESCOLA'] = microdadosEnem2017['TP_ESCOLA'].map({1: 'Não Respondeu' , 2: 'Pública', 3: 'Privada', 4: 'Exterior'})\n",
        "microdadosEnem2016['TP_ESCOLA'] = microdadosEnem2016['TP_ESCOLA'].map({1: 'Não Respondeu' , 2: 'Pública', 3: 'Privada', 4: 'Exterior'})\n"
      ],
      "execution_count": 43,
      "outputs": []
    },
    {
      "cell_type": "code",
      "metadata": {
        "id": "49UPHPoXHUk4",
        "outputId": "7285a561-618d-422f-964b-07e74f98041f",
        "colab": {
          "base_uri": "https://localhost:8080/"
        }
      },
      "source": [
        "#Novos valores\n",
        "microdadosEnem2019['TP_ESCOLA'].value_counts()"
      ],
      "execution_count": 44,
      "outputs": [
        {
          "output_type": "execute_result",
          "data": {
            "text/plain": [
              "Não Respondeu    1160\n",
              "Pública           325\n",
              "Privada            22\n",
              "Name: TP_ESCOLA, dtype: int64"
            ]
          },
          "metadata": {
            "tags": []
          },
          "execution_count": 44
        }
      ]
    },
    {
      "cell_type": "markdown",
      "metadata": {
        "id": "idz_rt2eId_P"
      },
      "source": [
        "####**3.4.2 Números de inscritos Altoenses pelo tipo de escola por ano:**"
      ]
    },
    {
      "cell_type": "markdown",
      "metadata": {
        "id": "pMJqd-0gIyGJ"
      },
      "source": [
        "##### **2019**"
      ]
    },
    {
      "cell_type": "code",
      "metadata": {
        "id": "DOF0f0OyHacV",
        "outputId": "243b5801-0739-4af0-e15b-4b764827f433",
        "colab": {
          "base_uri": "https://localhost:8080/"
        }
      },
      "source": [
        "#Números de inscritos pelo tipo de escola\n",
        "microdadosEnem2019['TP_ESCOLA'].value_counts()"
      ],
      "execution_count": 46,
      "outputs": [
        {
          "output_type": "execute_result",
          "data": {
            "text/plain": [
              "Não Respondeu    1160\n",
              "Pública           325\n",
              "Privada            22\n",
              "Name: TP_ESCOLA, dtype: int64"
            ]
          },
          "metadata": {
            "tags": []
          },
          "execution_count": 46
        }
      ]
    },
    {
      "cell_type": "markdown",
      "metadata": {
        "id": "TOiUQQ9RJq2Z"
      },
      "source": [
        "No ano de 2019 os inscritos Altoenses estudaram em escolas do tipo:\n",
        "\n",
        "* 325 Inscritos - Colégio Público\n",
        "* 22 Inscritos - Colégio Privado\n",
        "\n",
        "1160 inscritos não respondeu em que tipo de escola estudaram totalizando os 1507 Altoenses inscritos no ano de 2019."
      ]
    },
    {
      "cell_type": "markdown",
      "metadata": {
        "id": "qO5tF3eHI1_f"
      },
      "source": [
        "##### **2018**"
      ]
    },
    {
      "cell_type": "code",
      "metadata": {
        "id": "Y8LSPpj7I5Lp",
        "outputId": "f767036a-5776-4372-ceba-a4d556d8e6cc",
        "colab": {
          "base_uri": "https://localhost:8080/"
        }
      },
      "source": [
        "#Números de inscritos pelo tipo de escola\n",
        "microdadosEnem2018['TP_ESCOLA'].value_counts()"
      ],
      "execution_count": 47,
      "outputs": [
        {
          "output_type": "execute_result",
          "data": {
            "text/plain": [
              "Não Respondeu    1145\n",
              "Pública           266\n",
              "Exterior           26\n",
              "Privada             2\n",
              "Name: TP_ESCOLA, dtype: int64"
            ]
          },
          "metadata": {
            "tags": []
          },
          "execution_count": 47
        }
      ]
    },
    {
      "cell_type": "markdown",
      "metadata": {
        "id": "WIvNy5feK7uF"
      },
      "source": [
        "No ano de 2018 os inscritos Altoenses estudaram em escolas do tipo:\n",
        "\n",
        "* 266 Inscritos - Colégio Público\n",
        "* 26 Inscritos - Colégio Exterior\n",
        "* 2 Inscritos - Colégio Privado\n",
        "\n",
        "1145 inscritos não respondeu em que tipo de escola estudaram totalizando os 1439 Altoenses inscritos no ano de 2018."
      ]
    },
    {
      "cell_type": "markdown",
      "metadata": {
        "id": "CGovGem5I57L"
      },
      "source": [
        "##### **2017**"
      ]
    },
    {
      "cell_type": "code",
      "metadata": {
        "id": "YDT2TtVoI8tt",
        "outputId": "fae58074-4fad-4405-ec62-ca42fd8ccebe",
        "colab": {
          "base_uri": "https://localhost:8080/"
        }
      },
      "source": [
        "#Números de inscritos pelo tipo de escola\n",
        "microdadosEnem2017['TP_ESCOLA'].value_counts()"
      ],
      "execution_count": 48,
      "outputs": [
        {
          "output_type": "execute_result",
          "data": {
            "text/plain": [
              "Não Respondeu    1564\n",
              "Pública           383\n",
              "Privada            32\n",
              "Name: TP_ESCOLA, dtype: int64"
            ]
          },
          "metadata": {
            "tags": []
          },
          "execution_count": 48
        }
      ]
    },
    {
      "cell_type": "markdown",
      "metadata": {
        "id": "rgDdM9QZMXo8"
      },
      "source": [
        "No ano de 2017 os inscritos Altoenses estudaram em escolas do tipo:\n",
        "\n",
        "* 383 Inscritos - Colégio Público\n",
        "* 32 Inscritos - Colégio Privado\n",
        "\n",
        "1564 inscritos não respondeu em que tipo de escola estudaram totalizando os 1979 Altoenses inscritos no ano de 2018."
      ]
    },
    {
      "cell_type": "markdown",
      "metadata": {
        "id": "P4WKCOi3I_M8"
      },
      "source": [
        "##### **2016**"
      ]
    },
    {
      "cell_type": "code",
      "metadata": {
        "id": "wcZccvD7JBox",
        "outputId": "8f59647a-217d-43ce-b1b0-20b10afd7b1d",
        "colab": {
          "base_uri": "https://localhost:8080/"
        }
      },
      "source": [
        "#Números de inscritos pelo tipo de escola\n",
        "microdadosEnem2016['TP_ESCOLA'].value_counts()"
      ],
      "execution_count": 49,
      "outputs": [
        {
          "output_type": "execute_result",
          "data": {
            "text/plain": [
              "Não Respondeu    1983\n",
              "Pública           424\n",
              "Privada            43\n",
              "Name: TP_ESCOLA, dtype: int64"
            ]
          },
          "metadata": {
            "tags": []
          },
          "execution_count": 49
        }
      ]
    },
    {
      "cell_type": "markdown",
      "metadata": {
        "id": "T5y8SPcoNCY-"
      },
      "source": [
        "No ano de 2016 os inscritos Altoenses estudaram em escolas do tipo:\n",
        "\n",
        "* 424 Inscritos - Colégio Público\n",
        "* 43 Inscritos - Colégio Privado\n",
        "\n",
        "1983 inscritos não respondeu em que tipo de escola estudaram totalizando os 2450 Altoenses inscritos no ano de 2016."
      ]
    },
    {
      "cell_type": "markdown",
      "metadata": {
        "id": "NeA33ck7OD6K"
      },
      "source": [
        "## **4.0 Divisões dos datasets**"
      ]
    },
    {
      "cell_type": "code",
      "metadata": {
        "id": "qGEvDGKAOHR4"
      },
      "source": [
        ""
      ],
      "execution_count": null,
      "outputs": []
    }
  ]
}