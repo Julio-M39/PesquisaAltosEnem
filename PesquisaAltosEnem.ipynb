{
  "nbformat": 4,
  "nbformat_minor": 0,
  "metadata": {
    "colab": {
      "name": "PesquisaAltosEnem.ipynb",
      "provenance": [],
      "collapsed_sections": [
        "EHECmtyMEsvz",
        "dXanULzlFlzs",
        "Acsd00smnYO1",
        "N3n6QYATG3Tg",
        "V7qScKDnkdbY",
        "aib9E0utrGrO",
        "F1B3x6u2mD7t",
        "qp9zODpfyTgb",
        "ZhufNgMe2OmS",
        "_3IsiXR-sP6q",
        "YzeaOo3jsm2M",
        "5Eojk5UAssc4",
        "zeGJXvPhsxTb",
        "nUeoLXTsDodv",
        "sjk9GOs6BQfG",
        "-NDnlluGkRdw",
        "sOaDBZowlCr_",
        "XaZe87i5l7Zt",
        "P7vixc35oCyD",
        "rgJ6v9aNx8Sc",
        "spfjO48oIC3i",
        "idz_rt2eId_P",
        "qe9rjCEZBVcH",
        "X3HGj4UcC9Ub",
        "jFq4eHqlELo5",
        "qS9ZcU_7HGQk",
        "ffns34IMTqbV",
        "E0sJIZjBV9f4",
        "RyI-l4a0dyjt",
        "g73SmNbNd819",
        "kTWzgCBlfMJx"
      ],
      "toc_visible": true,
      "authorship_tag": "ABX9TyO2XI1VPhNJdQkcX+7Al1Jq",
      "include_colab_link": true
    },
    "kernelspec": {
      "name": "python3",
      "display_name": "Python 3"
    }
  },
  "cells": [
    {
      "cell_type": "markdown",
      "metadata": {
        "id": "view-in-github",
        "colab_type": "text"
      },
      "source": [
        "<a href=\"https://colab.research.google.com/github/Julio-M39/PesquisaAltosEnem/blob/master/PesquisaAltosEnem.ipynb\" target=\"_parent\"><img src=\"https://colab.research.google.com/assets/colab-badge.svg\" alt=\"Open In Colab\"/></a>"
      ]
    },
    {
      "cell_type": "markdown",
      "metadata": {
        "id": "i7ehziNl_mJm"
      },
      "source": [
        "# **PESQUISA DE DESEMPENHO DOS INSCRITOS ALTOENSE NO ENEM 2016 a 2019 QUE ESTUDARAM EM ESCOLAS PÚBLICAS NO MUNICÍPIO DE ALTOS NO ESTADO DO PIAUÍ**"
      ]
    },
    {
      "cell_type": "markdown",
      "metadata": {
        "id": "EHECmtyMEsvz"
      },
      "source": [
        "## **1.0 Bibliotecas**"
      ]
    },
    {
      "cell_type": "code",
      "metadata": {
        "id": "IkaK3jRK_HFs"
      },
      "source": [
        "#Importando Bibliotecas\n",
        "import pandas as pd\n",
        "import matplotlib.pyplot as plt\n",
        "import matplotlib as mpl\n",
        "import numpy as np\n",
        "plt.style.use('seaborn')\n",
        "pd.options.mode.chained_assignment = None"
      ],
      "execution_count": null,
      "outputs": []
    },
    {
      "cell_type": "markdown",
      "metadata": {
        "id": "dXanULzlFlzs"
      },
      "source": [
        "## **2.0 Lendo os Dados**"
      ]
    },
    {
      "cell_type": "code",
      "metadata": {
        "id": "2GASPlSJ776V"
      },
      "source": [
        "#Selecionando as bases de dados\n",
        "fonte2016 = 'https://github.com/Julio-M39/PesquisaAltosEnem/blob/master/microdadosEnem2016.csv?raw=true'\n",
        "fonte2017 = 'https://github.com/Julio-M39/PesquisaAltosEnem/blob/master/microdadosEnem2017.csv?raw=true'\n",
        "fonte2018 = 'https://github.com/Julio-M39/PesquisaAltosEnem/blob/master/microdadosEnem2018.csv?raw=true'\n",
        "fonte2019 = 'https://github.com/Julio-M39/PesquisaAltosEnem/blob/master/microdadosEnem2019.csv?raw=true'"
      ],
      "execution_count": null,
      "outputs": []
    },
    {
      "cell_type": "code",
      "metadata": {
        "id": "p39d2zSw-2KT"
      },
      "source": [
        "#Leitura de dados\n",
        "microdadosEnem2016 = pd.read_csv(fonte2016)\n",
        "microdadosEnem2017 = pd.read_csv(fonte2017)\n",
        "microdadosEnem2018 = pd.read_csv(fonte2018)\n",
        "microdadosEnem2019 = pd.read_csv(fonte2019)"
      ],
      "execution_count": null,
      "outputs": []
    },
    {
      "cell_type": "markdown",
      "metadata": {
        "id": "Acsd00smnYO1"
      },
      "source": [
        "## **3.0 Dataframe**"
      ]
    },
    {
      "cell_type": "code",
      "metadata": {
        "id": "Er9Alfpz_GNf",
        "outputId": "1fb09f35-afc1-43ed-b8d4-5963b8d5ecbd",
        "colab": {
          "base_uri": "https://localhost:8080/"
        }
      },
      "source": [
        "#Visualização do Dataframe\n",
        "microdadosEnem2019.head(3)"
      ],
      "execution_count": null,
      "outputs": [
        {
          "output_type": "execute_result",
          "data": {
            "text/html": [
              "<div>\n",
              "<style scoped>\n",
              "    .dataframe tbody tr th:only-of-type {\n",
              "        vertical-align: middle;\n",
              "    }\n",
              "\n",
              "    .dataframe tbody tr th {\n",
              "        vertical-align: top;\n",
              "    }\n",
              "\n",
              "    .dataframe thead th {\n",
              "        text-align: right;\n",
              "    }\n",
              "</style>\n",
              "<table border=\"1\" class=\"dataframe\">\n",
              "  <thead>\n",
              "    <tr style=\"text-align: right;\">\n",
              "      <th></th>\n",
              "      <th>Unnamed: 0</th>\n",
              "      <th>NU_INSCRICAO</th>\n",
              "      <th>NU_ANO</th>\n",
              "      <th>NO_MUNICIPIO_RESIDENCIA</th>\n",
              "      <th>SG_UF_RESIDENCIA</th>\n",
              "      <th>NU_IDADE</th>\n",
              "      <th>TP_SEXO</th>\n",
              "      <th>TP_ST_CONCLUSAO</th>\n",
              "      <th>TP_ESCOLA</th>\n",
              "      <th>NO_MUNICIPIO_ESC</th>\n",
              "      <th>TP_DEPENDENCIA_ADM_ESC</th>\n",
              "      <th>NO_MUNICIPIO_PROVA</th>\n",
              "      <th>NU_NOTA_CN</th>\n",
              "      <th>NU_NOTA_CH</th>\n",
              "      <th>NU_NOTA_LC</th>\n",
              "      <th>NU_NOTA_MT</th>\n",
              "      <th>NU_NOTA_REDACAO</th>\n",
              "    </tr>\n",
              "  </thead>\n",
              "  <tbody>\n",
              "    <tr>\n",
              "      <th>0</th>\n",
              "      <td>91345</td>\n",
              "      <td>190001095974</td>\n",
              "      <td>2019</td>\n",
              "      <td>Altos</td>\n",
              "      <td>PI</td>\n",
              "      <td>18</td>\n",
              "      <td>M</td>\n",
              "      <td>2</td>\n",
              "      <td>2</td>\n",
              "      <td>Altos</td>\n",
              "      <td>2.0</td>\n",
              "      <td>Altos</td>\n",
              "      <td>488.1</td>\n",
              "      <td>454.3</td>\n",
              "      <td>562.8</td>\n",
              "      <td>516.0</td>\n",
              "      <td>640.0</td>\n",
              "    </tr>\n",
              "    <tr>\n",
              "      <th>1</th>\n",
              "      <td>91355</td>\n",
              "      <td>190001095984</td>\n",
              "      <td>2019</td>\n",
              "      <td>Altos</td>\n",
              "      <td>PI</td>\n",
              "      <td>25</td>\n",
              "      <td>F</td>\n",
              "      <td>1</td>\n",
              "      <td>1</td>\n",
              "      <td>NaN</td>\n",
              "      <td>NaN</td>\n",
              "      <td>Altos</td>\n",
              "      <td>424.0</td>\n",
              "      <td>440.8</td>\n",
              "      <td>539.0</td>\n",
              "      <td>462.5</td>\n",
              "      <td>560.0</td>\n",
              "    </tr>\n",
              "    <tr>\n",
              "      <th>2</th>\n",
              "      <td>91397</td>\n",
              "      <td>190001096026</td>\n",
              "      <td>2019</td>\n",
              "      <td>Altos</td>\n",
              "      <td>PI</td>\n",
              "      <td>23</td>\n",
              "      <td>F</td>\n",
              "      <td>1</td>\n",
              "      <td>1</td>\n",
              "      <td>NaN</td>\n",
              "      <td>NaN</td>\n",
              "      <td>Altos</td>\n",
              "      <td>426.5</td>\n",
              "      <td>442.4</td>\n",
              "      <td>455.3</td>\n",
              "      <td>413.3</td>\n",
              "      <td>720.0</td>\n",
              "    </tr>\n",
              "  </tbody>\n",
              "</table>\n",
              "</div>"
            ],
            "text/plain": [
              "   Unnamed: 0  NU_INSCRICAO  NU_ANO  ... NU_NOTA_LC NU_NOTA_MT  NU_NOTA_REDACAO\n",
              "0       91345  190001095974    2019  ...      562.8      516.0            640.0\n",
              "1       91355  190001095984    2019  ...      539.0      462.5            560.0\n",
              "2       91397  190001096026    2019  ...      455.3      413.3            720.0\n",
              "\n",
              "[3 rows x 17 columns]"
            ]
          },
          "metadata": {
            "tags": []
          },
          "execution_count": 477
        }
      ]
    },
    {
      "cell_type": "markdown",
      "metadata": {
        "id": "QAKvQfp6faRa"
      },
      "source": [
        "Visualização de apenas um Dataframe pois os outros seguem o mesmo padrão de colunas, ou seja as colunas de todos os Dataframes são iguais"
      ]
    },
    {
      "cell_type": "code",
      "metadata": {
        "id": "a-jRaZXStjhA",
        "outputId": "f0b882c5-53ee-4eb7-c07a-e8d132f1552f",
        "colab": {
          "base_uri": "https://localhost:8080/"
        }
      },
      "source": [
        "#Tamanho dos Dataframes\n",
        "microdadosEnem2016.shape, microdadosEnem2017.shape, microdadosEnem2018.shape, microdadosEnem2019.shape"
      ],
      "execution_count": null,
      "outputs": [
        {
          "output_type": "execute_result",
          "data": {
            "text/plain": [
              "((2450, 17), (1979, 17), (1439, 17), (1507, 17))"
            ]
          },
          "metadata": {
            "tags": []
          },
          "execution_count": 478
        }
      ]
    },
    {
      "cell_type": "markdown",
      "metadata": {
        "id": "N3n6QYATG3Tg"
      },
      "source": [
        "## **4.0 Explorando os Dados**"
      ]
    },
    {
      "cell_type": "code",
      "metadata": {
        "id": "EW2gWoIjrZ6j"
      },
      "source": [
        "# variáveis para os gráficos\n",
        "anos = ['2016', '2017', '2018', '2019']"
      ],
      "execution_count": null,
      "outputs": []
    },
    {
      "cell_type": "markdown",
      "metadata": {
        "id": "V7qScKDnkdbY"
      },
      "source": [
        "### **4.1 Números de inscritos Altoenses por ano**"
      ]
    },
    {
      "cell_type": "code",
      "metadata": {
        "id": "yx1HlUtFj6aP",
        "outputId": "34fbe6f2-51b9-4535-a656-027e0fe04601",
        "colab": {
          "base_uri": "https://localhost:8080/"
        }
      },
      "source": [
        "#Verificando se existem inscrições vazias\n",
        "print(microdadosEnem2016['NU_INSCRICAO'].isnull().sum())\n"
      ],
      "execution_count": null,
      "outputs": [
        {
          "output_type": "stream",
          "text": [
            "0\n"
          ],
          "name": "stdout"
        }
      ]
    },
    {
      "cell_type": "markdown",
      "metadata": {
        "id": "_eK42YIrlmYt"
      },
      "source": [
        "Todas as linhas de inscritos estão preenchidas"
      ]
    },
    {
      "cell_type": "code",
      "metadata": {
        "id": "Kyr6agyVexk3",
        "outputId": "407e659d-0e75-4be1-94d2-5b7c1b2342af",
        "colab": {
          "base_uri": "https://localhost:8080/"
        }
      },
      "source": [
        "#Número de inscritos\n",
        "print(microdadosEnem2016['NU_INSCRICAO'].shape,\n",
        "      microdadosEnem2017['NU_INSCRICAO'].shape,\n",
        "      microdadosEnem2018['NU_INSCRICAO'].shape,\n",
        "      microdadosEnem2019['NU_INSCRICAO'].shape)"
      ],
      "execution_count": null,
      "outputs": [
        {
          "output_type": "stream",
          "text": [
            "(2450,) (1979,) (1439,) (1507,)\n"
          ],
          "name": "stdout"
        }
      ]
    },
    {
      "cell_type": "code",
      "metadata": {
        "id": "zbqVGGPcr8NO"
      },
      "source": [
        "#Selecionando e salvando os números de inscritos que tiveram em cada edição de 2016 a 2019\n",
        "inscritos2016 = microdadosEnem2016['NU_INSCRICAO'].count()\n",
        "inscritos2017 = microdadosEnem2017['NU_INSCRICAO'].count()\n",
        "inscritos2018 = microdadosEnem2018['NU_INSCRICAO'].count()\n",
        "inscritos2019 = microdadosEnem2019['NU_INSCRICAO'].count()"
      ],
      "execution_count": null,
      "outputs": []
    },
    {
      "cell_type": "code",
      "metadata": {
        "id": "YjazddZVsc1L",
        "outputId": "a5143b24-81f4-43e0-e72e-995505dbf21a",
        "colab": {
          "base_uri": "https://localhost:8080/"
        }
      },
      "source": [
        "#Salvando os números de inscritos em variáveis\n",
        "inscritos2016, inscritos2017, inscritos2018, inscritos2019"
      ],
      "execution_count": null,
      "outputs": [
        {
          "output_type": "execute_result",
          "data": {
            "text/plain": [
              "(2450, 1979, 1439, 1507)"
            ]
          },
          "metadata": {
            "tags": []
          },
          "execution_count": 483
        }
      ]
    },
    {
      "cell_type": "code",
      "metadata": {
        "id": "trG-tohuswg6"
      },
      "source": [
        "# variável para visualização no gráfico\n",
        "inscritos_por_ano = []"
      ],
      "execution_count": null,
      "outputs": []
    },
    {
      "cell_type": "code",
      "metadata": {
        "id": "OwXKTb5Usre-"
      },
      "source": [
        "# Adicionando as consultas na lista inscritos_por_ano\n",
        "inscritos_por_ano.append(inscritos2016)\n",
        "inscritos_por_ano.append(inscritos2017)\n",
        "inscritos_por_ano.append(inscritos2018)\n",
        "inscritos_por_ano.append(inscritos2019)"
      ],
      "execution_count": null,
      "outputs": []
    },
    {
      "cell_type": "code",
      "metadata": {
        "id": "jDCYPrIHs30I",
        "outputId": "be603530-b0e3-4a83-996d-e1b2689e94bf",
        "colab": {
          "base_uri": "https://localhost:8080/"
        }
      },
      "source": [
        "#Verificando a nossa lista\n",
        "inscritos_por_ano"
      ],
      "execution_count": null,
      "outputs": [
        {
          "output_type": "execute_result",
          "data": {
            "text/plain": [
              "[2450, 1979, 1439, 1507]"
            ]
          },
          "metadata": {
            "tags": []
          },
          "execution_count": 486
        }
      ]
    },
    {
      "cell_type": "markdown",
      "metadata": {
        "id": "aib9E0utrGrO"
      },
      "source": [
        "#### **4.1.1 Visualização**"
      ]
    },
    {
      "cell_type": "code",
      "metadata": {
        "id": "xky8XgfmrPbn",
        "outputId": "91faa7d4-de43-46ee-abb7-f007d9fb7312",
        "colab": {
          "base_uri": "https://localhost:8080/"
        }
      },
      "source": [
        "plt.figure(figsize = (10, 5))\n",
        "plt.bar(anos, inscritos_por_ano, color='#37A6A6', width=0.50)\n",
        "plt.title('INSCRITOS ALTOENSES POR ANO (ENEM 2016-2019)', fontsize=18, fontweight=600);\n",
        "plt.tick_params(labelsize=15)"
      ],
      "execution_count": null,
      "outputs": [
        {
          "output_type": "display_data",
          "data": {
            "image/png": "[encoded data removed]",
            "text/plain": [
              "<Figure size 720x360 with 1 Axes>"
            ]
          },
          "metadata": {
            "tags": []
          }
        }
      ]
    },
    {
      "cell_type": "markdown",
      "metadata": {
        "id": "O8Ur2pdkkyVt"
      },
      "source": [
        "Números de inscritos que residem em Altos por ano:\n",
        "\n",
        "* Ano de 2016 - 2450 Inscritos\n",
        "* Ano de 2017 - 1979 Inscritos\n",
        "* Ano de 2018 - 1439 Inscritos\n",
        "* Ano de 2019 - 1507 Inscritos"
      ]
    },
    {
      "cell_type": "markdown",
      "metadata": {
        "id": "F1B3x6u2mD7t"
      },
      "source": [
        "### **4.2 Números de inscritos Altoenses pelo município da escola onde estudaram**"
      ]
    },
    {
      "cell_type": "markdown",
      "metadata": {
        "id": "qp9zODpfyTgb"
      },
      "source": [
        "#### **4.2.1 Substituindo os valores da coluna NO_MUNICIPIO_ESC**"
      ]
    },
    {
      "cell_type": "markdown",
      "metadata": {
        "id": "Yeg18Zo3zCME"
      },
      "source": [
        "No Dataframe original a coluna **NO_MUNICIPIO_ESC** contêm os nomes dos municípios onde os inscritos altoenses estudaram, aqueles que não responderam o campo na coluna fica com valor igual a NaN"
      ]
    },
    {
      "cell_type": "code",
      "metadata": {
        "id": "UA8OIyxwwPE4"
      },
      "source": [
        "#Trocando os campos sem valores (NaN por Não Respondeu)\n",
        "microdadosEnem2016['NO_MUNICIPIO_ESC'] = microdadosEnem2016['NO_MUNICIPIO_ESC'].fillna('Não Respondeu')\n",
        "microdadosEnem2017['NO_MUNICIPIO_ESC'] = microdadosEnem2017['NO_MUNICIPIO_ESC'].fillna('Não Respondeu')\n",
        "microdadosEnem2018['NO_MUNICIPIO_ESC'] = microdadosEnem2018['NO_MUNICIPIO_ESC'].fillna('Não Respondeu')\n",
        "microdadosEnem2019['NO_MUNICIPIO_ESC'] = microdadosEnem2019['NO_MUNICIPIO_ESC'].fillna('Não Respondeu')"
      ],
      "execution_count": null,
      "outputs": []
    },
    {
      "cell_type": "markdown",
      "metadata": {
        "id": "HQWylkDPzXko"
      },
      "source": [
        "Trocando os campos vazios por \"Não Respondeu\""
      ]
    },
    {
      "cell_type": "code",
      "metadata": {
        "id": "lrW_UDv85dNz",
        "outputId": "bd139664-3333-4937-fa37-68ba4ffa65c4",
        "colab": {
          "base_uri": "https://localhost:8080/"
        }
      },
      "source": [
        "#Novos valores\n",
        "microdadosEnem2019['NO_MUNICIPIO_ESC'].value_counts()\n"
      ],
      "execution_count": null,
      "outputs": [
        {
          "output_type": "execute_result",
          "data": {
            "text/plain": [
              "Não Respondeu          1217\n",
              "Altos                   233\n",
              "Teresina                 47\n",
              "Campo Maior               7\n",
              "Pau D'Arco do Piauí       2\n",
              "Bom Jesus                 1\n",
              "Name: NO_MUNICIPIO_ESC, dtype: int64"
            ]
          },
          "metadata": {
            "tags": []
          },
          "execution_count": 489
        }
      ]
    },
    {
      "cell_type": "markdown",
      "metadata": {
        "id": "ZhufNgMe2OmS"
      },
      "source": [
        "#### **4.2.2 Números de inscritos Altoenses pelo município da escola onde estudaram**"
      ]
    },
    {
      "cell_type": "markdown",
      "metadata": {
        "id": "_3IsiXR-sP6q"
      },
      "source": [
        "##### **2019**"
      ]
    },
    {
      "cell_type": "code",
      "metadata": {
        "id": "ifkj8gPgmmiq",
        "outputId": "bb4fa991-12a8-4682-e885-deaa0a15e118",
        "colab": {
          "base_uri": "https://localhost:8080/"
        }
      },
      "source": [
        "#Verificar os nomes dos municípios onde os inscritos Altoenses estudaram em 2019\n",
        "microdadosEnem2019['NO_MUNICIPIO_ESC'].value_counts()"
      ],
      "execution_count": null,
      "outputs": [
        {
          "output_type": "execute_result",
          "data": {
            "text/plain": [
              "Não Respondeu          1217\n",
              "Altos                   233\n",
              "Teresina                 47\n",
              "Campo Maior               7\n",
              "Pau D'Arco do Piauí       2\n",
              "Bom Jesus                 1\n",
              "Name: NO_MUNICIPIO_ESC, dtype: int64"
            ]
          },
          "metadata": {
            "tags": []
          },
          "execution_count": 490
        }
      ]
    },
    {
      "cell_type": "markdown",
      "metadata": {
        "id": "C9y8WQtaoXFt"
      },
      "source": [
        "Em 2019 os municípios onde os Altoenses estudaram foram:\n",
        "\n",
        "* 233 Inscritos - Município de Altos\n",
        "* 47 Inscritos - Município de Teresina \n",
        "* 7 Inscritos - Município de Campo Maior\n",
        "* 2 Inscritos - Município de Pau D'Arco do Piauí\n",
        "* 1 Inscritos - Município de Bom Jesus\n",
        "\n",
        "1217 Inscritos não responderam com o nome do município da escola onde estudou ou estuda, totalizando os 1507 inscritos no ano de 2019.\n",
        "\n",
        "\n",
        "\n"
      ]
    },
    {
      "cell_type": "markdown",
      "metadata": {
        "id": "YzeaOo3jsm2M"
      },
      "source": [
        "##### **2018**"
      ]
    },
    {
      "cell_type": "code",
      "metadata": {
        "id": "9fka5cMZm35W",
        "outputId": "6e9b944d-8806-42a4-9920-9b3f7b5e1489",
        "colab": {
          "base_uri": "https://localhost:8080/"
        }
      },
      "source": [
        "#Verificar os nomes dos municípios onde os inscritos Altoenses estudaram em 2018\n",
        "microdadosEnem2018['NO_MUNICIPIO_ESC'].value_counts()"
      ],
      "execution_count": null,
      "outputs": [
        {
          "output_type": "execute_result",
          "data": {
            "text/plain": [
              "Não Respondeu          1132\n",
              "Altos                   257\n",
              "Teresina                 44\n",
              "Pau D'Arco do Piauí       3\n",
              "Campo Maior               2\n",
              "São João da Serra         1\n",
              "Name: NO_MUNICIPIO_ESC, dtype: int64"
            ]
          },
          "metadata": {
            "tags": []
          },
          "execution_count": 491
        }
      ]
    },
    {
      "cell_type": "markdown",
      "metadata": {
        "id": "yQTIxwKkrqy3"
      },
      "source": [
        "Em 2018 os municípios onde os Altoenses estudaram foram:\n",
        "\n",
        "* 257 Inscritos - Município de Altos\n",
        "* 44 Inscritos - Município de Teresina\n",
        "* 3 Inscritos - Município de Pau D'Arco do Piauí\n",
        "* 2 Inscritos - Município de Campo Maior\n",
        "* 1 Inscritos - Município de São João da Serra\n",
        "\n",
        "1132 Inscritos não responderam com o nome do município da escola onde estudou ou estuda, totalizando os 1439 inscritos no ano de 2018."
      ]
    },
    {
      "cell_type": "markdown",
      "metadata": {
        "id": "5Eojk5UAssc4"
      },
      "source": [
        "##### **2017**"
      ]
    },
    {
      "cell_type": "code",
      "metadata": {
        "id": "BF5fVooitLjr",
        "outputId": "bc58e7f2-1ea0-489d-cc87-9910aa31ffb2",
        "colab": {
          "base_uri": "https://localhost:8080/"
        }
      },
      "source": [
        "#Verificar os nomes dos municípios onde os inscritos Altoenses estudaram em 2017\n",
        "microdadosEnem2017['NO_MUNICIPIO_ESC'].value_counts()"
      ],
      "execution_count": null,
      "outputs": [
        {
          "output_type": "execute_result",
          "data": {
            "text/plain": [
              "Não Respondeu          1564\n",
              "Altos                   372\n",
              "Teresina                 34\n",
              "Pau D'Arco do Piauí       4\n",
              "Campo Maior               4\n",
              "Coivaras                  1\n",
              "Name: NO_MUNICIPIO_ESC, dtype: int64"
            ]
          },
          "metadata": {
            "tags": []
          },
          "execution_count": 492
        }
      ]
    },
    {
      "cell_type": "markdown",
      "metadata": {
        "id": "c7Tx1pb7uodz"
      },
      "source": [
        "Em 2017 os municípios onde os Altoenses estudaram foram:\n",
        "\n",
        "* 372 Inscritos - Município de Altos\n",
        "* 34 Inscritos - Município de Teresina\n",
        "* 4 Inscritos - Município de Pau D'Arco do Piauí\n",
        "* 4 Inscritos - Município de Campo Maior\n",
        "* 1 Inscritos - Município de Coivaras\n",
        "\n",
        "1564 Inscritos não responderam com o nome do município da escola onde estudou ou estuda, totalizando os 1979 inscritos no ano de 2017."
      ]
    },
    {
      "cell_type": "markdown",
      "metadata": {
        "id": "zeGJXvPhsxTb"
      },
      "source": [
        "##### **2016**"
      ]
    },
    {
      "cell_type": "code",
      "metadata": {
        "id": "RQhpOSbJwj7a",
        "outputId": "33839940-426a-4e5a-8e0d-08e87eb01ec4",
        "colab": {
          "base_uri": "https://localhost:8080/"
        }
      },
      "source": [
        "#Verificar os nomes dos municípios onde os inscritos Altoenses estudaram em 2016\n",
        "microdadosEnem2016['NO_MUNICIPIO_ESC'].value_counts()"
      ],
      "execution_count": null,
      "outputs": [
        {
          "output_type": "execute_result",
          "data": {
            "text/plain": [
              "Não Respondeu          1983\n",
              "Altos                   409\n",
              "Teresina                 42\n",
              "Pau D'Arco do Piauí      13\n",
              "Corrente                  1\n",
              "Beneditinos               1\n",
              "Santa Inês                1\n",
              "Name: NO_MUNICIPIO_ESC, dtype: int64"
            ]
          },
          "metadata": {
            "tags": []
          },
          "execution_count": 493
        }
      ]
    },
    {
      "cell_type": "markdown",
      "metadata": {
        "id": "MUdfrcAUwqes"
      },
      "source": [
        "Em 2016 os municípios onde os Altoenses estudaram foram:\n",
        "\n",
        "* 409 Inscritos - Município de Altos\n",
        "* 42 Inscritos - Município de Teresina\n",
        "* 13 Inscritos - Município de Pau D'Arco do Piauí\n",
        "* 1 Inscrito - Município de Corrente\n",
        "* 1 Inscritos - Município de Santa Inês\n",
        "* 1 Inscritos - Município de Beneditinos\n",
        "\n",
        "1983 Inscritos não responderam com o nome do município da escola onde estudou ou estuda, totalizando os 2450 inscritos no ano de 2016."
      ]
    },
    {
      "cell_type": "markdown",
      "metadata": {
        "id": "nUeoLXTsDodv"
      },
      "source": [
        "#### **4.2.3 Novo Dataframe e novos valores**"
      ]
    },
    {
      "cell_type": "code",
      "metadata": {
        "id": "sqfjKPNBBPU0"
      },
      "source": [
        "#Cópias dos Dataframes\n",
        "microdadoNovo2016 = microdadosEnem2016[['NU_INSCRICAO','NO_MUNICIPIO_ESC','TP_ESCOLA','NU_NOTA_CN','NU_NOTA_CH','NU_NOTA_LC','NU_NOTA_MT','NU_NOTA_REDACAO']]\n",
        "microdadoNovo2017 = microdadosEnem2017[['NU_INSCRICAO','NO_MUNICIPIO_ESC','TP_ESCOLA','NU_NOTA_CN','NU_NOTA_CH','NU_NOTA_LC','NU_NOTA_MT','NU_NOTA_REDACAO']]\n",
        "microdadoNovo2018 = microdadosEnem2018[['NU_INSCRICAO','NO_MUNICIPIO_ESC','TP_ESCOLA','NU_NOTA_CN','NU_NOTA_CH','NU_NOTA_LC','NU_NOTA_MT','NU_NOTA_REDACAO']]\n",
        "microdadoNovo2019 = microdadosEnem2019[['NU_INSCRICAO','NO_MUNICIPIO_ESC','TP_ESCOLA','NU_NOTA_CN','NU_NOTA_CH','NU_NOTA_LC','NU_NOTA_MT','NU_NOTA_REDACAO']]"
      ],
      "execution_count": null,
      "outputs": []
    },
    {
      "cell_type": "code",
      "metadata": {
        "id": "ejoW69W_EBNv"
      },
      "source": [
        "#Novos valores no novo Dataframe\n",
        "microdadoNovo2016['NO_MUNICIPIO_ESC'] = microdadoNovo2016['NO_MUNICIPIO_ESC'].map({\"Não Respondeu\": \"Não Respondeu\", \"Altos\": \"Altos\", \"Teresina\": \"Outros\" , \"Pau D'Arco do Piauí\": \"Outros\", \"Santa Inês\": \"Outros\", \"Beneditinos\": \"Outros\", \"Corrente\": \"Outros\"})\n",
        "microdadoNovo2017['NO_MUNICIPIO_ESC'] = microdadoNovo2017['NO_MUNICIPIO_ESC'].map({\"Não Respondeu\": \"Não Respondeu\", \"Altos\": \"Altos\", \"Teresina\": \"Outros\" , \"Pau D'Arco do Piauí\": \"Outros\", \"Campo Maior\": \"Outros\", \"Coivaras\": \"Outros\"})\n",
        "microdadoNovo2018['NO_MUNICIPIO_ESC'] = microdadoNovo2018['NO_MUNICIPIO_ESC'].map({\"Não Respondeu\": \"Não Respondeu\", \"Altos\": \"Altos\", \"Teresina\": \"Outros\" , \"Pau D'Arco do Piauí\": \"Outros\", \"Campo Maior\": \"Outros\", \"São João da Serra\": \"Outros\"})\n",
        "microdadoNovo2019['NO_MUNICIPIO_ESC'] = microdadoNovo2019['NO_MUNICIPIO_ESC'].map({\"Não Respondeu\": \"Não Respondeu\", \"Altos\": \"Altos\", \"Teresina\": \"Outros\" , \"Pau D'Arco do Piauí\": \"Outros\", \"Campo Maior\": \"Outros\", \"Bom Jesus\": \"Outros\"})"
      ],
      "execution_count": null,
      "outputs": []
    },
    {
      "cell_type": "markdown",
      "metadata": {
        "id": "x99i-B90EShz"
      },
      "source": [
        "Substituindo os nomes dos municípios, para essa pesquisa só interessa o município de Altos.\n",
        "Vamos deixar aqueles que não responderam, aquele que estudaram em Altos e os outros municípios será agrupados em outros"
      ]
    },
    {
      "cell_type": "code",
      "metadata": {
        "id": "je4UXVHWExVU",
        "outputId": "4fb83aad-c17c-4d6f-a527-078f3b25bd21",
        "colab": {
          "base_uri": "https://localhost:8080/"
        }
      },
      "source": [
        "#Dataframe original\n",
        "microdadosEnem2016['NO_MUNICIPIO_ESC'].value_counts()"
      ],
      "execution_count": null,
      "outputs": [
        {
          "output_type": "execute_result",
          "data": {
            "text/plain": [
              "Não Respondeu          1983\n",
              "Altos                   409\n",
              "Teresina                 42\n",
              "Pau D'Arco do Piauí      13\n",
              "Corrente                  1\n",
              "Beneditinos               1\n",
              "Santa Inês                1\n",
              "Name: NO_MUNICIPIO_ESC, dtype: int64"
            ]
          },
          "metadata": {
            "tags": []
          },
          "execution_count": 496
        }
      ]
    },
    {
      "cell_type": "code",
      "metadata": {
        "id": "QX38u_hnE36a",
        "outputId": "119705d0-d34c-4812-c839-c93dde62e850",
        "colab": {
          "base_uri": "https://localhost:8080/"
        }
      },
      "source": [
        "#Novo Dataframe com novos valores\n",
        "microdadoNovo2016['NO_MUNICIPIO_ESC'].value_counts()"
      ],
      "execution_count": null,
      "outputs": [
        {
          "output_type": "execute_result",
          "data": {
            "text/plain": [
              "Não Respondeu    1983\n",
              "Altos             409\n",
              "Outros             58\n",
              "Name: NO_MUNICIPIO_ESC, dtype: int64"
            ]
          },
          "metadata": {
            "tags": []
          },
          "execution_count": 497
        }
      ]
    },
    {
      "cell_type": "markdown",
      "metadata": {
        "id": "sjk9GOs6BQfG"
      },
      "source": [
        "#### **4.2.4 Variáveis do gráfico**"
      ]
    },
    {
      "cell_type": "code",
      "metadata": {
        "id": "eLyf7SobkCpA"
      },
      "source": [
        "#Variáveis para o gráfico\n",
        "inscritos_por_altos = []\n",
        "inscritos_por_outros= []\n",
        "inscritos_por_nrsp = []"
      ],
      "execution_count": null,
      "outputs": []
    },
    {
      "cell_type": "markdown",
      "metadata": {
        "id": "-NDnlluGkRdw"
      },
      "source": [
        "##### **Selecionando apenas aqueles que estudam no município de Altos**"
      ]
    },
    {
      "cell_type": "code",
      "metadata": {
        "id": "RZYw9IufkLVb"
      },
      "source": [
        "#Selecionando quem estuda em Altos\n",
        "estuda_altos2016 = microdadoNovo2016.query('(NO_MUNICIPIO_ESC == \"Altos\")')['NO_MUNICIPIO_ESC'].count()\n",
        "estuda_altos2017 = microdadoNovo2017.query('(NO_MUNICIPIO_ESC == \"Altos\")')['NO_MUNICIPIO_ESC'].count()\n",
        "estuda_altos2018 = microdadoNovo2018.query('(NO_MUNICIPIO_ESC == \"Altos\")')['NO_MUNICIPIO_ESC'].count()\n",
        "estuda_altos2019 = microdadoNovo2019.query('(NO_MUNICIPIO_ESC == \"Altos\")')['NO_MUNICIPIO_ESC'].count()"
      ],
      "execution_count": null,
      "outputs": []
    },
    {
      "cell_type": "code",
      "metadata": {
        "id": "BhKgJIYTkkds",
        "outputId": "cb3f45e9-155e-4f05-f2b5-a2fe32bcf8d6",
        "colab": {
          "base_uri": "https://localhost:8080/"
        }
      },
      "source": [
        "#Números de inscritos que estudaram no município de Altos\n",
        "estuda_altos2016, estuda_altos2017, estuda_altos2018, estuda_altos2019"
      ],
      "execution_count": null,
      "outputs": [
        {
          "output_type": "execute_result",
          "data": {
            "text/plain": [
              "(409, 372, 257, 233)"
            ]
          },
          "metadata": {
            "tags": []
          },
          "execution_count": 500
        }
      ]
    },
    {
      "cell_type": "code",
      "metadata": {
        "id": "qLQ3lt1jk6Np"
      },
      "source": [
        "# Adicionando as consultas na lista inscritos_por_altos\n",
        "inscritos_por_altos.append(estuda_altos2016)\n",
        "inscritos_por_altos.append(estuda_altos2017)\n",
        "inscritos_por_altos.append(estuda_altos2018)\n",
        "inscritos_por_altos.append(estuda_altos2019)"
      ],
      "execution_count": null,
      "outputs": []
    },
    {
      "cell_type": "code",
      "metadata": {
        "id": "V3p9Zw8wk8Tz",
        "outputId": "24296bfc-dfbe-4eaa-d8da-97614923086d",
        "colab": {
          "base_uri": "https://localhost:8080/"
        }
      },
      "source": [
        "#Conferindo a nossa lista\n",
        "inscritos_por_altos"
      ],
      "execution_count": null,
      "outputs": [
        {
          "output_type": "execute_result",
          "data": {
            "text/plain": [
              "[409, 372, 257, 233]"
            ]
          },
          "metadata": {
            "tags": []
          },
          "execution_count": 502
        }
      ]
    },
    {
      "cell_type": "markdown",
      "metadata": {
        "id": "sOaDBZowlCr_"
      },
      "source": [
        "##### **Selecionando quem não respondeu onde estudaram**"
      ]
    },
    {
      "cell_type": "code",
      "metadata": {
        "id": "5QjqG8XklLZp"
      },
      "source": [
        "#Selecionando quem não respondeu onde estudaram\n",
        "nrsp_2016 = microdadoNovo2016.query('(NO_MUNICIPIO_ESC == \"Não Respondeu\")')['NO_MUNICIPIO_ESC'].count()\n",
        "nrsp_2017 = microdadoNovo2017.query('(NO_MUNICIPIO_ESC == \"Não Respondeu\")')['NO_MUNICIPIO_ESC'].count()\n",
        "nrsp_2018 = microdadoNovo2018.query('(NO_MUNICIPIO_ESC == \"Não Respondeu\")')['NO_MUNICIPIO_ESC'].count()\n",
        "nrsp_2019 = microdadoNovo2019.query('(NO_MUNICIPIO_ESC == \"Não Respondeu\")')['NO_MUNICIPIO_ESC'].count()"
      ],
      "execution_count": null,
      "outputs": []
    },
    {
      "cell_type": "code",
      "metadata": {
        "id": "EUqKm7yileSc",
        "outputId": "804d3230-1992-432e-9a7e-c3495b995df7",
        "colab": {
          "base_uri": "https://localhost:8080/"
        }
      },
      "source": [
        "#Números de inscritos que não responderam onde estudaram\n",
        "nrsp_2016, nrsp_2017, nrsp_2018, nrsp_2019"
      ],
      "execution_count": null,
      "outputs": [
        {
          "output_type": "execute_result",
          "data": {
            "text/plain": [
              "(1983, 1564, 1132, 1217)"
            ]
          },
          "metadata": {
            "tags": []
          },
          "execution_count": 504
        }
      ]
    },
    {
      "cell_type": "code",
      "metadata": {
        "id": "ByoSapIelwxo"
      },
      "source": [
        "# Adicionando as consultas na lista inscritos_por_altos\n",
        "inscritos_por_nrsp.append(nrsp_2016)\n",
        "inscritos_por_nrsp.append(nrsp_2017)\n",
        "inscritos_por_nrsp.append(nrsp_2018)\n",
        "inscritos_por_nrsp.append(nrsp_2019)"
      ],
      "execution_count": null,
      "outputs": []
    },
    {
      "cell_type": "code",
      "metadata": {
        "id": "Jn-wVeGWlf-9",
        "outputId": "2de2cf1f-5c51-4769-bdd0-82451e5288e6",
        "colab": {
          "base_uri": "https://localhost:8080/"
        }
      },
      "source": [
        "#Conferindo a nossa lista\n",
        "inscritos_por_nrsp"
      ],
      "execution_count": null,
      "outputs": [
        {
          "output_type": "execute_result",
          "data": {
            "text/plain": [
              "[1983, 1564, 1132, 1217]"
            ]
          },
          "metadata": {
            "tags": []
          },
          "execution_count": 506
        }
      ]
    },
    {
      "cell_type": "markdown",
      "metadata": {
        "id": "XaZe87i5l7Zt"
      },
      "source": [
        "##### **Selecionando quem estudou em outros municípios**"
      ]
    },
    {
      "cell_type": "code",
      "metadata": {
        "id": "cBP2V7GAmBEU"
      },
      "source": [
        "#Selecionando quem estudaram em outros municípios\n",
        "outros_2016 = microdadoNovo2016.query('(NO_MUNICIPIO_ESC ==\t\"Outros\")')['NO_MUNICIPIO_ESC'].count()\n",
        "outros_2017 = microdadoNovo2017.query('(NO_MUNICIPIO_ESC == \"Outros\")')['NO_MUNICIPIO_ESC'].count()\n",
        "outros_2018 = microdadoNovo2018.query('(NO_MUNICIPIO_ESC == \"Outros\")')['NO_MUNICIPIO_ESC'].count()\n",
        "outros_2019 = microdadoNovo2019.query('(NO_MUNICIPIO_ESC == \"Outros\")')['NO_MUNICIPIO_ESC'].count()"
      ],
      "execution_count": null,
      "outputs": []
    },
    {
      "cell_type": "code",
      "metadata": {
        "id": "jIha9fv3mNta",
        "outputId": "de078fd4-d85e-4ef0-d5f4-69bb1beef454",
        "colab": {
          "base_uri": "https://localhost:8080/"
        }
      },
      "source": [
        "#Números de inscritos que não responderam onde estudaram\n",
        "outros_2016, outros_2017, outros_2018, outros_2019"
      ],
      "execution_count": null,
      "outputs": [
        {
          "output_type": "execute_result",
          "data": {
            "text/plain": [
              "(58, 43, 50, 57)"
            ]
          },
          "metadata": {
            "tags": []
          },
          "execution_count": 508
        }
      ]
    },
    {
      "cell_type": "code",
      "metadata": {
        "id": "e4K75B4jmSa0"
      },
      "source": [
        "# Adicionando as consultas na lista inscritos_por_altos\n",
        "inscritos_por_outros.append(outros_2016)\n",
        "inscritos_por_outros.append(outros_2017)\n",
        "inscritos_por_outros.append(outros_2018)\n",
        "inscritos_por_outros.append(outros_2019)"
      ],
      "execution_count": null,
      "outputs": []
    },
    {
      "cell_type": "code",
      "metadata": {
        "id": "eu2VLewsmWra",
        "outputId": "9f71366a-88a4-4da4-dc3c-398f017bd8d3",
        "colab": {
          "base_uri": "https://localhost:8080/"
        }
      },
      "source": [
        "#Conferindo nossa lista\n",
        "inscritos_por_outros"
      ],
      "execution_count": null,
      "outputs": [
        {
          "output_type": "execute_result",
          "data": {
            "text/plain": [
              "[58, 43, 50, 57]"
            ]
          },
          "metadata": {
            "tags": []
          },
          "execution_count": 510
        }
      ]
    },
    {
      "cell_type": "markdown",
      "metadata": {
        "id": "P7vixc35oCyD"
      },
      "source": [
        "#### **4.2.5 Visualização**"
      ]
    },
    {
      "cell_type": "code",
      "metadata": {
        "id": "e_2rWRzkoVLm",
        "outputId": "482a5ccc-2c06-4fea-81dd-0ae9d2061a0a",
        "colab": {
          "base_uri": "https://localhost:8080/"
        }
      },
      "source": [
        "#Largura da barra\n",
        "barWidth = 0.30\n",
        "\n",
        "#Tamanho do gráfico\n",
        "plt.figure(figsize = (12, 6))\n",
        "\n",
        "#Posição da barra\n",
        "b1 = np.arange(len(inscritos_por_nrsp))\n",
        "b2 = [x + barWidth for x in b1]\n",
        "b3 = [x + barWidth for x in b2]\n",
        "\n",
        "#Criaçao de barras\n",
        "plt.bar(b1, inscritos_por_nrsp, color='#37DBA6', width=barWidth, label='Não respondeu')\n",
        "plt.bar(b2, inscritos_por_altos, color='#31A892', width=barWidth, label='Município de Altos')\n",
        "plt.bar(b3, inscritos_por_outros, color='#004E66', width=barWidth, label='Outros municípios')\n",
        "\n",
        "#Legenda\n",
        "plt.xticks([b + barWidth for b in range(len(inscritos_por_nrsp))], anos)\n",
        "plt.title('NÚMERO DE INSCRITOS ALTOENSES POR MUNICÍPIO ONDE ESTUDARAM', fontsize=18, fontweight=600)\n",
        "\n",
        "#Tamanho dos eixos x,y\n",
        "plt.tick_params(labelsize=15)\n",
        "\n",
        "plt.legend();"
      ],
      "execution_count": null,
      "outputs": [
        {
          "output_type": "display_data",
          "data": {
            "image/png": "[encoded data removed]",
            "text/plain": [
              "<Figure size 864x432 with 1 Axes>"
            ]
          },
          "metadata": {
            "tags": []
          }
        }
      ]
    },
    {
      "cell_type": "markdown",
      "metadata": {
        "id": "6zzLAAnSugoJ"
      },
      "source": [
        "**Número de inscritos Altoenses por município onde estudaram:** \n",
        "\n",
        "**No ano de 2016:**\n",
        "* 1983 Inscritos não responderam\n",
        "* 409 Inscritos estudaram no município de Altos\n",
        "* 58 Inscritos responderam que estudaram em outros municípios\n",
        "\n",
        "**No ano de 2017:**\n",
        "* 1564 Inscritos não responderam\n",
        "* 372 Inscritos estudaram no município de Altos\n",
        "* 43 Inscritos responderam que estudaram em outros municípios\n",
        "\n",
        "**No ano de 2018:**\n",
        "* 1132 Inscritos não responderam\n",
        "* 257 Inscritos estudaram no município de Altos\n",
        "* 50 Inscritos responderam que estudaram em outros municípios\n",
        "\n",
        "**No ano de 2019:**\n",
        "* 1217 Inscritos não responderam\n",
        "* 233 Inscritos estudaram no município de Altos\n",
        "* 57 Inscritos responderam que estudaram em outros municípios"
      ]
    },
    {
      "cell_type": "markdown",
      "metadata": {
        "id": "rgJ6v9aNx8Sc"
      },
      "source": [
        "### **4.3 Números de inscritos Altoenses pelo tipo de escola**"
      ]
    },
    {
      "cell_type": "markdown",
      "metadata": {
        "id": "spfjO48oIC3i"
      },
      "source": [
        "#### **4.3.1 Substituindo os valores da coluna TP_ESCOLA**"
      ]
    },
    {
      "cell_type": "markdown",
      "metadata": {
        "id": "WxEEfV0WErxJ"
      },
      "source": [
        "No Dataframe a coluna TP_ESCOLA contêm valores de 1 a 4 para representar os tipos das escolas, sendo eles:\n",
        "\n",
        "* 1 - Não Respondeu\n",
        "* 2 - Pública\n",
        "* 3 - Privada\n",
        "* 4 - Exterior\n"
      ]
    },
    {
      "cell_type": "code",
      "metadata": {
        "id": "RN3Sv6wQFJCN"
      },
      "source": [
        "#Substituindo os valores\n",
        "microdadoNovo2019['TP_ESCOLA'] = microdadoNovo2019['TP_ESCOLA'].map({1: 'Não Respondeu' , 2: 'Pública', 3: 'Privada', 4: 'Exterior'})\n",
        "microdadoNovo2018['TP_ESCOLA'] = microdadoNovo2018['TP_ESCOLA'].map({1: 'Não Respondeu' , 2: 'Pública', 3: 'Privada', 4: 'Exterior'})\n",
        "microdadoNovo2017['TP_ESCOLA'] = microdadoNovo2017['TP_ESCOLA'].map({1: 'Não Respondeu' , 2: 'Pública', 3: 'Privada', 4: 'Exterior'})\n",
        "microdadoNovo2016['TP_ESCOLA'] = microdadoNovo2016['TP_ESCOLA'].map({1: 'Não Respondeu' , 2: 'Pública', 3: 'Privada', 4: 'Exterior'}) \n"
      ],
      "execution_count": null,
      "outputs": []
    },
    {
      "cell_type": "code",
      "metadata": {
        "id": "49UPHPoXHUk4",
        "outputId": "ff0a63ce-fc0a-4735-bf37-ad1da936c50a",
        "colab": {
          "base_uri": "https://localhost:8080/"
        }
      },
      "source": [
        "#Novos valores\n",
        "microdadoNovo2019['TP_ESCOLA'].value_counts()"
      ],
      "execution_count": null,
      "outputs": [
        {
          "output_type": "execute_result",
          "data": {
            "text/plain": [
              "Não Respondeu    1160\n",
              "Pública           325\n",
              "Privada            22\n",
              "Name: TP_ESCOLA, dtype: int64"
            ]
          },
          "metadata": {
            "tags": []
          },
          "execution_count": 513
        }
      ]
    },
    {
      "cell_type": "markdown",
      "metadata": {
        "id": "idz_rt2eId_P"
      },
      "source": [
        "####**4.3.2 Variáveis do gráfico**"
      ]
    },
    {
      "cell_type": "code",
      "metadata": {
        "id": "kPX3yoI6-tQs"
      },
      "source": [
        "#Variáveis para o grafico\n",
        "nrsp_escola_por_ano = []\n",
        "public_escola_por_ano = []\n",
        "priv_escola_por_ano = []"
      ],
      "execution_count": null,
      "outputs": []
    },
    {
      "cell_type": "markdown",
      "metadata": {
        "id": "qe9rjCEZBVcH"
      },
      "source": [
        "##### **Selecionando quem não respondeu o tipo da escola onde estudou**"
      ]
    },
    {
      "cell_type": "code",
      "metadata": {
        "id": "8ia2ybkH_cgB"
      },
      "source": [
        "#Selecionando quem não respondeu o tipo da escola onde estudou\n",
        "nrsp_escola2016 = microdadoNovo2016.query('(TP_ESCOLA == \"Não Respondeu\")')['TP_ESCOLA'].count()\n",
        "nrsp_escola2017 = microdadoNovo2017.query('(TP_ESCOLA == \"Não Respondeu\")')['TP_ESCOLA'].count()\n",
        "nrsp_escola2018 = microdadoNovo2018.query('(TP_ESCOLA == \"Não Respondeu\")')['TP_ESCOLA'].count()\n",
        "nrsp_escola2019 = microdadoNovo2019.query('(TP_ESCOLA == \"Não Respondeu\")')['TP_ESCOLA'].count()"
      ],
      "execution_count": null,
      "outputs": []
    },
    {
      "cell_type": "code",
      "metadata": {
        "id": "SxiojAarAM1H",
        "outputId": "a630e9e9-7826-4fe5-e1f0-149964fa71f3",
        "colab": {
          "base_uri": "https://localhost:8080/"
        }
      },
      "source": [
        "#Não responderam qual o tipo da escola\n",
        "nrsp_escola2016, nrsp_escola2017, nrsp_escola2018, nrsp_escola2019 "
      ],
      "execution_count": null,
      "outputs": [
        {
          "output_type": "execute_result",
          "data": {
            "text/plain": [
              "(1983, 1564, 1145, 1160)"
            ]
          },
          "metadata": {
            "tags": []
          },
          "execution_count": 516
        }
      ]
    },
    {
      "cell_type": "code",
      "metadata": {
        "id": "hbUjpNzOAaGA"
      },
      "source": [
        "#Adicionando os valores a nossa lista\n",
        "nrsp_escola_por_ano.append(nrsp_escola2016)\n",
        "nrsp_escola_por_ano.append(nrsp_escola2017)\n",
        "nrsp_escola_por_ano.append(nrsp_escola2018)\n",
        "nrsp_escola_por_ano.append(nrsp_escola2019)"
      ],
      "execution_count": null,
      "outputs": []
    },
    {
      "cell_type": "code",
      "metadata": {
        "id": "q9_5qrAjBC7c",
        "outputId": "bb75737b-3f0a-4653-ff83-9ae936162f85",
        "colab": {
          "base_uri": "https://localhost:8080/"
        }
      },
      "source": [
        "#Conferindo a nossa lista\n",
        "nrsp_escola_por_ano"
      ],
      "execution_count": null,
      "outputs": [
        {
          "output_type": "execute_result",
          "data": {
            "text/plain": [
              "[1983, 1564, 1145, 1160]"
            ]
          },
          "metadata": {
            "tags": []
          },
          "execution_count": 518
        }
      ]
    },
    {
      "cell_type": "markdown",
      "metadata": {
        "id": "X3HGj4UcC9Ub"
      },
      "source": [
        "##### **Selecionando quem respondeu que estudou em escolas públicas**"
      ]
    },
    {
      "cell_type": "code",
      "metadata": {
        "id": "oEFlhXT2DKsR"
      },
      "source": [
        "#Selecionando quem respondeu que estudou em escolas públicas\n",
        "public_escola2016 = microdadoNovo2016.query('(TP_ESCOLA == \"Pública\")')['TP_ESCOLA'].count()\n",
        "public_escola2017 = microdadoNovo2017.query('(TP_ESCOLA == \"Pública\")')['TP_ESCOLA'].count()\n",
        "public_escola2018 = microdadoNovo2018.query('(TP_ESCOLA == \"Pública\")')['TP_ESCOLA'].count()\n",
        "public_escola2019 = microdadoNovo2019.query('(TP_ESCOLA == \"Pública\")')['TP_ESCOLA'].count()"
      ],
      "execution_count": null,
      "outputs": []
    },
    {
      "cell_type": "code",
      "metadata": {
        "id": "-1TP4uSeDRgh",
        "outputId": "7a757e1d-129d-4ff6-808d-41fb2c5b8a40",
        "colab": {
          "base_uri": "https://localhost:8080/"
        }
      },
      "source": [
        "#Inscritos que responderam que estudaram em escolas públicas\n",
        "public_escola2016, public_escola2017, public_escola2018, public_escola2019 "
      ],
      "execution_count": null,
      "outputs": [
        {
          "output_type": "execute_result",
          "data": {
            "text/plain": [
              "(424, 383, 266, 325)"
            ]
          },
          "metadata": {
            "tags": []
          },
          "execution_count": 520
        }
      ]
    },
    {
      "cell_type": "code",
      "metadata": {
        "id": "1INsPww_DN_q"
      },
      "source": [
        "#Adicionando os valores a nossa lista\n",
        "public_escola_por_ano.append(public_escola2016)\n",
        "public_escola_por_ano.append(public_escola2017)\n",
        "public_escola_por_ano.append(public_escola2018)\n",
        "public_escola_por_ano.append(public_escola2019)"
      ],
      "execution_count": null,
      "outputs": []
    },
    {
      "cell_type": "code",
      "metadata": {
        "id": "hwsM9lsZDVva",
        "outputId": "b3f83c8a-e7fa-4123-dcf6-b15b4cec1720",
        "colab": {
          "base_uri": "https://localhost:8080/"
        }
      },
      "source": [
        "#Conferindo a nossa lista\n",
        "public_escola_por_ano"
      ],
      "execution_count": null,
      "outputs": [
        {
          "output_type": "execute_result",
          "data": {
            "text/plain": [
              "[424, 383, 266, 325]"
            ]
          },
          "metadata": {
            "tags": []
          },
          "execution_count": 522
        }
      ]
    },
    {
      "cell_type": "markdown",
      "metadata": {
        "id": "jFq4eHqlELo5"
      },
      "source": [
        "##### **Selecionando quem respondeu que estudou em escolas privadas**"
      ]
    },
    {
      "cell_type": "code",
      "metadata": {
        "id": "kLhTlsVIGGzc"
      },
      "source": [
        "#Selecionando quem não respondeu que estudou em escolas privadas\n",
        "priv_escola2016 = microdadoNovo2016.query('(TP_ESCOLA == \"Privada\")')['TP_ESCOLA'].count()\n",
        "priv_escola2017 = microdadoNovo2017.query('(TP_ESCOLA == \"Privada\")')['TP_ESCOLA'].count()\n",
        "priv_escola2018 = microdadoNovo2018.query('(TP_ESCOLA == \"Privada\")')['TP_ESCOLA'].count()\n",
        "priv_escola2019 = microdadoNovo2019.query('(TP_ESCOLA == \"Privada\")')['TP_ESCOLA'].count()"
      ],
      "execution_count": null,
      "outputs": []
    },
    {
      "cell_type": "code",
      "metadata": {
        "id": "hqcCzR_5Gled",
        "outputId": "2cb99cec-ec7b-48c2-f9ca-67b46d19f66f",
        "colab": {
          "base_uri": "https://localhost:8080/"
        }
      },
      "source": [
        "#Inscritos que responderam que estudaram em escolas públicas\n",
        "priv_escola2016, priv_escola2017, priv_escola2018, priv_escola2019"
      ],
      "execution_count": null,
      "outputs": [
        {
          "output_type": "execute_result",
          "data": {
            "text/plain": [
              "(43, 32, 2, 22)"
            ]
          },
          "metadata": {
            "tags": []
          },
          "execution_count": 524
        }
      ]
    },
    {
      "cell_type": "code",
      "metadata": {
        "id": "RkNrDVtYGzP_"
      },
      "source": [
        "#Adicionando os valores a nossa lista\n",
        "priv_escola_por_ano.append(priv_escola2016)\n",
        "priv_escola_por_ano.append(priv_escola2017)\n",
        "priv_escola_por_ano.append(priv_escola2018)\n",
        "priv_escola_por_ano.append(priv_escola2019)"
      ],
      "execution_count": null,
      "outputs": []
    },
    {
      "cell_type": "code",
      "metadata": {
        "id": "j_gRnpM0G5tP",
        "outputId": "06ac3cb8-a64d-473d-d190-9cbf24562e22",
        "colab": {
          "base_uri": "https://localhost:8080/"
        }
      },
      "source": [
        "#Conferindo a nossa lista\n",
        "priv_escola_por_ano"
      ],
      "execution_count": null,
      "outputs": [
        {
          "output_type": "execute_result",
          "data": {
            "text/plain": [
              "[43, 32, 2, 22]"
            ]
          },
          "metadata": {
            "tags": []
          },
          "execution_count": 526
        }
      ]
    },
    {
      "cell_type": "markdown",
      "metadata": {
        "id": "qS9ZcU_7HGQk"
      },
      "source": [
        "#### **4.3.3 Visualização**"
      ]
    },
    {
      "cell_type": "code",
      "metadata": {
        "id": "6LfXg2OxHPo3",
        "outputId": "0602ef27-2106-4bb1-90ae-540c1a476009",
        "colab": {
          "base_uri": "https://localhost:8080/"
        }
      },
      "source": [
        "#Largura da barra\n",
        "barWidth = 0.30\n",
        "\n",
        "#Tamanho do gráfico\n",
        "plt.figure(figsize = (12, 6))\n",
        "\n",
        "#Posição da barra\n",
        "b1 = np.arange(len(nrsp_escola_por_ano))\n",
        "b2 = [x + barWidth for x in b1]\n",
        "b3 = [x + barWidth for x in b2]\n",
        "\n",
        "#Criaçao de barras\n",
        "plt.bar(b1, nrsp_escola_por_ano, color='#37DBA6', width=barWidth, label='Não Respondeu')\n",
        "plt.bar(b2, public_escola_por_ano, color='#31A892', width=barWidth, label='Estudou em Escola Pública')\n",
        "plt.bar(b3, priv_escola_por_ano, color='#004E66', width=barWidth, label='Estudou em Escola Privada')\n",
        "\n",
        "#Legenda\n",
        "plt.xticks([b + barWidth for b in range(len(nrsp_escola_por_ano))], anos)\n",
        "plt.title('NÚMERO DE INSCRITOS ALTOENSES PELO TIPO DE ESCOLA', fontsize=18, fontweight=600)\n",
        "\n",
        "#Tamanho dos eixos x,y\n",
        "plt.tick_params(labelsize=15)\n",
        "\n",
        "plt.legend();"
      ],
      "execution_count": null,
      "outputs": [
        {
          "output_type": "display_data",
          "data": {
            "image/png": "[encoded data removed]",
            "text/plain": [
              "<Figure size 864x432 with 1 Axes>"
            ]
          },
          "metadata": {
            "tags": []
          }
        }
      ]
    },
    {
      "cell_type": "markdown",
      "metadata": {
        "id": "pT5GAvkuIlg9"
      },
      "source": [
        "**Número de inscritos Altoenses pelo tipo de escola:** \n",
        "\n",
        "**No ano de 2016:**\n",
        "* 1983 Inscritos não responderam\n",
        "* 424 Inscritos estudaram em escolas públicas\n",
        "* 43 Inscritos estudaram em escolas privadas\n",
        "\n",
        "**No ano de 2017:**\n",
        "* 1564 Inscritos não responderam\n",
        "* 383 Inscritos estudaram em escolas públicas\n",
        "* 32 Inscritos estudaram em escolas privadas\n",
        "\n",
        "**No ano de 2018:**\n",
        "* 1145 Inscritos não responderam\n",
        "* 266 Inscritos estudaram em escolas públicas\n",
        "* 2 Inscritos estudaram em escolas privadas\n",
        "\n",
        "**No ano de 2019:**\n",
        "* 1160 Inscritos não responderam\n",
        "* 325 Inscritos estudaram em escolas públicas\n",
        "* 22 Inscritos estudaram em escolas privadas"
      ]
    },
    {
      "cell_type": "markdown",
      "metadata": {
        "id": "s2Hq-ljxSFG2"
      },
      "source": [
        "##**5.0 Dataframe apenas com os inscritos que estudaram no município de Altos em escolas públicas e privadas**"
      ]
    },
    {
      "cell_type": "markdown",
      "metadata": {
        "id": "ffns34IMTqbV"
      },
      "source": [
        "### **5.1 Selecionando apenas aqueles que estudaram no município de Altos**"
      ]
    },
    {
      "cell_type": "markdown",
      "metadata": {
        "id": "5tXYc9DsSXYD"
      },
      "source": [
        "Vamos selecionar apenas aqueles que estudaram no município de Altos"
      ]
    },
    {
      "cell_type": "code",
      "metadata": {
        "id": "7W0rX1ajSiBJ",
        "outputId": "a5ed827f-4a57-4961-f40c-70839013437b",
        "colab": {
          "base_uri": "https://localhost:8080/"
        }
      },
      "source": [
        "#Visualização do Dataframe\n",
        "microdadoNovo2016.head(2)"
      ],
      "execution_count": null,
      "outputs": [
        {
          "output_type": "execute_result",
          "data": {
            "text/html": [
              "<div>\n",
              "<style scoped>\n",
              "    .dataframe tbody tr th:only-of-type {\n",
              "        vertical-align: middle;\n",
              "    }\n",
              "\n",
              "    .dataframe tbody tr th {\n",
              "        vertical-align: top;\n",
              "    }\n",
              "\n",
              "    .dataframe thead th {\n",
              "        text-align: right;\n",
              "    }\n",
              "</style>\n",
              "<table border=\"1\" class=\"dataframe\">\n",
              "  <thead>\n",
              "    <tr style=\"text-align: right;\">\n",
              "      <th></th>\n",
              "      <th>NU_INSCRICAO</th>\n",
              "      <th>NO_MUNICIPIO_ESC</th>\n",
              "      <th>TP_ESCOLA</th>\n",
              "      <th>NU_NOTA_CN</th>\n",
              "      <th>NU_NOTA_CH</th>\n",
              "      <th>NU_NOTA_LC</th>\n",
              "      <th>NU_NOTA_MT</th>\n",
              "      <th>NU_NOTA_REDACAO</th>\n",
              "    </tr>\n",
              "  </thead>\n",
              "  <tbody>\n",
              "    <tr>\n",
              "      <th>0</th>\n",
              "      <td>160000428122</td>\n",
              "      <td>Não Respondeu</td>\n",
              "      <td>Não Respondeu</td>\n",
              "      <td>652.9</td>\n",
              "      <td>707.7</td>\n",
              "      <td>600.2</td>\n",
              "      <td>693.5</td>\n",
              "      <td>860.0</td>\n",
              "    </tr>\n",
              "    <tr>\n",
              "      <th>1</th>\n",
              "      <td>160000408490</td>\n",
              "      <td>Não Respondeu</td>\n",
              "      <td>Não Respondeu</td>\n",
              "      <td>NaN</td>\n",
              "      <td>NaN</td>\n",
              "      <td>NaN</td>\n",
              "      <td>NaN</td>\n",
              "      <td>NaN</td>\n",
              "    </tr>\n",
              "  </tbody>\n",
              "</table>\n",
              "</div>"
            ],
            "text/plain": [
              "   NU_INSCRICAO NO_MUNICIPIO_ESC  ... NU_NOTA_MT  NU_NOTA_REDACAO\n",
              "0  160000428122    Não Respondeu  ...      693.5            860.0\n",
              "1  160000408490    Não Respondeu  ...        NaN              NaN\n",
              "\n",
              "[2 rows x 8 columns]"
            ]
          },
          "metadata": {
            "tags": []
          },
          "execution_count": 528
        }
      ]
    },
    {
      "cell_type": "code",
      "metadata": {
        "id": "91zuhU54Sp-_"
      },
      "source": [
        "#Novo Dataframe apenas com aqueles que estudaram no município de Altos\n",
        "DF_microdadosEnem2016 = microdadoNovo2016.loc[microdadoNovo2016['NO_MUNICIPIO_ESC'] == 'Altos']\n",
        "DF_microdadosEnem2017 = microdadoNovo2017.loc[microdadoNovo2017['NO_MUNICIPIO_ESC'] == 'Altos']\n",
        "DF_microdadosEnem2018 = microdadoNovo2018.loc[microdadoNovo2018['NO_MUNICIPIO_ESC'] == 'Altos']\n",
        "DF_microdadosEnem2019 = microdadoNovo2019.loc[microdadoNovo2019['NO_MUNICIPIO_ESC'] == 'Altos']"
      ],
      "execution_count": null,
      "outputs": []
    },
    {
      "cell_type": "code",
      "metadata": {
        "id": "JSK9hnEYT6mf",
        "outputId": "000b2ad2-4d28-43a2-a257-36279145c6b8",
        "colab": {
          "base_uri": "https://localhost:8080/"
        }
      },
      "source": [
        "#Valores dos novos Dataframes\n",
        "print(DF_microdadosEnem2016['NO_MUNICIPIO_ESC'].value_counts(), \n",
        "DF_microdadosEnem2017['NO_MUNICIPIO_ESC'].value_counts(), \n",
        "DF_microdadosEnem2018['NO_MUNICIPIO_ESC'].value_counts(),\n",
        "DF_microdadosEnem2019['NO_MUNICIPIO_ESC'].value_counts())"
      ],
      "execution_count": null,
      "outputs": [
        {
          "output_type": "stream",
          "text": [
            "Altos    409\n",
            "Name: NO_MUNICIPIO_ESC, dtype: int64 Altos    372\n",
            "Name: NO_MUNICIPIO_ESC, dtype: int64 Altos    257\n",
            "Name: NO_MUNICIPIO_ESC, dtype: int64 Altos    233\n",
            "Name: NO_MUNICIPIO_ESC, dtype: int64\n"
          ],
          "name": "stdout"
        }
      ]
    },
    {
      "cell_type": "code",
      "metadata": {
        "id": "C1O7wAqXUEis",
        "outputId": "5d2ba66e-7dee-442c-aeb6-782e7e6ccbe9",
        "colab": {
          "base_uri": "https://localhost:8080/"
        }
      },
      "source": [
        "#Dataframe anterior\n",
        "print(microdadoNovo2016['NO_MUNICIPIO_ESC'].value_counts(),\n",
        "      microdadoNovo2017['NO_MUNICIPIO_ESC'].value_counts(),\n",
        "      microdadoNovo2018['NO_MUNICIPIO_ESC'].value_counts(),\n",
        "      microdadoNovo2019['NO_MUNICIPIO_ESC'].value_counts())"
      ],
      "execution_count": null,
      "outputs": [
        {
          "output_type": "stream",
          "text": [
            "Não Respondeu    1983\n",
            "Altos             409\n",
            "Outros             58\n",
            "Name: NO_MUNICIPIO_ESC, dtype: int64 Não Respondeu    1564\n",
            "Altos             372\n",
            "Outros             43\n",
            "Name: NO_MUNICIPIO_ESC, dtype: int64 Não Respondeu    1132\n",
            "Altos             257\n",
            "Outros             50\n",
            "Name: NO_MUNICIPIO_ESC, dtype: int64 Não Respondeu    1217\n",
            "Altos             233\n",
            "Outros             57\n",
            "Name: NO_MUNICIPIO_ESC, dtype: int64\n"
          ],
          "name": "stdout"
        }
      ]
    },
    {
      "cell_type": "markdown",
      "metadata": {
        "id": "tGFrVX0lUlJW"
      },
      "source": [
        "Os dados do novo Dataframe estão corretos e está em conformidade com o Dataframe anterior"
      ]
    },
    {
      "cell_type": "markdown",
      "metadata": {
        "id": "E0sJIZjBV9f4"
      },
      "source": [
        "### **5.2 Selecionando apenas aqueles que estudaram em escolas públicas e privadas**"
      ]
    },
    {
      "cell_type": "markdown",
      "metadata": {
        "id": "wMpvqeFMWDQu"
      },
      "source": [
        "Depois que os registros de todos os inscritos Altoenses que estudaram no município de Altos foram selecionados, agora vamos selecionar apenas aqueles que estudaram em escolas públicas e privadas do novo Dataframe"
      ]
    },
    {
      "cell_type": "code",
      "metadata": {
        "id": "AFzgjNktWim5",
        "outputId": "e64471d4-9a4e-4e12-aafd-9a27bd5a74c5",
        "colab": {
          "base_uri": "https://localhost:8080/"
        }
      },
      "source": [
        "#Visualização do Dataframe\n",
        "DF_microdadosEnem2016.head(2)"
      ],
      "execution_count": null,
      "outputs": [
        {
          "output_type": "execute_result",
          "data": {
            "text/html": [
              "<div>\n",
              "<style scoped>\n",
              "    .dataframe tbody tr th:only-of-type {\n",
              "        vertical-align: middle;\n",
              "    }\n",
              "\n",
              "    .dataframe tbody tr th {\n",
              "        vertical-align: top;\n",
              "    }\n",
              "\n",
              "    .dataframe thead th {\n",
              "        text-align: right;\n",
              "    }\n",
              "</style>\n",
              "<table border=\"1\" class=\"dataframe\">\n",
              "  <thead>\n",
              "    <tr style=\"text-align: right;\">\n",
              "      <th></th>\n",
              "      <th>NU_INSCRICAO</th>\n",
              "      <th>NO_MUNICIPIO_ESC</th>\n",
              "      <th>TP_ESCOLA</th>\n",
              "      <th>NU_NOTA_CN</th>\n",
              "      <th>NU_NOTA_CH</th>\n",
              "      <th>NU_NOTA_LC</th>\n",
              "      <th>NU_NOTA_MT</th>\n",
              "      <th>NU_NOTA_REDACAO</th>\n",
              "    </tr>\n",
              "  </thead>\n",
              "  <tbody>\n",
              "    <tr>\n",
              "      <th>2</th>\n",
              "      <td>160000432464</td>\n",
              "      <td>Altos</td>\n",
              "      <td>Pública</td>\n",
              "      <td>465.0</td>\n",
              "      <td>573.7</td>\n",
              "      <td>528.3</td>\n",
              "      <td>366.0</td>\n",
              "      <td>460.0</td>\n",
              "    </tr>\n",
              "    <tr>\n",
              "      <th>39</th>\n",
              "      <td>160000106783</td>\n",
              "      <td>Altos</td>\n",
              "      <td>Pública</td>\n",
              "      <td>438.2</td>\n",
              "      <td>442.6</td>\n",
              "      <td>419.2</td>\n",
              "      <td>455.5</td>\n",
              "      <td>280.0</td>\n",
              "    </tr>\n",
              "  </tbody>\n",
              "</table>\n",
              "</div>"
            ],
            "text/plain": [
              "    NU_INSCRICAO NO_MUNICIPIO_ESC  ... NU_NOTA_MT  NU_NOTA_REDACAO\n",
              "2   160000432464            Altos  ...      366.0            460.0\n",
              "39  160000106783            Altos  ...      455.5            280.0\n",
              "\n",
              "[2 rows x 8 columns]"
            ]
          },
          "metadata": {
            "tags": []
          },
          "execution_count": 532
        }
      ]
    },
    {
      "cell_type": "code",
      "metadata": {
        "id": "t7stGJARXIru"
      },
      "source": [
        "#Selecionando do novo Dataframe apenas aqueles registros dos que estudaram em escolas públicas e privadas\n",
        "DF1_microdadosEnem2016 = DF_microdadosEnem2016.loc[DF_microdadosEnem2016['TP_ESCOLA'].isin(['Pública','Privada'])]\n",
        "DF1_microdadosEnem2017 = DF_microdadosEnem2017.loc[DF_microdadosEnem2017['TP_ESCOLA'].isin(['Pública','Privada'])]\n",
        "DF1_microdadosEnem2018 = DF_microdadosEnem2018.loc[DF_microdadosEnem2018['TP_ESCOLA'].isin(['Pública','Privada'])]\n",
        "DF1_microdadosEnem2019 = DF_microdadosEnem2019.loc[DF_microdadosEnem2019['TP_ESCOLA'].isin(['Pública','Privada'])]"
      ],
      "execution_count": null,
      "outputs": []
    },
    {
      "cell_type": "code",
      "metadata": {
        "id": "U24HcIJtX7_v",
        "outputId": "be48fcbe-43eb-4c56-d037-a248dba50a09",
        "colab": {
          "base_uri": "https://localhost:8080/"
        }
      },
      "source": [
        "#Valores dos novos Dataframes\n",
        "DF1_microdadosEnem2016.head(2)\n",
        "      "
      ],
      "execution_count": null,
      "outputs": [
        {
          "output_type": "execute_result",
          "data": {
            "text/html": [
              "<div>\n",
              "<style scoped>\n",
              "    .dataframe tbody tr th:only-of-type {\n",
              "        vertical-align: middle;\n",
              "    }\n",
              "\n",
              "    .dataframe tbody tr th {\n",
              "        vertical-align: top;\n",
              "    }\n",
              "\n",
              "    .dataframe thead th {\n",
              "        text-align: right;\n",
              "    }\n",
              "</style>\n",
              "<table border=\"1\" class=\"dataframe\">\n",
              "  <thead>\n",
              "    <tr style=\"text-align: right;\">\n",
              "      <th></th>\n",
              "      <th>NU_INSCRICAO</th>\n",
              "      <th>NO_MUNICIPIO_ESC</th>\n",
              "      <th>TP_ESCOLA</th>\n",
              "      <th>NU_NOTA_CN</th>\n",
              "      <th>NU_NOTA_CH</th>\n",
              "      <th>NU_NOTA_LC</th>\n",
              "      <th>NU_NOTA_MT</th>\n",
              "      <th>NU_NOTA_REDACAO</th>\n",
              "    </tr>\n",
              "  </thead>\n",
              "  <tbody>\n",
              "    <tr>\n",
              "      <th>2</th>\n",
              "      <td>160000432464</td>\n",
              "      <td>Altos</td>\n",
              "      <td>Pública</td>\n",
              "      <td>465.0</td>\n",
              "      <td>573.7</td>\n",
              "      <td>528.3</td>\n",
              "      <td>366.0</td>\n",
              "      <td>460.0</td>\n",
              "    </tr>\n",
              "    <tr>\n",
              "      <th>39</th>\n",
              "      <td>160000106783</td>\n",
              "      <td>Altos</td>\n",
              "      <td>Pública</td>\n",
              "      <td>438.2</td>\n",
              "      <td>442.6</td>\n",
              "      <td>419.2</td>\n",
              "      <td>455.5</td>\n",
              "      <td>280.0</td>\n",
              "    </tr>\n",
              "  </tbody>\n",
              "</table>\n",
              "</div>"
            ],
            "text/plain": [
              "    NU_INSCRICAO NO_MUNICIPIO_ESC  ... NU_NOTA_MT  NU_NOTA_REDACAO\n",
              "2   160000432464            Altos  ...      366.0            460.0\n",
              "39  160000106783            Altos  ...      455.5            280.0\n",
              "\n",
              "[2 rows x 8 columns]"
            ]
          },
          "metadata": {
            "tags": []
          },
          "execution_count": 534
        }
      ]
    },
    {
      "cell_type": "code",
      "metadata": {
        "id": "MDMWcZUzZaOT",
        "outputId": "79a3c911-e7b0-4751-d593-ad45cf40a4e4",
        "colab": {
          "base_uri": "https://localhost:8080/"
        }
      },
      "source": [
        "#Valores dos novos Dataframes\n",
        "print(DF1_microdadosEnem2016['TP_ESCOLA'].value_counts(),\n",
        "      DF1_microdadosEnem2017['TP_ESCOLA'].value_counts(),\n",
        "      DF1_microdadosEnem2018['TP_ESCOLA'].value_counts(),\n",
        "      DF1_microdadosEnem2019['TP_ESCOLA'].value_counts())"
      ],
      "execution_count": null,
      "outputs": [
        {
          "output_type": "stream",
          "text": [
            "Pública    381\n",
            "Privada     28\n",
            "Name: TP_ESCOLA, dtype: int64 Pública    352\n",
            "Privada     20\n",
            "Name: TP_ESCOLA, dtype: int64 Pública    244\n",
            "Privada      1\n",
            "Name: TP_ESCOLA, dtype: int64 Pública    228\n",
            "Privada      5\n",
            "Name: TP_ESCOLA, dtype: int64\n"
          ],
          "name": "stdout"
        }
      ]
    },
    {
      "cell_type": "code",
      "metadata": {
        "id": "5jtM6sU5ZEXw",
        "outputId": "d1d9fb0b-8c9c-427d-fcbf-c8462dfd4144",
        "colab": {
          "base_uri": "https://localhost:8080/"
        }
      },
      "source": [
        "#Dataframe anterior\n",
        "print(DF_microdadosEnem2016['TP_ESCOLA'].value_counts(),\n",
        "      DF_microdadosEnem2017['TP_ESCOLA'].value_counts(),\n",
        "      DF_microdadosEnem2018['TP_ESCOLA'].value_counts(),\n",
        "      DF_microdadosEnem2019['TP_ESCOLA'].value_counts())"
      ],
      "execution_count": null,
      "outputs": [
        {
          "output_type": "stream",
          "text": [
            "Pública    381\n",
            "Privada     28\n",
            "Name: TP_ESCOLA, dtype: int64 Pública    352\n",
            "Privada     20\n",
            "Name: TP_ESCOLA, dtype: int64 Pública     244\n",
            "Exterior     12\n",
            "Privada       1\n",
            "Name: TP_ESCOLA, dtype: int64 Pública    228\n",
            "Privada      5\n",
            "Name: TP_ESCOLA, dtype: int64\n"
          ],
          "name": "stdout"
        }
      ]
    },
    {
      "cell_type": "markdown",
      "metadata": {
        "id": "UtyjS5S0b2A-"
      },
      "source": [
        "Os dados do novo Dataframe estão corretos e está em conformidade com o Dataframe anterior"
      ]
    },
    {
      "cell_type": "markdown",
      "metadata": {
        "id": "RDxRKOWocUNs"
      },
      "source": [
        "### **5.3 Limpeza dos valores vazios nas notas**"
      ]
    },
    {
      "cell_type": "markdown",
      "metadata": {
        "id": "XJKPkiCEcr1i"
      },
      "source": [
        "Nas colunas das notas, algumas linhas possuem valores vazios, existem dois motivos para existir esse vazio nos dados:\n",
        "\n",
        "* 1º Motivo: O candidato faltou a prova\n",
        "* 2º Motivo: O candidato foi eliminado da prova\n",
        "\n",
        "Ou seja, esses candidatos não pontuaram"
      ]
    },
    {
      "cell_type": "markdown",
      "metadata": {
        "id": "fKPTV6FKcyQr"
      },
      "source": [
        "O objetivo desse processo é deixar apenas aqueles inscritos que pontuaram entre 0 e 1000 nas provas"
      ]
    },
    {
      "cell_type": "code",
      "metadata": {
        "id": "0BOdaRDXc8jc",
        "outputId": "5fb3841e-57f4-466a-c5f6-7df4c7fffca6",
        "colab": {
          "base_uri": "https://localhost:8080/"
        }
      },
      "source": [
        "#Visualizar Dataframe\n",
        "DF1_microdadosEnem2016.head(2)"
      ],
      "execution_count": null,
      "outputs": [
        {
          "output_type": "execute_result",
          "data": {
            "text/html": [
              "<div>\n",
              "<style scoped>\n",
              "    .dataframe tbody tr th:only-of-type {\n",
              "        vertical-align: middle;\n",
              "    }\n",
              "\n",
              "    .dataframe tbody tr th {\n",
              "        vertical-align: top;\n",
              "    }\n",
              "\n",
              "    .dataframe thead th {\n",
              "        text-align: right;\n",
              "    }\n",
              "</style>\n",
              "<table border=\"1\" class=\"dataframe\">\n",
              "  <thead>\n",
              "    <tr style=\"text-align: right;\">\n",
              "      <th></th>\n",
              "      <th>NU_INSCRICAO</th>\n",
              "      <th>NO_MUNICIPIO_ESC</th>\n",
              "      <th>TP_ESCOLA</th>\n",
              "      <th>NU_NOTA_CN</th>\n",
              "      <th>NU_NOTA_CH</th>\n",
              "      <th>NU_NOTA_LC</th>\n",
              "      <th>NU_NOTA_MT</th>\n",
              "      <th>NU_NOTA_REDACAO</th>\n",
              "    </tr>\n",
              "  </thead>\n",
              "  <tbody>\n",
              "    <tr>\n",
              "      <th>2</th>\n",
              "      <td>160000432464</td>\n",
              "      <td>Altos</td>\n",
              "      <td>Pública</td>\n",
              "      <td>465.0</td>\n",
              "      <td>573.7</td>\n",
              "      <td>528.3</td>\n",
              "      <td>366.0</td>\n",
              "      <td>460.0</td>\n",
              "    </tr>\n",
              "    <tr>\n",
              "      <th>39</th>\n",
              "      <td>160000106783</td>\n",
              "      <td>Altos</td>\n",
              "      <td>Pública</td>\n",
              "      <td>438.2</td>\n",
              "      <td>442.6</td>\n",
              "      <td>419.2</td>\n",
              "      <td>455.5</td>\n",
              "      <td>280.0</td>\n",
              "    </tr>\n",
              "  </tbody>\n",
              "</table>\n",
              "</div>"
            ],
            "text/plain": [
              "    NU_INSCRICAO NO_MUNICIPIO_ESC  ... NU_NOTA_MT  NU_NOTA_REDACAO\n",
              "2   160000432464            Altos  ...      366.0            460.0\n",
              "39  160000106783            Altos  ...      455.5            280.0\n",
              "\n",
              "[2 rows x 8 columns]"
            ]
          },
          "metadata": {
            "tags": []
          },
          "execution_count": 537
        }
      ]
    },
    {
      "cell_type": "markdown",
      "metadata": {
        "id": "RyI-l4a0dyjt"
      },
      "source": [
        "#### **5.3.1 Verificando quantidade de notas vazias**"
      ]
    },
    {
      "cell_type": "code",
      "metadata": {
        "id": "_1z_MtUCdDh9",
        "outputId": "9e96f40f-9977-45cb-dd4f-4e69a7bc31f3",
        "colab": {
          "base_uri": "https://localhost:8080/"
        }
      },
      "source": [
        "#Verificar números de dados vazios em 2016\n",
        "DF_microdadosEnem2016[['NU_NOTA_CN', 'NU_NOTA_CH', 'NU_NOTA_LC', 'NU_NOTA_MT', 'NU_NOTA_REDACAO']].isnull().sum()"
      ],
      "execution_count": null,
      "outputs": [
        {
          "output_type": "execute_result",
          "data": {
            "text/plain": [
              "NU_NOTA_CN         43\n",
              "NU_NOTA_CH         43\n",
              "NU_NOTA_LC         49\n",
              "NU_NOTA_MT         49\n",
              "NU_NOTA_REDACAO    49\n",
              "dtype: int64"
            ]
          },
          "metadata": {
            "tags": []
          },
          "execution_count": 538
        }
      ]
    },
    {
      "cell_type": "code",
      "metadata": {
        "id": "FfPjyMXVdViU",
        "outputId": "1789cd77-0bf6-4d0b-81bc-8725b13c6e3d",
        "colab": {
          "base_uri": "https://localhost:8080/"
        }
      },
      "source": [
        "#Verificar números de dados vazios 2017\n",
        "DF_microdadosEnem2017[['NU_NOTA_CN', 'NU_NOTA_CH', 'NU_NOTA_LC', 'NU_NOTA_MT', 'NU_NOTA_REDACAO']].isnull().sum()\n"
      ],
      "execution_count": null,
      "outputs": [
        {
          "output_type": "execute_result",
          "data": {
            "text/plain": [
              "NU_NOTA_CN         61\n",
              "NU_NOTA_CH         49\n",
              "NU_NOTA_LC         49\n",
              "NU_NOTA_MT         61\n",
              "NU_NOTA_REDACAO    49\n",
              "dtype: int64"
            ]
          },
          "metadata": {
            "tags": []
          },
          "execution_count": 539
        }
      ]
    },
    {
      "cell_type": "code",
      "metadata": {
        "id": "3F6LH0sqdZ7x",
        "outputId": "e745a563-7f7a-41cc-ae34-c4488cab4e35",
        "colab": {
          "base_uri": "https://localhost:8080/"
        }
      },
      "source": [
        "#Verificar números de dados vazios 2018\n",
        "DF_microdadosEnem2018[['NU_NOTA_CN', 'NU_NOTA_CH', 'NU_NOTA_LC', 'NU_NOTA_MT', 'NU_NOTA_REDACAO']].isnull().sum()\n"
      ],
      "execution_count": null,
      "outputs": [
        {
          "output_type": "execute_result",
          "data": {
            "text/plain": [
              "NU_NOTA_CN         37\n",
              "NU_NOTA_CH         30\n",
              "NU_NOTA_LC         30\n",
              "NU_NOTA_MT         37\n",
              "NU_NOTA_REDACAO    30\n",
              "dtype: int64"
            ]
          },
          "metadata": {
            "tags": []
          },
          "execution_count": 540
        }
      ]
    },
    {
      "cell_type": "code",
      "metadata": {
        "id": "43IaTjvkdhmI",
        "outputId": "9a99a47a-a483-45cf-cb8e-312f88a458b4",
        "colab": {
          "base_uri": "https://localhost:8080/"
        }
      },
      "source": [
        "#Verificar números de dados vazios 2019\n",
        "DF_microdadosEnem2019[['NU_NOTA_CN', 'NU_NOTA_CH', 'NU_NOTA_LC', 'NU_NOTA_MT', 'NU_NOTA_REDACAO']].isnull().sum()\n"
      ],
      "execution_count": null,
      "outputs": [
        {
          "output_type": "execute_result",
          "data": {
            "text/plain": [
              "NU_NOTA_CN         35\n",
              "NU_NOTA_CH         31\n",
              "NU_NOTA_LC         31\n",
              "NU_NOTA_MT         35\n",
              "NU_NOTA_REDACAO    31\n",
              "dtype: int64"
            ]
          },
          "metadata": {
            "tags": []
          },
          "execution_count": 541
        }
      ]
    },
    {
      "cell_type": "markdown",
      "metadata": {
        "id": "C-gHxuSSdmQd"
      },
      "source": [
        "Vamos eliminar esses valores vazios que estão nos nossos novos dataframes"
      ]
    },
    {
      "cell_type": "markdown",
      "metadata": {
        "id": "g73SmNbNd819"
      },
      "source": [
        "#### **5.3.2 Lipando os dados vazios do novo Dataframe**"
      ]
    },
    {
      "cell_type": "code",
      "metadata": {
        "id": "Q4b3Pm0HeM1l"
      },
      "source": [
        "#Removendo os valores vazios do novo Dataframe\n",
        "DF1_microdadosEnem2016 = DF1_microdadosEnem2016.dropna(subset=['NU_NOTA_CN', 'NU_NOTA_CH', 'NU_NOTA_LC','NU_NOTA_MT','NU_NOTA_REDACAO'])\n",
        "DF1_microdadosEnem2017 = DF1_microdadosEnem2017.dropna(subset=['NU_NOTA_CN', 'NU_NOTA_CH', 'NU_NOTA_LC','NU_NOTA_MT','NU_NOTA_REDACAO'])\n",
        "DF1_microdadosEnem2018 = DF1_microdadosEnem2018.dropna(subset=['NU_NOTA_CN', 'NU_NOTA_CH', 'NU_NOTA_LC','NU_NOTA_MT','NU_NOTA_REDACAO'])\n",
        "DF1_microdadosEnem2019 = DF1_microdadosEnem2019.dropna(subset=['NU_NOTA_CN', 'NU_NOTA_CH', 'NU_NOTA_LC','NU_NOTA_MT','NU_NOTA_REDACAO'])"
      ],
      "execution_count": null,
      "outputs": []
    },
    {
      "cell_type": "code",
      "metadata": {
        "id": "fAEHbe7Ueqb7",
        "outputId": "19d5f58a-0614-4668-db42-664a3ed72232",
        "colab": {
          "base_uri": "https://localhost:8080/"
        }
      },
      "source": [
        "#Conferindo se no novo Dataframe tem dados de notas vazias\n",
        "#2016\n",
        "DF1_microdadosEnem2016[['NU_NOTA_CN', 'NU_NOTA_CH', 'NU_NOTA_LC', 'NU_NOTA_MT', 'NU_NOTA_REDACAO']].isnull().sum()"
      ],
      "execution_count": null,
      "outputs": [
        {
          "output_type": "execute_result",
          "data": {
            "text/plain": [
              "NU_NOTA_CN         0\n",
              "NU_NOTA_CH         0\n",
              "NU_NOTA_LC         0\n",
              "NU_NOTA_MT         0\n",
              "NU_NOTA_REDACAO    0\n",
              "dtype: int64"
            ]
          },
          "metadata": {
            "tags": []
          },
          "execution_count": 543
        }
      ]
    },
    {
      "cell_type": "code",
      "metadata": {
        "id": "4VC1noMPe8iT",
        "outputId": "fe449e94-6855-462a-8fc2-c35c418c5bd4",
        "colab": {
          "base_uri": "https://localhost:8080/"
        }
      },
      "source": [
        "#Conferindo se no novo Dataframe tem dados de notas vazias\n",
        "#2017\n",
        "DF1_microdadosEnem2017[['NU_NOTA_CN', 'NU_NOTA_CH', 'NU_NOTA_LC', 'NU_NOTA_MT', 'NU_NOTA_REDACAO']].isnull().sum()"
      ],
      "execution_count": null,
      "outputs": [
        {
          "output_type": "execute_result",
          "data": {
            "text/plain": [
              "NU_NOTA_CN         0\n",
              "NU_NOTA_CH         0\n",
              "NU_NOTA_LC         0\n",
              "NU_NOTA_MT         0\n",
              "NU_NOTA_REDACAO    0\n",
              "dtype: int64"
            ]
          },
          "metadata": {
            "tags": []
          },
          "execution_count": 544
        }
      ]
    },
    {
      "cell_type": "code",
      "metadata": {
        "id": "g1R2xHoOe_5z",
        "outputId": "947ae3df-c88c-40d9-e38e-6949d04a94cc",
        "colab": {
          "base_uri": "https://localhost:8080/"
        }
      },
      "source": [
        "#Conferindo se no novo Dataframe tem dados de notas vazias\n",
        "#2018\n",
        "DF1_microdadosEnem2018[['NU_NOTA_CN', 'NU_NOTA_CH', 'NU_NOTA_LC', 'NU_NOTA_MT', 'NU_NOTA_REDACAO']].isnull().sum()"
      ],
      "execution_count": null,
      "outputs": [
        {
          "output_type": "execute_result",
          "data": {
            "text/plain": [
              "NU_NOTA_CN         0\n",
              "NU_NOTA_CH         0\n",
              "NU_NOTA_LC         0\n",
              "NU_NOTA_MT         0\n",
              "NU_NOTA_REDACAO    0\n",
              "dtype: int64"
            ]
          },
          "metadata": {
            "tags": []
          },
          "execution_count": 545
        }
      ]
    },
    {
      "cell_type": "code",
      "metadata": {
        "id": "P3Bv1FEYfClU",
        "outputId": "12575dde-f3f8-4e68-d504-403b5b0c2f0e",
        "colab": {
          "base_uri": "https://localhost:8080/"
        }
      },
      "source": [
        "#Conferindo se no novo Dataframe tem dados de notas vazias\n",
        "#2019\n",
        "DF1_microdadosEnem2019[['NU_NOTA_CN', 'NU_NOTA_CH', 'NU_NOTA_LC', 'NU_NOTA_MT', 'NU_NOTA_REDACAO']].isnull().sum()"
      ],
      "execution_count": null,
      "outputs": [
        {
          "output_type": "execute_result",
          "data": {
            "text/plain": [
              "NU_NOTA_CN         0\n",
              "NU_NOTA_CH         0\n",
              "NU_NOTA_LC         0\n",
              "NU_NOTA_MT         0\n",
              "NU_NOTA_REDACAO    0\n",
              "dtype: int64"
            ]
          },
          "metadata": {
            "tags": []
          },
          "execution_count": 546
        }
      ]
    },
    {
      "cell_type": "markdown",
      "metadata": {
        "id": "kTWzgCBlfMJx"
      },
      "source": [
        "#### **5.3.3 Conferindo os novos dados**"
      ]
    },
    {
      "cell_type": "code",
      "metadata": {
        "id": "PmKD7ksQfShE",
        "outputId": "c31d6d6e-40bb-41f9-8dce-25aab0f04e59",
        "colab": {
          "base_uri": "https://localhost:8080/"
        }
      },
      "source": [
        "#Dados novos 2016\n",
        "print(DF1_microdadosEnem2016['TP_ESCOLA'].value_counts(),\n",
        "      DF1_microdadosEnem2016.shape)"
      ],
      "execution_count": null,
      "outputs": [
        {
          "output_type": "stream",
          "text": [
            "Pública    332\n",
            "Privada     28\n",
            "Name: TP_ESCOLA, dtype: int64 (360, 8)\n"
          ],
          "name": "stdout"
        }
      ]
    },
    {
      "cell_type": "markdown",
      "metadata": {
        "id": "9uwVWhrbfwlK"
      },
      "source": [
        "**2016 Novos dados**\n",
        "\n",
        "Total de 360 inscritos Altoenses que estudaram no município de Altos em escolas públicas ou privadas sendo eles:\n",
        "\n",
        "* Públicas - 322 Inscritos\n",
        "* Privadas - 28 Inscritos\n",
        "\n"
      ]
    },
    {
      "cell_type": "code",
      "metadata": {
        "id": "y1mnA3w7ghk5",
        "outputId": "0b3d3406-5c88-4e71-be9c-edb27ef3402a",
        "colab": {
          "base_uri": "https://localhost:8080/"
        }
      },
      "source": [
        "#Dados novos 2017\n",
        "print(DF1_microdadosEnem2017['TP_ESCOLA'].value_counts(),\n",
        "      DF1_microdadosEnem2017.shape)"
      ],
      "execution_count": null,
      "outputs": [
        {
          "output_type": "stream",
          "text": [
            "Pública    292\n",
            "Privada     19\n",
            "Name: TP_ESCOLA, dtype: int64 (311, 8)\n"
          ],
          "name": "stdout"
        }
      ]
    },
    {
      "cell_type": "markdown",
      "metadata": {
        "id": "ipK0v1QqgtMf"
      },
      "source": [
        "**2017 Novos dados**\n",
        "\n",
        "Total de 311 inscritos Altoenses que estudaram no município de Altos em escolas públicas ou privadas sendo eles:\n",
        "\n",
        "* Públicas - 292 Inscritos\n",
        "* Privadas - 19 Inscritos"
      ]
    },
    {
      "cell_type": "code",
      "metadata": {
        "id": "bxFg7IruhjTf",
        "outputId": "316d0ff0-b7d1-4a0a-d6f9-aff212a8d1f1",
        "colab": {
          "base_uri": "https://localhost:8080/"
        }
      },
      "source": [
        "#Dados novos 2018\n",
        "print(DF1_microdadosEnem2018['TP_ESCOLA'].value_counts(),\n",
        "      DF1_microdadosEnem2018.shape)"
      ],
      "execution_count": null,
      "outputs": [
        {
          "output_type": "stream",
          "text": [
            "Pública    208\n",
            "Privada      1\n",
            "Name: TP_ESCOLA, dtype: int64 (209, 8)\n"
          ],
          "name": "stdout"
        }
      ]
    },
    {
      "cell_type": "markdown",
      "metadata": {
        "id": "2opIRnNQhop3"
      },
      "source": [
        "**2018 Novos dados**\n",
        "\n",
        "Total de 209 inscritos Altoenses que estudaram no município de Altos em escolas públicas ou privadas sendo eles:\n",
        "\n",
        "* Públicas - 208 Inscritos\n",
        "* Privadas - 1 Inscritos"
      ]
    },
    {
      "cell_type": "code",
      "metadata": {
        "id": "662SjDQ9hzuS",
        "outputId": "18475498-7b56-4643-c937-85bad3c48133",
        "colab": {
          "base_uri": "https://localhost:8080/"
        }
      },
      "source": [
        "#Dados novos 2019\n",
        "print(DF1_microdadosEnem2019['TP_ESCOLA'].value_counts(),\n",
        "      DF1_microdadosEnem2019.shape)"
      ],
      "execution_count": null,
      "outputs": [
        {
          "output_type": "stream",
          "text": [
            "Pública    193\n",
            "Privada      5\n",
            "Name: TP_ESCOLA, dtype: int64 (198, 8)\n"
          ],
          "name": "stdout"
        }
      ]
    },
    {
      "cell_type": "markdown",
      "metadata": {
        "id": "24CfgHWmh5sH"
      },
      "source": [
        "**2019 Novos dados**\n",
        "\n",
        "Total de 198 inscritos Altoenses que estudaram no município de Altos em escolas públicas ou privadas sendo eles:\n",
        "\n",
        "* Públicas - 193 Inscritos\n",
        "* Privadas - 5 Inscritos"
      ]
    },
    {
      "cell_type": "markdown",
      "metadata": {
        "id": "w5uJcZx2jlCP"
      },
      "source": [
        "### **5.4 Criando uma coluna com a média das notas**"
      ]
    },
    {
      "cell_type": "code",
      "metadata": {
        "id": "Bwj5-fewj0WR",
        "outputId": "a43e1e3c-f031-43cb-f499-a5d0621db9d3",
        "colab": {
          "base_uri": "https://localhost:8080/"
        }
      },
      "source": [
        "#Visualização\n",
        "DF1_microdadosEnem2016.head(2)"
      ],
      "execution_count": null,
      "outputs": [
        {
          "output_type": "execute_result",
          "data": {
            "text/html": [
              "<div>\n",
              "<style scoped>\n",
              "    .dataframe tbody tr th:only-of-type {\n",
              "        vertical-align: middle;\n",
              "    }\n",
              "\n",
              "    .dataframe tbody tr th {\n",
              "        vertical-align: top;\n",
              "    }\n",
              "\n",
              "    .dataframe thead th {\n",
              "        text-align: right;\n",
              "    }\n",
              "</style>\n",
              "<table border=\"1\" class=\"dataframe\">\n",
              "  <thead>\n",
              "    <tr style=\"text-align: right;\">\n",
              "      <th></th>\n",
              "      <th>NU_INSCRICAO</th>\n",
              "      <th>NO_MUNICIPIO_ESC</th>\n",
              "      <th>TP_ESCOLA</th>\n",
              "      <th>NU_NOTA_CN</th>\n",
              "      <th>NU_NOTA_CH</th>\n",
              "      <th>NU_NOTA_LC</th>\n",
              "      <th>NU_NOTA_MT</th>\n",
              "      <th>NU_NOTA_REDACAO</th>\n",
              "    </tr>\n",
              "  </thead>\n",
              "  <tbody>\n",
              "    <tr>\n",
              "      <th>2</th>\n",
              "      <td>160000432464</td>\n",
              "      <td>Altos</td>\n",
              "      <td>Pública</td>\n",
              "      <td>465.0</td>\n",
              "      <td>573.7</td>\n",
              "      <td>528.3</td>\n",
              "      <td>366.0</td>\n",
              "      <td>460.0</td>\n",
              "    </tr>\n",
              "    <tr>\n",
              "      <th>39</th>\n",
              "      <td>160000106783</td>\n",
              "      <td>Altos</td>\n",
              "      <td>Pública</td>\n",
              "      <td>438.2</td>\n",
              "      <td>442.6</td>\n",
              "      <td>419.2</td>\n",
              "      <td>455.5</td>\n",
              "      <td>280.0</td>\n",
              "    </tr>\n",
              "  </tbody>\n",
              "</table>\n",
              "</div>"
            ],
            "text/plain": [
              "    NU_INSCRICAO NO_MUNICIPIO_ESC  ... NU_NOTA_MT  NU_NOTA_REDACAO\n",
              "2   160000432464            Altos  ...      366.0            460.0\n",
              "39  160000106783            Altos  ...      455.5            280.0\n",
              "\n",
              "[2 rows x 8 columns]"
            ]
          },
          "metadata": {
            "tags": []
          },
          "execution_count": 551
        }
      ]
    },
    {
      "cell_type": "code",
      "metadata": {
        "id": "0FHvfN29fIVo"
      },
      "source": [
        "DF1_microdadosEnem2016['MEDIA'] = (DF1_microdadosEnem2016['NU_NOTA_CN'] + DF1_microdadosEnem2016['NU_NOTA_CH'] + DF1_microdadosEnem2016['NU_NOTA_LC'] + DF1_microdadosEnem2016['NU_NOTA_MT'] + DF1_microdadosEnem2016['NU_NOTA_REDACAO'])/5\n",
        "DF1_microdadosEnem2017['MEDIA'] = (DF1_microdadosEnem2017['NU_NOTA_CN'] + DF1_microdadosEnem2017['NU_NOTA_CH'] + DF1_microdadosEnem2017['NU_NOTA_LC'] + DF1_microdadosEnem2017['NU_NOTA_MT'] + DF1_microdadosEnem2017['NU_NOTA_REDACAO'])/5\n",
        "DF1_microdadosEnem2018['MEDIA'] = (DF1_microdadosEnem2018['NU_NOTA_CN'] + DF1_microdadosEnem2018['NU_NOTA_CH'] + DF1_microdadosEnem2018['NU_NOTA_LC'] + DF1_microdadosEnem2018['NU_NOTA_MT'] + DF1_microdadosEnem2018['NU_NOTA_REDACAO'])/5\n",
        "DF1_microdadosEnem2019['MEDIA'] = (DF1_microdadosEnem2019['NU_NOTA_CN'] + DF1_microdadosEnem2019['NU_NOTA_CH'] + DF1_microdadosEnem2019['NU_NOTA_LC'] + DF1_microdadosEnem2019['NU_NOTA_MT'] + DF1_microdadosEnem2019['NU_NOTA_REDACAO'])/5"
      ],
      "execution_count": null,
      "outputs": []
    },
    {
      "cell_type": "code",
      "metadata": {
        "id": "kdy---lZn7M5",
        "outputId": "c34acdbc-257d-48c5-94d7-ae06873e2696",
        "colab": {
          "base_uri": "https://localhost:8080/"
        }
      },
      "source": [
        "#Visualização Dataframe 2016\n",
        "DF1_microdadosEnem2016.head(2)"
      ],
      "execution_count": null,
      "outputs": [
        {
          "output_type": "execute_result",
          "data": {
            "text/html": [
              "<div>\n",
              "<style scoped>\n",
              "    .dataframe tbody tr th:only-of-type {\n",
              "        vertical-align: middle;\n",
              "    }\n",
              "\n",
              "    .dataframe tbody tr th {\n",
              "        vertical-align: top;\n",
              "    }\n",
              "\n",
              "    .dataframe thead th {\n",
              "        text-align: right;\n",
              "    }\n",
              "</style>\n",
              "<table border=\"1\" class=\"dataframe\">\n",
              "  <thead>\n",
              "    <tr style=\"text-align: right;\">\n",
              "      <th></th>\n",
              "      <th>NU_INSCRICAO</th>\n",
              "      <th>NO_MUNICIPIO_ESC</th>\n",
              "      <th>TP_ESCOLA</th>\n",
              "      <th>NU_NOTA_CN</th>\n",
              "      <th>NU_NOTA_CH</th>\n",
              "      <th>NU_NOTA_LC</th>\n",
              "      <th>NU_NOTA_MT</th>\n",
              "      <th>NU_NOTA_REDACAO</th>\n",
              "      <th>MEDIA</th>\n",
              "    </tr>\n",
              "  </thead>\n",
              "  <tbody>\n",
              "    <tr>\n",
              "      <th>2</th>\n",
              "      <td>160000432464</td>\n",
              "      <td>Altos</td>\n",
              "      <td>Pública</td>\n",
              "      <td>465.0</td>\n",
              "      <td>573.7</td>\n",
              "      <td>528.3</td>\n",
              "      <td>366.0</td>\n",
              "      <td>460.0</td>\n",
              "      <td>478.6</td>\n",
              "    </tr>\n",
              "    <tr>\n",
              "      <th>39</th>\n",
              "      <td>160000106783</td>\n",
              "      <td>Altos</td>\n",
              "      <td>Pública</td>\n",
              "      <td>438.2</td>\n",
              "      <td>442.6</td>\n",
              "      <td>419.2</td>\n",
              "      <td>455.5</td>\n",
              "      <td>280.0</td>\n",
              "      <td>407.1</td>\n",
              "    </tr>\n",
              "  </tbody>\n",
              "</table>\n",
              "</div>"
            ],
            "text/plain": [
              "    NU_INSCRICAO NO_MUNICIPIO_ESC TP_ESCOLA  ...  NU_NOTA_MT  NU_NOTA_REDACAO  MEDIA\n",
              "2   160000432464            Altos   Pública  ...       366.0            460.0  478.6\n",
              "39  160000106783            Altos   Pública  ...       455.5            280.0  407.1\n",
              "\n",
              "[2 rows x 9 columns]"
            ]
          },
          "metadata": {
            "tags": []
          },
          "execution_count": 553
        }
      ]
    },
    {
      "cell_type": "code",
      "metadata": {
        "id": "KAO3MAsnpFlZ",
        "outputId": "a99b54f0-955e-43f9-e3dc-41b2253043fe",
        "colab": {
          "base_uri": "https://localhost:8080/"
        }
      },
      "source": [
        "#Visualização Dataframe 2017\n",
        "DF1_microdadosEnem2017.head(2)"
      ],
      "execution_count": null,
      "outputs": [
        {
          "output_type": "execute_result",
          "data": {
            "text/html": [
              "<div>\n",
              "<style scoped>\n",
              "    .dataframe tbody tr th:only-of-type {\n",
              "        vertical-align: middle;\n",
              "    }\n",
              "\n",
              "    .dataframe tbody tr th {\n",
              "        vertical-align: top;\n",
              "    }\n",
              "\n",
              "    .dataframe thead th {\n",
              "        text-align: right;\n",
              "    }\n",
              "</style>\n",
              "<table border=\"1\" class=\"dataframe\">\n",
              "  <thead>\n",
              "    <tr style=\"text-align: right;\">\n",
              "      <th></th>\n",
              "      <th>NU_INSCRICAO</th>\n",
              "      <th>NO_MUNICIPIO_ESC</th>\n",
              "      <th>TP_ESCOLA</th>\n",
              "      <th>NU_NOTA_CN</th>\n",
              "      <th>NU_NOTA_CH</th>\n",
              "      <th>NU_NOTA_LC</th>\n",
              "      <th>NU_NOTA_MT</th>\n",
              "      <th>NU_NOTA_REDACAO</th>\n",
              "      <th>MEDIA</th>\n",
              "    </tr>\n",
              "  </thead>\n",
              "  <tbody>\n",
              "    <tr>\n",
              "      <th>2</th>\n",
              "      <td>170001667565</td>\n",
              "      <td>Altos</td>\n",
              "      <td>Pública</td>\n",
              "      <td>631.3</td>\n",
              "      <td>589.4</td>\n",
              "      <td>597.3</td>\n",
              "      <td>573.3</td>\n",
              "      <td>740.0</td>\n",
              "      <td>626.26</td>\n",
              "    </tr>\n",
              "    <tr>\n",
              "      <th>10</th>\n",
              "      <td>170000002113</td>\n",
              "      <td>Altos</td>\n",
              "      <td>Pública</td>\n",
              "      <td>552.6</td>\n",
              "      <td>560.7</td>\n",
              "      <td>528.5</td>\n",
              "      <td>588.0</td>\n",
              "      <td>800.0</td>\n",
              "      <td>605.96</td>\n",
              "    </tr>\n",
              "  </tbody>\n",
              "</table>\n",
              "</div>"
            ],
            "text/plain": [
              "    NU_INSCRICAO NO_MUNICIPIO_ESC  ... NU_NOTA_REDACAO   MEDIA\n",
              "2   170001667565            Altos  ...           740.0  626.26\n",
              "10  170000002113            Altos  ...           800.0  605.96\n",
              "\n",
              "[2 rows x 9 columns]"
            ]
          },
          "metadata": {
            "tags": []
          },
          "execution_count": 554
        }
      ]
    },
    {
      "cell_type": "code",
      "metadata": {
        "id": "xvpYkeO2rPPR",
        "outputId": "0768b284-cb3a-40e7-d9d3-ef17f65e936e",
        "colab": {
          "base_uri": "https://localhost:8080/"
        }
      },
      "source": [
        "#Visualização Dataframe 2018\n",
        "DF1_microdadosEnem2018.head(2)"
      ],
      "execution_count": null,
      "outputs": [
        {
          "output_type": "execute_result",
          "data": {
            "text/html": [
              "<div>\n",
              "<style scoped>\n",
              "    .dataframe tbody tr th:only-of-type {\n",
              "        vertical-align: middle;\n",
              "    }\n",
              "\n",
              "    .dataframe tbody tr th {\n",
              "        vertical-align: top;\n",
              "    }\n",
              "\n",
              "    .dataframe thead th {\n",
              "        text-align: right;\n",
              "    }\n",
              "</style>\n",
              "<table border=\"1\" class=\"dataframe\">\n",
              "  <thead>\n",
              "    <tr style=\"text-align: right;\">\n",
              "      <th></th>\n",
              "      <th>NU_INSCRICAO</th>\n",
              "      <th>NO_MUNICIPIO_ESC</th>\n",
              "      <th>TP_ESCOLA</th>\n",
              "      <th>NU_NOTA_CN</th>\n",
              "      <th>NU_NOTA_CH</th>\n",
              "      <th>NU_NOTA_LC</th>\n",
              "      <th>NU_NOTA_MT</th>\n",
              "      <th>NU_NOTA_REDACAO</th>\n",
              "      <th>MEDIA</th>\n",
              "    </tr>\n",
              "  </thead>\n",
              "  <tbody>\n",
              "    <tr>\n",
              "      <th>31</th>\n",
              "      <td>180008947354</td>\n",
              "      <td>Altos</td>\n",
              "      <td>Pública</td>\n",
              "      <td>477.3</td>\n",
              "      <td>549.8</td>\n",
              "      <td>533.3</td>\n",
              "      <td>533.2</td>\n",
              "      <td>760.0</td>\n",
              "      <td>570.72</td>\n",
              "    </tr>\n",
              "    <tr>\n",
              "      <th>41</th>\n",
              "      <td>180008153109</td>\n",
              "      <td>Altos</td>\n",
              "      <td>Pública</td>\n",
              "      <td>385.9</td>\n",
              "      <td>411.3</td>\n",
              "      <td>470.7</td>\n",
              "      <td>517.7</td>\n",
              "      <td>440.0</td>\n",
              "      <td>445.12</td>\n",
              "    </tr>\n",
              "  </tbody>\n",
              "</table>\n",
              "</div>"
            ],
            "text/plain": [
              "    NU_INSCRICAO NO_MUNICIPIO_ESC  ... NU_NOTA_REDACAO   MEDIA\n",
              "31  180008947354            Altos  ...           760.0  570.72\n",
              "41  180008153109            Altos  ...           440.0  445.12\n",
              "\n",
              "[2 rows x 9 columns]"
            ]
          },
          "metadata": {
            "tags": []
          },
          "execution_count": 555
        }
      ]
    },
    {
      "cell_type": "code",
      "metadata": {
        "id": "2sRe_cmqsRCd",
        "outputId": "1142991c-3ad6-4621-e0ef-205067ca4589",
        "colab": {
          "base_uri": "https://localhost:8080/"
        }
      },
      "source": [
        "#Visualização Dataframe 2019\n",
        "DF1_microdadosEnem2019.head(2)"
      ],
      "execution_count": null,
      "outputs": [
        {
          "output_type": "execute_result",
          "data": {
            "text/html": [
              "<div>\n",
              "<style scoped>\n",
              "    .dataframe tbody tr th:only-of-type {\n",
              "        vertical-align: middle;\n",
              "    }\n",
              "\n",
              "    .dataframe tbody tr th {\n",
              "        vertical-align: top;\n",
              "    }\n",
              "\n",
              "    .dataframe thead th {\n",
              "        text-align: right;\n",
              "    }\n",
              "</style>\n",
              "<table border=\"1\" class=\"dataframe\">\n",
              "  <thead>\n",
              "    <tr style=\"text-align: right;\">\n",
              "      <th></th>\n",
              "      <th>NU_INSCRICAO</th>\n",
              "      <th>NO_MUNICIPIO_ESC</th>\n",
              "      <th>TP_ESCOLA</th>\n",
              "      <th>NU_NOTA_CN</th>\n",
              "      <th>NU_NOTA_CH</th>\n",
              "      <th>NU_NOTA_LC</th>\n",
              "      <th>NU_NOTA_MT</th>\n",
              "      <th>NU_NOTA_REDACAO</th>\n",
              "      <th>MEDIA</th>\n",
              "    </tr>\n",
              "  </thead>\n",
              "  <tbody>\n",
              "    <tr>\n",
              "      <th>0</th>\n",
              "      <td>190001095974</td>\n",
              "      <td>Altos</td>\n",
              "      <td>Pública</td>\n",
              "      <td>488.1</td>\n",
              "      <td>454.3</td>\n",
              "      <td>562.8</td>\n",
              "      <td>516.0</td>\n",
              "      <td>640.0</td>\n",
              "      <td>532.24</td>\n",
              "    </tr>\n",
              "    <tr>\n",
              "      <th>15</th>\n",
              "      <td>190001098363</td>\n",
              "      <td>Altos</td>\n",
              "      <td>Pública</td>\n",
              "      <td>347.1</td>\n",
              "      <td>471.5</td>\n",
              "      <td>407.5</td>\n",
              "      <td>445.4</td>\n",
              "      <td>560.0</td>\n",
              "      <td>446.30</td>\n",
              "    </tr>\n",
              "  </tbody>\n",
              "</table>\n",
              "</div>"
            ],
            "text/plain": [
              "    NU_INSCRICAO NO_MUNICIPIO_ESC  ... NU_NOTA_REDACAO   MEDIA\n",
              "0   190001095974            Altos  ...           640.0  532.24\n",
              "15  190001098363            Altos  ...           560.0  446.30\n",
              "\n",
              "[2 rows x 9 columns]"
            ]
          },
          "metadata": {
            "tags": []
          },
          "execution_count": 556
        }
      ]
    },
    {
      "cell_type": "markdown",
      "metadata": {
        "id": "c9-lhy_qtfiz"
      },
      "source": [
        "## **6.0 Desempenho Escola Pública na média geral**"
      ]
    },
    {
      "cell_type": "code",
      "metadata": {
        "id": "XPV0umrotsIQ"
      },
      "source": [
        "#Váriaveis para o gráfico \n",
        "public_escola_med = []\n",
        "priv_escola_med = []"
      ],
      "execution_count": null,
      "outputs": []
    },
    {
      "cell_type": "code",
      "metadata": {
        "id": "HYIe8Jo4vw_n",
        "outputId": "0636b8a2-3155-44c7-f296-2376fa11211c",
        "colab": {
          "base_uri": "https://localhost:8080/",
          "height": 111
        }
      },
      "source": [
        "#Visualização Dataframe com o dados filtrados e limpos\n",
        "DF1_microdadosEnem2016.head(2)"
      ],
      "execution_count": null,
      "outputs": [
        {
          "output_type": "execute_result",
          "data": {
            "text/html": [
              "<div>\n",
              "<style scoped>\n",
              "    .dataframe tbody tr th:only-of-type {\n",
              "        vertical-align: middle;\n",
              "    }\n",
              "\n",
              "    .dataframe tbody tr th {\n",
              "        vertical-align: top;\n",
              "    }\n",
              "\n",
              "    .dataframe thead th {\n",
              "        text-align: right;\n",
              "    }\n",
              "</style>\n",
              "<table border=\"1\" class=\"dataframe\">\n",
              "  <thead>\n",
              "    <tr style=\"text-align: right;\">\n",
              "      <th></th>\n",
              "      <th>NU_INSCRICAO</th>\n",
              "      <th>NO_MUNICIPIO_ESC</th>\n",
              "      <th>TP_ESCOLA</th>\n",
              "      <th>NU_NOTA_CN</th>\n",
              "      <th>NU_NOTA_CH</th>\n",
              "      <th>NU_NOTA_LC</th>\n",
              "      <th>NU_NOTA_MT</th>\n",
              "      <th>NU_NOTA_REDACAO</th>\n",
              "      <th>MEDIA</th>\n",
              "    </tr>\n",
              "  </thead>\n",
              "  <tbody>\n",
              "    <tr>\n",
              "      <th>2</th>\n",
              "      <td>160000432464</td>\n",
              "      <td>Altos</td>\n",
              "      <td>Pública</td>\n",
              "      <td>465.0</td>\n",
              "      <td>573.7</td>\n",
              "      <td>528.3</td>\n",
              "      <td>366.0</td>\n",
              "      <td>460.0</td>\n",
              "      <td>478.6</td>\n",
              "    </tr>\n",
              "    <tr>\n",
              "      <th>39</th>\n",
              "      <td>160000106783</td>\n",
              "      <td>Altos</td>\n",
              "      <td>Pública</td>\n",
              "      <td>438.2</td>\n",
              "      <td>442.6</td>\n",
              "      <td>419.2</td>\n",
              "      <td>455.5</td>\n",
              "      <td>280.0</td>\n",
              "      <td>407.1</td>\n",
              "    </tr>\n",
              "  </tbody>\n",
              "</table>\n",
              "</div>"
            ],
            "text/plain": [
              "    NU_INSCRICAO NO_MUNICIPIO_ESC TP_ESCOLA  ...  NU_NOTA_MT  NU_NOTA_REDACAO  MEDIA\n",
              "2   160000432464            Altos   Pública  ...       366.0            460.0  478.6\n",
              "39  160000106783            Altos   Pública  ...       455.5            280.0  407.1\n",
              "\n",
              "[2 rows x 9 columns]"
            ]
          },
          "metadata": {
            "tags": []
          },
          "execution_count": 558
        }
      ]
    },
    {
      "cell_type": "markdown",
      "metadata": {
        "id": "667Vefo2x-2Q"
      },
      "source": [
        "### **6.1 Novos dataframes para escolas públicas e privadas**"
      ]
    },
    {
      "cell_type": "markdown",
      "metadata": {
        "id": "aIUZ_xj-1oIt"
      },
      "source": [
        "#### **6.1.1 Dataframe escolas públicas**"
      ]
    },
    {
      "cell_type": "code",
      "metadata": {
        "id": "6gp-yliXvjjD"
      },
      "source": [
        "#Novo Dataframe\n",
        "public_dados2016 = DF1_microdadosEnem2016[['TP_ESCOLA','NU_NOTA_CN','NU_NOTA_CH','NU_NOTA_LC','NU_NOTA_MT','NU_NOTA_REDACAO','MEDIA']]\n",
        "public_dados2017 = DF1_microdadosEnem2017[['TP_ESCOLA','NU_NOTA_CN','NU_NOTA_CH','NU_NOTA_LC','NU_NOTA_MT','NU_NOTA_REDACAO','MEDIA']]\n",
        "public_dados2018 = DF1_microdadosEnem2018[['TP_ESCOLA','NU_NOTA_CN','NU_NOTA_CH','NU_NOTA_LC','NU_NOTA_MT','NU_NOTA_REDACAO','MEDIA']]\n",
        "public_dados2019 = DF1_microdadosEnem2019[['TP_ESCOLA','NU_NOTA_CN','NU_NOTA_CH','NU_NOTA_LC','NU_NOTA_MT','NU_NOTA_REDACAO','MEDIA']]"
      ],
      "execution_count": null,
      "outputs": []
    },
    {
      "cell_type": "code",
      "metadata": {
        "id": "BV6_bhbzwEvs"
      },
      "source": [
        "#Apenas aqueles que estudaram em escolas públicas\n",
        "public_dados2016['TP_ESCOLA'] = public_dados2016.loc[public_dados2016['TP_ESCOLA'] == 'Pública']\n",
        "public_dados2017['TP_ESCOLA'] = public_dados2017.loc[public_dados2017['TP_ESCOLA'] == 'Pública']\n",
        "public_dados2018['TP_ESCOLA'] = public_dados2018.loc[public_dados2018['TP_ESCOLA'] == 'Pública']\n",
        "public_dados2019['TP_ESCOLA'] = public_dados2019.loc[public_dados2019['TP_ESCOLA'] == 'Pública']"
      ],
      "execution_count": null,
      "outputs": []
    },
    {
      "cell_type": "code",
      "metadata": {
        "id": "58XqK3sTyz6Q",
        "outputId": "ddae46e9-b505-4139-f597-e30b7d5c21a5",
        "colab": {
          "base_uri": "https://localhost:8080/"
        }
      },
      "source": [
        "#Visualização de inscritos por escolas públicas que estudaram no município de Altos em 2016 a 2019\n",
        "print(public_dados2016['TP_ESCOLA'].value_counts(),\n",
        "public_dados2017['TP_ESCOLA'].value_counts(),\n",
        "public_dados2018['TP_ESCOLA'].value_counts(),\n",
        "public_dados2019['TP_ESCOLA'].value_counts())"
      ],
      "execution_count": null,
      "outputs": [
        {
          "output_type": "stream",
          "text": [
            "Pública    332\n",
            "Name: TP_ESCOLA, dtype: int64 Pública    292\n",
            "Name: TP_ESCOLA, dtype: int64 Pública    208\n",
            "Name: TP_ESCOLA, dtype: int64 Pública    193\n",
            "Name: TP_ESCOLA, dtype: int64\n"
          ],
          "name": "stdout"
        }
      ]
    },
    {
      "cell_type": "markdown",
      "metadata": {
        "id": "kNVmPZFG1Kha"
      },
      "source": [
        "**Inscritos por escolas públicas que estudaram no município de Altos em 2016 a 2019:**\n",
        "\n",
        "* 2016 - 332 Inscritos \n",
        "* 2017 - 292 Inscritos\n",
        "* 2018 - 208 Inscritos\n",
        "* 2019 - 193 Inscritos"
      ]
    },
    {
      "cell_type": "markdown",
      "metadata": {
        "id": "TkAYE0KZ19Ct"
      },
      "source": [
        "#### **6.1.2 Dataframe escolas privadas**"
      ]
    },
    {
      "cell_type": "code",
      "metadata": {
        "id": "_NM7Fnpa2BxC"
      },
      "source": [
        "#Novo Dataframe\n",
        "priv_dados2016 = DF1_microdadosEnem2016[['TP_ESCOLA','NU_NOTA_CN','NU_NOTA_CH','NU_NOTA_LC','NU_NOTA_MT','NU_NOTA_REDACAO','MEDIA']]\n",
        "priv_dados2017 = DF1_microdadosEnem2017[['TP_ESCOLA','NU_NOTA_CN','NU_NOTA_CH','NU_NOTA_LC','NU_NOTA_MT','NU_NOTA_REDACAO','MEDIA']]\n",
        "priv_dados2018 = DF1_microdadosEnem2018[['TP_ESCOLA','NU_NOTA_CN','NU_NOTA_CH','NU_NOTA_LC','NU_NOTA_MT','NU_NOTA_REDACAO','MEDIA']]\n",
        "priv_dados2019 = DF1_microdadosEnem2019[['TP_ESCOLA','NU_NOTA_CN','NU_NOTA_CH','NU_NOTA_LC','NU_NOTA_MT','NU_NOTA_REDACAO','MEDIA']]"
      ],
      "execution_count": null,
      "outputs": []
    },
    {
      "cell_type": "code",
      "metadata": {
        "id": "-M_jy3lw2Pl8"
      },
      "source": [
        "#Apenas aqueles que estudaram em escolas públicas\n",
        "priv_dados2016['TP_ESCOLA'] = priv_dados2016.loc[priv_dados2016['TP_ESCOLA'] == 'Privada']\n",
        "priv_dados2017['TP_ESCOLA'] = priv_dados2017.loc[priv_dados2017['TP_ESCOLA'] == 'Privada']\n",
        "priv_dados2018['TP_ESCOLA'] = priv_dados2018.loc[priv_dados2018['TP_ESCOLA'] == 'Privada']\n",
        "priv_dados2019['TP_ESCOLA'] = priv_dados2019.loc[priv_dados2019['TP_ESCOLA'] == 'Privada']"
      ],
      "execution_count": null,
      "outputs": []
    },
    {
      "cell_type": "code",
      "metadata": {
        "id": "d3PalAuG2g7f",
        "outputId": "0307cf7e-b221-49e1-9703-4649b9e18818",
        "colab": {
          "base_uri": "https://localhost:8080/"
        }
      },
      "source": [
        "#Visualização de inscritos por escolas privadas que estudaram no município de Altos em 2016 a 2019\n",
        "print(priv_dados2016['TP_ESCOLA'].value_counts(),\n",
        "priv_dados2017['TP_ESCOLA'].value_counts(),\n",
        "priv_dados2018['TP_ESCOLA'].value_counts(),\n",
        "priv_dados2019['TP_ESCOLA'].value_counts())"
      ],
      "execution_count": null,
      "outputs": [
        {
          "output_type": "stream",
          "text": [
            "Privada    28\n",
            "Name: TP_ESCOLA, dtype: int64 Privada    19\n",
            "Name: TP_ESCOLA, dtype: int64 Privada    1\n",
            "Name: TP_ESCOLA, dtype: int64 Privada    5\n",
            "Name: TP_ESCOLA, dtype: int64\n"
          ],
          "name": "stdout"
        }
      ]
    },
    {
      "cell_type": "markdown",
      "metadata": {
        "id": "rOsjCaAf3Db7"
      },
      "source": [
        "**Inscritos por escolas privadas que estudaram no município de Altos em 2016 a 2019:**\n",
        "\n",
        "* 2016 - 28 Inscritos\n",
        "* 2017 - 19 Inscritos\n",
        "* 2018 - 1 Inscritos\n",
        "* 2019 - 5 Inscritos"
      ]
    },
    {
      "cell_type": "code",
      "metadata": {
        "id": "N8LYlxoq2pbF"
      },
      "source": [
        ""
      ],
      "execution_count": null,
      "outputs": []
    }
  ]
}