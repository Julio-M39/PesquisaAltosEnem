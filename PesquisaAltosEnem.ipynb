{
  "nbformat": 4,
  "nbformat_minor": 0,
  "metadata": {
    "colab": {
      "name": "PesquisaAltosEnem.ipynb",
      "provenance": [],
      "toc_visible": true,
      "authorship_tag": "ABX9TyOQxVgMzbke0XiY59Bik58S",
      "include_colab_link": true
    },
    "kernelspec": {
      "name": "python3",
      "display_name": "Python 3"
    }
  },
  "cells": [
    {
      "cell_type": "markdown",
      "metadata": {
        "id": "view-in-github",
        "colab_type": "text"
      },
      "source": [
        "<a href=\"https://colab.research.google.com/github/Julio-M39/PesquisaAltosEnem/blob/master/PesquisaAltosEnem.ipynb\" target=\"_parent\"><img src=\"https://colab.research.google.com/assets/colab-badge.svg\" alt=\"Open In Colab\"/></a>"
      ]
    },
    {
      "cell_type": "markdown",
      "metadata": {
        "id": "i7ehziNl_mJm"
      },
      "source": [
        "# **PESQUISA DE DESEMPENHO DOS INSCRITOS NO ENEM 2016 a 2019 QUE MORAM OU MORAVAM NO MUNICÍPIO DE ALTOS NO ESTADO DO PIAUÍ**"
      ]
    },
    {
      "cell_type": "markdown",
      "metadata": {
        "id": "EHECmtyMEsvz"
      },
      "source": [
        "## **1.0 Bibliotecas**"
      ]
    },
    {
      "cell_type": "code",
      "metadata": {
        "id": "IkaK3jRK_HFs"
      },
      "source": [
        "#Importando Bibliotecas\n",
        "import pandas as pd"
      ],
      "execution_count": 3,
      "outputs": []
    },
    {
      "cell_type": "markdown",
      "metadata": {
        "id": "dXanULzlFlzs"
      },
      "source": [
        "## **2.0 Lendo os Dados**"
      ]
    },
    {
      "cell_type": "code",
      "metadata": {
        "id": "2GASPlSJ776V"
      },
      "source": [
        "#Selecionando as bases de dados\n",
        "fonte2016 = 'https://github.com/Julio-M39/PesquisaAltosEnem/blob/master/microdadosEnem2016.csv?raw=true'\n",
        "fonte2017 = 'https://github.com/Julio-M39/PesquisaAltosEnem/blob/master/microdadosEnem2017.csv?raw=true'\n",
        "fonte2018 = 'https://github.com/Julio-M39/PesquisaAltosEnem/blob/master/microdadosEnem2018.csv?raw=true'\n",
        "fonte2019 = 'https://github.com/Julio-M39/PesquisaAltosEnem/blob/master/microdadosEnem2019.csv?raw=true'"
      ],
      "execution_count": 7,
      "outputs": []
    },
    {
      "cell_type": "code",
      "metadata": {
        "id": "p39d2zSw-2KT"
      },
      "source": [
        "#Leitura de dados\n",
        "microdadosEnem2016 = pd.read_csv(fonte2016)\n",
        "microdadosEnem2017 = pd.read_csv(fonte2017)\n",
        "microdadosEnem2018 = pd.read_csv(fonte2018)\n",
        "microdadosEnem2019 = pd.read_csv(fonte2019)"
      ],
      "execution_count": 8,
      "outputs": []
    },
    {
      "cell_type": "markdown",
      "metadata": {
        "id": "N3n6QYATG3Tg"
      },
      "source": [
        "## **3.0 Explorando os Dados**"
      ]
    },
    {
      "cell_type": "markdown",
      "metadata": {
        "id": "Acsd00smnYO1"
      },
      "source": [
        "### **3.1 Visualização do dataframe**"
      ]
    },
    {
      "cell_type": "code",
      "metadata": {
        "id": "Er9Alfpz_GNf",
        "outputId": "c6314ee3-8acf-4b02-be16-afc53bdce7f9",
        "colab": {
          "base_uri": "https://localhost:8080/",
          "height": 179
        }
      },
      "source": [
        "#Visualização do dataframe\n",
        "microdadosEnem2019.head(3)"
      ],
      "execution_count": 9,
      "outputs": [
        {
          "output_type": "execute_result",
          "data": {
            "text/html": [
              "<div>\n",
              "<style scoped>\n",
              "    .dataframe tbody tr th:only-of-type {\n",
              "        vertical-align: middle;\n",
              "    }\n",
              "\n",
              "    .dataframe tbody tr th {\n",
              "        vertical-align: top;\n",
              "    }\n",
              "\n",
              "    .dataframe thead th {\n",
              "        text-align: right;\n",
              "    }\n",
              "</style>\n",
              "<table border=\"1\" class=\"dataframe\">\n",
              "  <thead>\n",
              "    <tr style=\"text-align: right;\">\n",
              "      <th></th>\n",
              "      <th>Unnamed: 0</th>\n",
              "      <th>NU_INSCRICAO</th>\n",
              "      <th>NU_ANO</th>\n",
              "      <th>NO_MUNICIPIO_RESIDENCIA</th>\n",
              "      <th>SG_UF_RESIDENCIA</th>\n",
              "      <th>NU_IDADE</th>\n",
              "      <th>TP_SEXO</th>\n",
              "      <th>TP_ST_CONCLUSAO</th>\n",
              "      <th>TP_ESCOLA</th>\n",
              "      <th>NO_MUNICIPIO_ESC</th>\n",
              "      <th>TP_DEPENDENCIA_ADM_ESC</th>\n",
              "      <th>NO_MUNICIPIO_PROVA</th>\n",
              "      <th>NU_NOTA_CN</th>\n",
              "      <th>NU_NOTA_CH</th>\n",
              "      <th>NU_NOTA_LC</th>\n",
              "      <th>NU_NOTA_MT</th>\n",
              "      <th>NU_NOTA_REDACAO</th>\n",
              "    </tr>\n",
              "  </thead>\n",
              "  <tbody>\n",
              "    <tr>\n",
              "      <th>0</th>\n",
              "      <td>91345</td>\n",
              "      <td>190001095974</td>\n",
              "      <td>2019</td>\n",
              "      <td>Altos</td>\n",
              "      <td>PI</td>\n",
              "      <td>18</td>\n",
              "      <td>M</td>\n",
              "      <td>2</td>\n",
              "      <td>2</td>\n",
              "      <td>Altos</td>\n",
              "      <td>2.0</td>\n",
              "      <td>Altos</td>\n",
              "      <td>488.1</td>\n",
              "      <td>454.3</td>\n",
              "      <td>562.8</td>\n",
              "      <td>516.0</td>\n",
              "      <td>640.0</td>\n",
              "    </tr>\n",
              "    <tr>\n",
              "      <th>1</th>\n",
              "      <td>91355</td>\n",
              "      <td>190001095984</td>\n",
              "      <td>2019</td>\n",
              "      <td>Altos</td>\n",
              "      <td>PI</td>\n",
              "      <td>25</td>\n",
              "      <td>F</td>\n",
              "      <td>1</td>\n",
              "      <td>1</td>\n",
              "      <td>NaN</td>\n",
              "      <td>NaN</td>\n",
              "      <td>Altos</td>\n",
              "      <td>424.0</td>\n",
              "      <td>440.8</td>\n",
              "      <td>539.0</td>\n",
              "      <td>462.5</td>\n",
              "      <td>560.0</td>\n",
              "    </tr>\n",
              "    <tr>\n",
              "      <th>2</th>\n",
              "      <td>91397</td>\n",
              "      <td>190001096026</td>\n",
              "      <td>2019</td>\n",
              "      <td>Altos</td>\n",
              "      <td>PI</td>\n",
              "      <td>23</td>\n",
              "      <td>F</td>\n",
              "      <td>1</td>\n",
              "      <td>1</td>\n",
              "      <td>NaN</td>\n",
              "      <td>NaN</td>\n",
              "      <td>Altos</td>\n",
              "      <td>426.5</td>\n",
              "      <td>442.4</td>\n",
              "      <td>455.3</td>\n",
              "      <td>413.3</td>\n",
              "      <td>720.0</td>\n",
              "    </tr>\n",
              "  </tbody>\n",
              "</table>\n",
              "</div>"
            ],
            "text/plain": [
              "   Unnamed: 0  NU_INSCRICAO  NU_ANO  ... NU_NOTA_LC NU_NOTA_MT  NU_NOTA_REDACAO\n",
              "0       91345  190001095974    2019  ...      562.8      516.0            640.0\n",
              "1       91355  190001095984    2019  ...      539.0      462.5            560.0\n",
              "2       91397  190001096026    2019  ...      455.3      413.3            720.0\n",
              "\n",
              "[3 rows x 17 columns]"
            ]
          },
          "metadata": {
            "tags": []
          },
          "execution_count": 9
        }
      ]
    },
    {
      "cell_type": "markdown",
      "metadata": {
        "id": "QAKvQfp6faRa"
      },
      "source": [
        "Visualização de apenas um dataframe pois os outros seguem o mesmo padrão de colunas, ou seja as colunas de todos os dataframes são iguais"
      ]
    },
    {
      "cell_type": "markdown",
      "metadata": {
        "id": "V7qScKDnkdbY"
      },
      "source": [
        "### **3.2 Números de inscritos Altoenses por ano**"
      ]
    },
    {
      "cell_type": "code",
      "metadata": {
        "id": "yx1HlUtFj6aP",
        "outputId": "0ae30391-7b23-486f-df05-afe0a61faa78",
        "colab": {
          "base_uri": "https://localhost:8080/"
        }
      },
      "source": [
        "#Verificando se existem inscrições em branco\n",
        "print(microdadosEnem2019['NU_INSCRICAO'].isnull().sum())\n"
      ],
      "execution_count": 15,
      "outputs": [
        {
          "output_type": "stream",
          "text": [
            "0\n"
          ],
          "name": "stdout"
        }
      ]
    },
    {
      "cell_type": "markdown",
      "metadata": {
        "id": "_eK42YIrlmYt"
      },
      "source": [
        "Todas as linhas de inscritos estão preenchidas"
      ]
    },
    {
      "cell_type": "code",
      "metadata": {
        "id": "Kyr6agyVexk3",
        "outputId": "c3479237-e829-4e61-bbf0-5648ddb22069",
        "colab": {
          "base_uri": "https://localhost:8080/"
        }
      },
      "source": [
        "#Número de inscritos\n",
        "print(microdadosEnem2019['NU_INSCRICAO'].shape,\n",
        "      microdadosEnem2018['NU_INSCRICAO'].shape,\n",
        "      microdadosEnem2017['NU_INSCRICAO'].shape,\n",
        "      microdadosEnem2016['NU_INSCRICAO'].shape)"
      ],
      "execution_count": 14,
      "outputs": [
        {
          "output_type": "stream",
          "text": [
            "(1507,) (1439,) (1979,) (2450,)\n"
          ],
          "name": "stdout"
        }
      ]
    },
    {
      "cell_type": "markdown",
      "metadata": {
        "id": "O8Ur2pdkkyVt"
      },
      "source": [
        "Números de inscritos que residem em Altos por ano:\n",
        "\n",
        "* Ano de 2019 - 1507 Inscritos\n",
        "* Ano de 2018 - 1439 Inscritos\n",
        "* Ano de 2017 - 1979 Inscritos\n",
        "* Ano de 2016 - 2450 Inscritos"
      ]
    },
    {
      "cell_type": "markdown",
      "metadata": {
        "id": "F1B3x6u2mD7t"
      },
      "source": [
        "### **3.3 Números de inscritos Altoenses pelo município da escola onde estudaram**"
      ]
    },
    {
      "cell_type": "markdown",
      "metadata": {
        "id": "_3IsiXR-sP6q"
      },
      "source": [
        "#### **2019**"
      ]
    },
    {
      "cell_type": "code",
      "metadata": {
        "id": "sd3LDjaNlyO6",
        "outputId": "e5567e24-13b2-4ad6-976a-67b07ae23104",
        "colab": {
          "base_uri": "https://localhost:8080/"
        }
      },
      "source": [
        "#Verificar quantos inscritos não responderam com o nome do município da escola em 2019\n",
        "print(microdadosEnem2019['NO_MUNICIPIO_ESC'].isnull().sum())"
      ],
      "execution_count": 16,
      "outputs": [
        {
          "output_type": "stream",
          "text": [
            "1217\n"
          ],
          "name": "stdout"
        }
      ]
    },
    {
      "cell_type": "code",
      "metadata": {
        "id": "ifkj8gPgmmiq",
        "outputId": "74ffcee6-662d-4f2c-ca2e-55d66e85702a",
        "colab": {
          "base_uri": "https://localhost:8080/"
        }
      },
      "source": [
        "#Verificar os nomes dos municípios onde os inscritos Altoenses estudaram em 2019\n",
        "microdadosEnem2019['NO_MUNICIPIO_ESC'].value_counts()"
      ],
      "execution_count": 20,
      "outputs": [
        {
          "output_type": "execute_result",
          "data": {
            "text/plain": [
              "Altos                  233\n",
              "Teresina                47\n",
              "Campo Maior              7\n",
              "Pau D'Arco do Piauí      2\n",
              "Bom Jesus                1\n",
              "Name: NO_MUNICIPIO_ESC, dtype: int64"
            ]
          },
          "metadata": {
            "tags": []
          },
          "execution_count": 20
        }
      ]
    },
    {
      "cell_type": "markdown",
      "metadata": {
        "id": "C9y8WQtaoXFt"
      },
      "source": [
        "Em 2019 os municípios onde os Altoenses estudaram foram:\n",
        "\n",
        "* 233 Inscritos - Município de Altos\n",
        "* 47 Inscritos - Município de Teresina \n",
        "* 7 Inscritos - Município de Campo Maior\n",
        "* 2 Inscritos - Município de Pau D'Arco do Piauí\n",
        "* 1 Inscritos - Município de Bom Jesus\n",
        "\n",
        "1217 Inscritos não responderam com o nome do município da escola onde estudou ou estuda, totalizando os 1507 inscritos no ano de 2019.\n",
        "\n",
        "\n",
        "\n"
      ]
    },
    {
      "cell_type": "markdown",
      "metadata": {
        "id": "YzeaOo3jsm2M"
      },
      "source": [
        "#### **2018**"
      ]
    },
    {
      "cell_type": "code",
      "metadata": {
        "id": "BuvGwm4Lq6Sk",
        "outputId": "e76516aa-0f63-4045-a875-43240e6ff85b",
        "colab": {
          "base_uri": "https://localhost:8080/"
        }
      },
      "source": [
        "#Verificar quantos inscritos não responderam com o nome do município da escola em 2018\n",
        "print(microdadosEnem2018['NO_MUNICIPIO_ESC'].isnull().sum())"
      ],
      "execution_count": 22,
      "outputs": [
        {
          "output_type": "stream",
          "text": [
            "1132\n"
          ],
          "name": "stdout"
        }
      ]
    },
    {
      "cell_type": "code",
      "metadata": {
        "id": "9fka5cMZm35W",
        "outputId": "5d627e27-e293-4917-c63e-bae09bb70591",
        "colab": {
          "base_uri": "https://localhost:8080/"
        }
      },
      "source": [
        "#Verificar os nomes dos municípios onde os inscritos Altoenses estudaram em 2018\n",
        "microdadosEnem2018['NO_MUNICIPIO_ESC'].value_counts()"
      ],
      "execution_count": 21,
      "outputs": [
        {
          "output_type": "execute_result",
          "data": {
            "text/plain": [
              "Altos                  257\n",
              "Teresina                44\n",
              "Pau D'Arco do Piauí      3\n",
              "Campo Maior              2\n",
              "São João da Serra        1\n",
              "Name: NO_MUNICIPIO_ESC, dtype: int64"
            ]
          },
          "metadata": {
            "tags": []
          },
          "execution_count": 21
        }
      ]
    },
    {
      "cell_type": "markdown",
      "metadata": {
        "id": "yQTIxwKkrqy3"
      },
      "source": [
        "Em 2018 os municípios onde os Altoenses estudaram foram:\n",
        "\n",
        "* 257 Inscritos - Município de Altos\n",
        "* 44 Inscritos - Município de Teresina\n",
        "* 3 Inscritos - Município de Pau D'Arco do Piauí\n",
        "* 2 Inscritos - Município de Campo Maior\n",
        "* 1 Inscritos - Município de São João da Serra\n",
        "\n",
        "1132 Inscritos não responderam com o nome do município da escola onde estudou ou estuda, totalizando os 1439 inscritos no ano de 2018."
      ]
    },
    {
      "cell_type": "markdown",
      "metadata": {
        "id": "5Eojk5UAssc4"
      },
      "source": [
        "#### **2017**"
      ]
    },
    {
      "cell_type": "code",
      "metadata": {
        "id": "TosX-oy6s2Nv",
        "outputId": "4c005974-02d8-4801-d963-7b77f98ef504",
        "colab": {
          "base_uri": "https://localhost:8080/"
        }
      },
      "source": [
        "#Verificar quantos inscritos não responderam com o nome do município da escola em 2017\n",
        "print(microdadosEnem2017['NO_MUNICIPIO_ESC'].isnull().sum())"
      ],
      "execution_count": 23,
      "outputs": [
        {
          "output_type": "stream",
          "text": [
            "1564\n"
          ],
          "name": "stdout"
        }
      ]
    },
    {
      "cell_type": "code",
      "metadata": {
        "id": "BF5fVooitLjr",
        "outputId": "f29e615f-3ac6-4fb5-9772-da94e34750b8",
        "colab": {
          "base_uri": "https://localhost:8080/"
        }
      },
      "source": [
        "#Verificar os nomes dos municípios onde os inscritos Altoenses estudaram em 2017\n",
        "microdadosEnem2017['NO_MUNICIPIO_ESC'].value_counts()"
      ],
      "execution_count": 24,
      "outputs": [
        {
          "output_type": "execute_result",
          "data": {
            "text/plain": [
              "Altos                  372\n",
              "Teresina                34\n",
              "Pau D'Arco do Piauí      4\n",
              "Campo Maior              4\n",
              "Coivaras                 1\n",
              "Name: NO_MUNICIPIO_ESC, dtype: int64"
            ]
          },
          "metadata": {
            "tags": []
          },
          "execution_count": 24
        }
      ]
    },
    {
      "cell_type": "markdown",
      "metadata": {
        "id": "c7Tx1pb7uodz"
      },
      "source": [
        "Em 2017 os municípios onde os Altoenses estudaram foram:\n",
        "\n",
        "* 372 Inscritos - Município de Altos\n",
        "* 34 Inscritos - Município de Teresina\n",
        "* 4 Inscritos - Município de Pau D'Arco do Piauí\n",
        "* 4 Inscritos - Município de Campo Maior\n",
        "* 1 Inscritos - Município de Coivaras\n",
        "\n",
        "1564 Inscritos não responderam com o nome do município da escola onde estudou ou estuda, totalizando os 1979 inscritos no ano de 2017."
      ]
    },
    {
      "cell_type": "markdown",
      "metadata": {
        "id": "zeGJXvPhsxTb"
      },
      "source": [
        "#### **2016**"
      ]
    },
    {
      "cell_type": "code",
      "metadata": {
        "id": "0qzR6VNGq5IC",
        "outputId": "fbcfae70-7715-4589-8da3-19ce1ba5f70c",
        "colab": {
          "base_uri": "https://localhost:8080/"
        }
      },
      "source": [
        "#Verificar quantos inscritos não responderam com o nome do município da escola em 2016\n",
        "print(microdadosEnem2016['NO_MUNICIPIO_ESC'].isnull().sum())"
      ],
      "execution_count": 25,
      "outputs": [
        {
          "output_type": "stream",
          "text": [
            "1983\n"
          ],
          "name": "stdout"
        }
      ]
    },
    {
      "cell_type": "code",
      "metadata": {
        "id": "RQhpOSbJwj7a",
        "outputId": "6e41d2e2-11a1-4502-dc12-472bf45c7929",
        "colab": {
          "base_uri": "https://localhost:8080/"
        }
      },
      "source": [
        "#Verificar os nomes dos municípios onde os inscritos Altoenses estudaram em 2016\n",
        "microdadosEnem2016['NO_MUNICIPIO_ESC'].value_counts()"
      ],
      "execution_count": 26,
      "outputs": [
        {
          "output_type": "execute_result",
          "data": {
            "text/plain": [
              "Altos                  409\n",
              "Teresina                42\n",
              "Pau D'Arco do Piauí     13\n",
              "Corrente                 1\n",
              "Santa Inês               1\n",
              "Beneditinos              1\n",
              "Name: NO_MUNICIPIO_ESC, dtype: int64"
            ]
          },
          "metadata": {
            "tags": []
          },
          "execution_count": 26
        }
      ]
    },
    {
      "cell_type": "markdown",
      "metadata": {
        "id": "MUdfrcAUwqes"
      },
      "source": [
        "Em 2016 os municípios onde os Altoenses estudaram foram:\n",
        "\n",
        "* 409 Inscritos - Município de Altos\n",
        "* 42 Inscritos - Município de Teresina\n",
        "* 13 Inscritos - Município de Pau D'Arco do Piauí\n",
        "* 1 Inscrito - Município de Corrente\n",
        "* 1 Inscritos - Município de Santa Inês\n",
        "* 1 Inscritos - Município de Beneditinos\n",
        "\n",
        "1983 Inscritos não responderam com o nome do município da escola onde estudou ou estuda, totalizando os 2450 inscritos no ano de 2017."
      ]
    },
    {
      "cell_type": "markdown",
      "metadata": {
        "id": "rgJ6v9aNx8Sc"
      },
      "source": [
        "### **4.0 Tratando os Dados**"
      ]
    },
    {
      "cell_type": "code",
      "metadata": {
        "id": "VMh2R0Nax7K9"
      },
      "source": [
        ""
      ],
      "execution_count": null,
      "outputs": []
    }
  ]
}