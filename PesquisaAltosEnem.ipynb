{
  "nbformat": 4,
  "nbformat_minor": 0,
  "metadata": {
    "colab": {
      "name": "PesquisaAltosEnem.ipynb",
      "provenance": [],
      "collapsed_sections": [
        "EHECmtyMEsvz",
        "dXanULzlFlzs",
        "N3n6QYATG3Tg",
        "Acsd00smnYO1",
        "V7qScKDnkdbY",
        "F1B3x6u2mD7t",
        "qp9zODpfyTgb",
        "ZhufNgMe2OmS",
        "_3IsiXR-sP6q",
        "YzeaOo3jsm2M",
        "5Eojk5UAssc4",
        "zeGJXvPhsxTb",
        "rgJ6v9aNx8Sc",
        "spfjO48oIC3i",
        "idz_rt2eId_P",
        "pMJqd-0gIyGJ",
        "qO5tF3eHI1_f",
        "CGovGem5I57L",
        "P4WKCOi3I_M8",
        "gQEud7xHZTIh",
        "NeA33ck7OD6K",
        "qK9RPXe38WyQ",
        "i3fr5AHJuhOw",
        "nitxie589LRy",
        "uTwLq9aUWaL2",
        "q88NqAzOWh_f",
        "7n1so_foWonv",
        "mW64-kU2WsM_",
        "17R7tqKIWB4c",
        "AY8ArkSH95Jr",
        "Z7yoCr0O_5mo",
        "RntrRSMxAehC",
        "bj6M95UAAoBY"
      ],
      "toc_visible": true,
      "authorship_tag": "ABX9TyNz6cuv7LBN/q60FbWH6KVh",
      "include_colab_link": true
    },
    "kernelspec": {
      "name": "python3",
      "display_name": "Python 3"
    }
  },
  "cells": [
    {
      "cell_type": "markdown",
      "metadata": {
        "id": "view-in-github",
        "colab_type": "text"
      },
      "source": [
        "<a href=\"https://colab.research.google.com/github/Julio-M39/PesquisaAltosEnem/blob/master/PesquisaAltosEnem.ipynb\" target=\"_parent\"><img src=\"https://colab.research.google.com/assets/colab-badge.svg\" alt=\"Open In Colab\"/></a>"
      ]
    },
    {
      "cell_type": "markdown",
      "metadata": {
        "id": "i7ehziNl_mJm"
      },
      "source": [
        "# **PESQUISA DE DESEMPENHO DOS INSCRITOS ALTOENSE NO ENEM 2016 a 2019 QUE ESTUDARAM EM ESCOLAS PÚBLICAS NO MUNICÍPIO DE ALTOS NO ESTADO DO PIAUÍ**"
      ]
    },
    {
      "cell_type": "markdown",
      "metadata": {
        "id": "EHECmtyMEsvz"
      },
      "source": [
        "## **1.0 Bibliotecas**"
      ]
    },
    {
      "cell_type": "code",
      "metadata": {
        "id": "IkaK3jRK_HFs"
      },
      "source": [
        "#Importando Bibliotecas\n",
        "import pandas as pd"
      ],
      "execution_count": 625,
      "outputs": []
    },
    {
      "cell_type": "markdown",
      "metadata": {
        "id": "dXanULzlFlzs"
      },
      "source": [
        "## **2.0 Lendo os Dados**"
      ]
    },
    {
      "cell_type": "code",
      "metadata": {
        "id": "2GASPlSJ776V"
      },
      "source": [
        "#Selecionando as bases de dados\n",
        "fonte2016 = 'https://github.com/Julio-M39/PesquisaAltosEnem/blob/master/microdadosEnem2016.csv?raw=true'\n",
        "fonte2017 = 'https://github.com/Julio-M39/PesquisaAltosEnem/blob/master/microdadosEnem2017.csv?raw=true'\n",
        "fonte2018 = 'https://github.com/Julio-M39/PesquisaAltosEnem/blob/master/microdadosEnem2018.csv?raw=true'\n",
        "fonte2019 = 'https://github.com/Julio-M39/PesquisaAltosEnem/blob/master/microdadosEnem2019.csv?raw=true'"
      ],
      "execution_count": 626,
      "outputs": []
    },
    {
      "cell_type": "code",
      "metadata": {
        "id": "p39d2zSw-2KT"
      },
      "source": [
        "#Leitura de dados\n",
        "microdadosEnem2016 = pd.read_csv(fonte2016)\n",
        "microdadosEnem2017 = pd.read_csv(fonte2017)\n",
        "microdadosEnem2018 = pd.read_csv(fonte2018)\n",
        "microdadosEnem2019 = pd.read_csv(fonte2019)"
      ],
      "execution_count": 627,
      "outputs": []
    },
    {
      "cell_type": "markdown",
      "metadata": {
        "id": "N3n6QYATG3Tg"
      },
      "source": [
        "## **3.0 Explorando os Dados**"
      ]
    },
    {
      "cell_type": "markdown",
      "metadata": {
        "id": "Acsd00smnYO1"
      },
      "source": [
        "### **3.1 Visualização do Dataframe**"
      ]
    },
    {
      "cell_type": "code",
      "metadata": {
        "id": "Er9Alfpz_GNf",
        "outputId": "dcd52ae7-6b2d-4bdb-8022-d532d6db36bb",
        "colab": {
          "base_uri": "https://localhost:8080/",
          "height": 179
        }
      },
      "source": [
        "#Visualização do Dataframe\n",
        "microdadosEnem2019.head(3)"
      ],
      "execution_count": 628,
      "outputs": [
        {
          "output_type": "execute_result",
          "data": {
            "text/html": [
              "<div>\n",
              "<style scoped>\n",
              "    .dataframe tbody tr th:only-of-type {\n",
              "        vertical-align: middle;\n",
              "    }\n",
              "\n",
              "    .dataframe tbody tr th {\n",
              "        vertical-align: top;\n",
              "    }\n",
              "\n",
              "    .dataframe thead th {\n",
              "        text-align: right;\n",
              "    }\n",
              "</style>\n",
              "<table border=\"1\" class=\"dataframe\">\n",
              "  <thead>\n",
              "    <tr style=\"text-align: right;\">\n",
              "      <th></th>\n",
              "      <th>Unnamed: 0</th>\n",
              "      <th>NU_INSCRICAO</th>\n",
              "      <th>NU_ANO</th>\n",
              "      <th>NO_MUNICIPIO_RESIDENCIA</th>\n",
              "      <th>SG_UF_RESIDENCIA</th>\n",
              "      <th>NU_IDADE</th>\n",
              "      <th>TP_SEXO</th>\n",
              "      <th>TP_ST_CONCLUSAO</th>\n",
              "      <th>TP_ESCOLA</th>\n",
              "      <th>NO_MUNICIPIO_ESC</th>\n",
              "      <th>TP_DEPENDENCIA_ADM_ESC</th>\n",
              "      <th>NO_MUNICIPIO_PROVA</th>\n",
              "      <th>NU_NOTA_CN</th>\n",
              "      <th>NU_NOTA_CH</th>\n",
              "      <th>NU_NOTA_LC</th>\n",
              "      <th>NU_NOTA_MT</th>\n",
              "      <th>NU_NOTA_REDACAO</th>\n",
              "    </tr>\n",
              "  </thead>\n",
              "  <tbody>\n",
              "    <tr>\n",
              "      <th>0</th>\n",
              "      <td>91345</td>\n",
              "      <td>190001095974</td>\n",
              "      <td>2019</td>\n",
              "      <td>Altos</td>\n",
              "      <td>PI</td>\n",
              "      <td>18</td>\n",
              "      <td>M</td>\n",
              "      <td>2</td>\n",
              "      <td>2</td>\n",
              "      <td>Altos</td>\n",
              "      <td>2.0</td>\n",
              "      <td>Altos</td>\n",
              "      <td>488.1</td>\n",
              "      <td>454.3</td>\n",
              "      <td>562.8</td>\n",
              "      <td>516.0</td>\n",
              "      <td>640.0</td>\n",
              "    </tr>\n",
              "    <tr>\n",
              "      <th>1</th>\n",
              "      <td>91355</td>\n",
              "      <td>190001095984</td>\n",
              "      <td>2019</td>\n",
              "      <td>Altos</td>\n",
              "      <td>PI</td>\n",
              "      <td>25</td>\n",
              "      <td>F</td>\n",
              "      <td>1</td>\n",
              "      <td>1</td>\n",
              "      <td>NaN</td>\n",
              "      <td>NaN</td>\n",
              "      <td>Altos</td>\n",
              "      <td>424.0</td>\n",
              "      <td>440.8</td>\n",
              "      <td>539.0</td>\n",
              "      <td>462.5</td>\n",
              "      <td>560.0</td>\n",
              "    </tr>\n",
              "    <tr>\n",
              "      <th>2</th>\n",
              "      <td>91397</td>\n",
              "      <td>190001096026</td>\n",
              "      <td>2019</td>\n",
              "      <td>Altos</td>\n",
              "      <td>PI</td>\n",
              "      <td>23</td>\n",
              "      <td>F</td>\n",
              "      <td>1</td>\n",
              "      <td>1</td>\n",
              "      <td>NaN</td>\n",
              "      <td>NaN</td>\n",
              "      <td>Altos</td>\n",
              "      <td>426.5</td>\n",
              "      <td>442.4</td>\n",
              "      <td>455.3</td>\n",
              "      <td>413.3</td>\n",
              "      <td>720.0</td>\n",
              "    </tr>\n",
              "  </tbody>\n",
              "</table>\n",
              "</div>"
            ],
            "text/plain": [
              "   Unnamed: 0  NU_INSCRICAO  NU_ANO  ... NU_NOTA_LC NU_NOTA_MT  NU_NOTA_REDACAO\n",
              "0       91345  190001095974    2019  ...      562.8      516.0            640.0\n",
              "1       91355  190001095984    2019  ...      539.0      462.5            560.0\n",
              "2       91397  190001096026    2019  ...      455.3      413.3            720.0\n",
              "\n",
              "[3 rows x 17 columns]"
            ]
          },
          "metadata": {
            "tags": []
          },
          "execution_count": 628
        }
      ]
    },
    {
      "cell_type": "markdown",
      "metadata": {
        "id": "QAKvQfp6faRa"
      },
      "source": [
        "Visualização de apenas um Dataframe pois os outros seguem o mesmo padrão de colunas, ou seja as colunas de todos os Dataframes são iguais"
      ]
    },
    {
      "cell_type": "markdown",
      "metadata": {
        "id": "V7qScKDnkdbY"
      },
      "source": [
        "### **3.2 Números de inscritos Altoenses por ano**"
      ]
    },
    {
      "cell_type": "code",
      "metadata": {
        "id": "yx1HlUtFj6aP",
        "outputId": "3e53ca3e-2c20-40ee-e30d-e02cb04b4fab",
        "colab": {
          "base_uri": "https://localhost:8080/"
        }
      },
      "source": [
        "#Verificando se existem inscrições em branco\n",
        "print(microdadosEnem2019['NU_INSCRICAO'].isnull().sum())\n"
      ],
      "execution_count": 629,
      "outputs": [
        {
          "output_type": "stream",
          "text": [
            "0\n"
          ],
          "name": "stdout"
        }
      ]
    },
    {
      "cell_type": "markdown",
      "metadata": {
        "id": "_eK42YIrlmYt"
      },
      "source": [
        "Todas as linhas de inscritos estão preenchidas"
      ]
    },
    {
      "cell_type": "code",
      "metadata": {
        "id": "Kyr6agyVexk3",
        "outputId": "117451a7-38a1-4c3d-c148-599724f7c8eb",
        "colab": {
          "base_uri": "https://localhost:8080/"
        }
      },
      "source": [
        "#Número de inscritos\n",
        "print(microdadosEnem2019['NU_INSCRICAO'].shape,\n",
        "      microdadosEnem2018['NU_INSCRICAO'].shape,\n",
        "      microdadosEnem2017['NU_INSCRICAO'].shape,\n",
        "      microdadosEnem2016['NU_INSCRICAO'].shape)"
      ],
      "execution_count": 630,
      "outputs": [
        {
          "output_type": "stream",
          "text": [
            "(1507,) (1439,) (1979,) (2450,)\n"
          ],
          "name": "stdout"
        }
      ]
    },
    {
      "cell_type": "markdown",
      "metadata": {
        "id": "O8Ur2pdkkyVt"
      },
      "source": [
        "Números de inscritos que residem em Altos por ano:\n",
        "\n",
        "* Ano de 2019 - 1507 Inscritos\n",
        "* Ano de 2018 - 1439 Inscritos\n",
        "* Ano de 2017 - 1979 Inscritos\n",
        "* Ano de 2016 - 2450 Inscritos"
      ]
    },
    {
      "cell_type": "markdown",
      "metadata": {
        "id": "F1B3x6u2mD7t"
      },
      "source": [
        "### **3.3 Números de inscritos Altoenses pelo município da escola onde estudaram**"
      ]
    },
    {
      "cell_type": "markdown",
      "metadata": {
        "id": "qp9zODpfyTgb"
      },
      "source": [
        "#### **3.3.1 Substituindo os valores da coluna NO_MUNICIPIO_ESC**"
      ]
    },
    {
      "cell_type": "markdown",
      "metadata": {
        "id": "Yeg18Zo3zCME"
      },
      "source": [
        "No Dataframe original a coluna **NO_MUNICIPIO_ESC** contêm os nomes dos municípios onde os inscritos altoenses estudaram, aqueles que não responderam o campo na coluna fica com valor igual a NaN"
      ]
    },
    {
      "cell_type": "code",
      "metadata": {
        "id": "UA8OIyxwwPE4"
      },
      "source": [
        "#Trocando os campos sem valores (NaN por Não Respondeu)\n",
        "microdadosEnem2019['NO_MUNICIPIO_ESC'].fillna('Não Respondeu',  inplace=True)\n",
        "microdadosEnem2018['NO_MUNICIPIO_ESC'].fillna('Não Respondeu',  inplace=True)\n",
        "microdadosEnem2017['NO_MUNICIPIO_ESC'].fillna('Não Respondeu',  inplace=True)\n",
        "microdadosEnem2016['NO_MUNICIPIO_ESC'].fillna('Não Respondeu',  inplace=True)"
      ],
      "execution_count": 631,
      "outputs": []
    },
    {
      "cell_type": "markdown",
      "metadata": {
        "id": "HQWylkDPzXko"
      },
      "source": [
        "Trocando os campos vazios por \"Não Respondeu\""
      ]
    },
    {
      "cell_type": "code",
      "metadata": {
        "id": "lrW_UDv85dNz",
        "outputId": "ef5690a4-204f-4b72-bef9-f0558af20f90",
        "colab": {
          "base_uri": "https://localhost:8080/"
        }
      },
      "source": [
        "#Novos valores\n",
        "microdadosEnem2019['NO_MUNICIPIO_ESC'].value_counts()\n"
      ],
      "execution_count": 632,
      "outputs": [
        {
          "output_type": "execute_result",
          "data": {
            "text/plain": [
              "Não Respondeu          1217\n",
              "Altos                   233\n",
              "Teresina                 47\n",
              "Campo Maior               7\n",
              "Pau D'Arco do Piauí       2\n",
              "Bom Jesus                 1\n",
              "Name: NO_MUNICIPIO_ESC, dtype: int64"
            ]
          },
          "metadata": {
            "tags": []
          },
          "execution_count": 632
        }
      ]
    },
    {
      "cell_type": "markdown",
      "metadata": {
        "id": "ZhufNgMe2OmS"
      },
      "source": [
        "#### **3.3.2 Números de inscritos Altoenses pelo município da escola onde estudaram**"
      ]
    },
    {
      "cell_type": "markdown",
      "metadata": {
        "id": "_3IsiXR-sP6q"
      },
      "source": [
        "##### **2019**"
      ]
    },
    {
      "cell_type": "code",
      "metadata": {
        "id": "ifkj8gPgmmiq",
        "outputId": "efc89706-5b62-42b0-86db-79b3f053418b",
        "colab": {
          "base_uri": "https://localhost:8080/"
        }
      },
      "source": [
        "#Verificar os nomes dos municípios onde os inscritos Altoenses estudaram em 2019\n",
        "microdadosEnem2019['NO_MUNICIPIO_ESC'].value_counts()"
      ],
      "execution_count": 633,
      "outputs": [
        {
          "output_type": "execute_result",
          "data": {
            "text/plain": [
              "Não Respondeu          1217\n",
              "Altos                   233\n",
              "Teresina                 47\n",
              "Campo Maior               7\n",
              "Pau D'Arco do Piauí       2\n",
              "Bom Jesus                 1\n",
              "Name: NO_MUNICIPIO_ESC, dtype: int64"
            ]
          },
          "metadata": {
            "tags": []
          },
          "execution_count": 633
        }
      ]
    },
    {
      "cell_type": "markdown",
      "metadata": {
        "id": "C9y8WQtaoXFt"
      },
      "source": [
        "Em 2019 os municípios onde os Altoenses estudaram foram:\n",
        "\n",
        "* 233 Inscritos - Município de Altos\n",
        "* 47 Inscritos - Município de Teresina \n",
        "* 7 Inscritos - Município de Campo Maior\n",
        "* 2 Inscritos - Município de Pau D'Arco do Piauí\n",
        "* 1 Inscritos - Município de Bom Jesus\n",
        "\n",
        "1217 Inscritos não responderam com o nome do município da escola onde estudou ou estuda, totalizando os 1507 inscritos no ano de 2019.\n",
        "\n",
        "\n",
        "\n"
      ]
    },
    {
      "cell_type": "markdown",
      "metadata": {
        "id": "YzeaOo3jsm2M"
      },
      "source": [
        "##### **2018**"
      ]
    },
    {
      "cell_type": "code",
      "metadata": {
        "id": "9fka5cMZm35W",
        "outputId": "0c1d1b16-900a-4fdc-9dab-0e6edcf5dd27",
        "colab": {
          "base_uri": "https://localhost:8080/"
        }
      },
      "source": [
        "#Verificar os nomes dos municípios onde os inscritos Altoenses estudaram em 2018\n",
        "microdadosEnem2018['NO_MUNICIPIO_ESC'].value_counts()"
      ],
      "execution_count": 634,
      "outputs": [
        {
          "output_type": "execute_result",
          "data": {
            "text/plain": [
              "Não Respondeu          1132\n",
              "Altos                   257\n",
              "Teresina                 44\n",
              "Pau D'Arco do Piauí       3\n",
              "Campo Maior               2\n",
              "São João da Serra         1\n",
              "Name: NO_MUNICIPIO_ESC, dtype: int64"
            ]
          },
          "metadata": {
            "tags": []
          },
          "execution_count": 634
        }
      ]
    },
    {
      "cell_type": "markdown",
      "metadata": {
        "id": "yQTIxwKkrqy3"
      },
      "source": [
        "Em 2018 os municípios onde os Altoenses estudaram foram:\n",
        "\n",
        "* 257 Inscritos - Município de Altos\n",
        "* 44 Inscritos - Município de Teresina\n",
        "* 3 Inscritos - Município de Pau D'Arco do Piauí\n",
        "* 2 Inscritos - Município de Campo Maior\n",
        "* 1 Inscritos - Município de São João da Serra\n",
        "\n",
        "1132 Inscritos não responderam com o nome do município da escola onde estudou ou estuda, totalizando os 1439 inscritos no ano de 2018."
      ]
    },
    {
      "cell_type": "markdown",
      "metadata": {
        "id": "5Eojk5UAssc4"
      },
      "source": [
        "##### **2017**"
      ]
    },
    {
      "cell_type": "code",
      "metadata": {
        "id": "BF5fVooitLjr",
        "outputId": "0ef804d8-877b-463c-b494-328874c80fc6",
        "colab": {
          "base_uri": "https://localhost:8080/"
        }
      },
      "source": [
        "#Verificar os nomes dos municípios onde os inscritos Altoenses estudaram em 2017\n",
        "microdadosEnem2017['NO_MUNICIPIO_ESC'].value_counts()"
      ],
      "execution_count": 635,
      "outputs": [
        {
          "output_type": "execute_result",
          "data": {
            "text/plain": [
              "Não Respondeu          1564\n",
              "Altos                   372\n",
              "Teresina                 34\n",
              "Pau D'Arco do Piauí       4\n",
              "Campo Maior               4\n",
              "Coivaras                  1\n",
              "Name: NO_MUNICIPIO_ESC, dtype: int64"
            ]
          },
          "metadata": {
            "tags": []
          },
          "execution_count": 635
        }
      ]
    },
    {
      "cell_type": "markdown",
      "metadata": {
        "id": "c7Tx1pb7uodz"
      },
      "source": [
        "Em 2017 os municípios onde os Altoenses estudaram foram:\n",
        "\n",
        "* 372 Inscritos - Município de Altos\n",
        "* 34 Inscritos - Município de Teresina\n",
        "* 4 Inscritos - Município de Pau D'Arco do Piauí\n",
        "* 4 Inscritos - Município de Campo Maior\n",
        "* 1 Inscritos - Município de Coivaras\n",
        "\n",
        "1564 Inscritos não responderam com o nome do município da escola onde estudou ou estuda, totalizando os 1979 inscritos no ano de 2017."
      ]
    },
    {
      "cell_type": "markdown",
      "metadata": {
        "id": "zeGJXvPhsxTb"
      },
      "source": [
        "##### **2016**"
      ]
    },
    {
      "cell_type": "code",
      "metadata": {
        "id": "RQhpOSbJwj7a",
        "outputId": "46715322-75d5-4587-c696-56ded32dccb8",
        "colab": {
          "base_uri": "https://localhost:8080/"
        }
      },
      "source": [
        "#Verificar os nomes dos municípios onde os inscritos Altoenses estudaram em 2016\n",
        "microdadosEnem2016['NO_MUNICIPIO_ESC'].value_counts()"
      ],
      "execution_count": 636,
      "outputs": [
        {
          "output_type": "execute_result",
          "data": {
            "text/plain": [
              "Não Respondeu          1983\n",
              "Altos                   409\n",
              "Teresina                 42\n",
              "Pau D'Arco do Piauí      13\n",
              "Beneditinos               1\n",
              "Corrente                  1\n",
              "Santa Inês                1\n",
              "Name: NO_MUNICIPIO_ESC, dtype: int64"
            ]
          },
          "metadata": {
            "tags": []
          },
          "execution_count": 636
        }
      ]
    },
    {
      "cell_type": "markdown",
      "metadata": {
        "id": "MUdfrcAUwqes"
      },
      "source": [
        "Em 2016 os municípios onde os Altoenses estudaram foram:\n",
        "\n",
        "* 409 Inscritos - Município de Altos\n",
        "* 42 Inscritos - Município de Teresina\n",
        "* 13 Inscritos - Município de Pau D'Arco do Piauí\n",
        "* 1 Inscrito - Município de Corrente\n",
        "* 1 Inscritos - Município de Santa Inês\n",
        "* 1 Inscritos - Município de Beneditinos\n",
        "\n",
        "1983 Inscritos não responderam com o nome do município da escola onde estudou ou estuda, totalizando os 2450 inscritos no ano de 2017."
      ]
    },
    {
      "cell_type": "markdown",
      "metadata": {
        "id": "rgJ6v9aNx8Sc"
      },
      "source": [
        "### **3.4 Números de inscritos Altoenses pelo tipo de escola**"
      ]
    },
    {
      "cell_type": "markdown",
      "metadata": {
        "id": "spfjO48oIC3i"
      },
      "source": [
        "#### **3.4.1 Substituindo os valores da coluna TP_ESCOLA**"
      ]
    },
    {
      "cell_type": "markdown",
      "metadata": {
        "id": "WxEEfV0WErxJ"
      },
      "source": [
        "No Dataframe a coluna TP_ESCOLA contêm valores de 1 a 4 para representar os tipos das escolas, sendo eles:\n",
        "\n",
        "* 1 - Não Respondeu\n",
        "* 2 - Pública\n",
        "* 3 - Privada\n",
        "* 4 - Exterior\n"
      ]
    },
    {
      "cell_type": "code",
      "metadata": {
        "id": "RN3Sv6wQFJCN"
      },
      "source": [
        "#Substituindo os valores\n",
        "microdadosEnem2019['TP_ESCOLA'] = microdadosEnem2019['TP_ESCOLA'].map({1: 'Não Respondeu' , 2: 'Pública', 3: 'Privada', 4: 'Exterior'})\n",
        "microdadosEnem2018['TP_ESCOLA'] = microdadosEnem2018['TP_ESCOLA'].map({1: 'Não Respondeu' , 2: 'Pública', 3: 'Privada', 4: 'Exterior'})\n",
        "microdadosEnem2017['TP_ESCOLA'] = microdadosEnem2017['TP_ESCOLA'].map({1: 'Não Respondeu' , 2: 'Pública', 3: 'Privada', 4: 'Exterior'})\n",
        "microdadosEnem2016['TP_ESCOLA'] = microdadosEnem2016['TP_ESCOLA'].map({1: 'Não Respondeu' , 2: 'Pública', 3: 'Privada', 4: 'Exterior'})\n"
      ],
      "execution_count": 637,
      "outputs": []
    },
    {
      "cell_type": "code",
      "metadata": {
        "id": "49UPHPoXHUk4",
        "outputId": "5862072e-803c-43cd-995b-8ae188ce983a",
        "colab": {
          "base_uri": "https://localhost:8080/"
        }
      },
      "source": [
        "#Novos valores\n",
        "microdadosEnem2019['TP_ESCOLA'].value_counts()"
      ],
      "execution_count": 638,
      "outputs": [
        {
          "output_type": "execute_result",
          "data": {
            "text/plain": [
              "Não Respondeu    1160\n",
              "Pública           325\n",
              "Privada            22\n",
              "Name: TP_ESCOLA, dtype: int64"
            ]
          },
          "metadata": {
            "tags": []
          },
          "execution_count": 638
        }
      ]
    },
    {
      "cell_type": "markdown",
      "metadata": {
        "id": "idz_rt2eId_P"
      },
      "source": [
        "####**3.4.2 Números de inscritos Altoenses pelo tipo de escola por ano:**"
      ]
    },
    {
      "cell_type": "markdown",
      "metadata": {
        "id": "pMJqd-0gIyGJ"
      },
      "source": [
        "##### **2019**"
      ]
    },
    {
      "cell_type": "code",
      "metadata": {
        "id": "DOF0f0OyHacV",
        "outputId": "9ee973da-f1ff-4b9b-f8a5-57ed1e34bcd7",
        "colab": {
          "base_uri": "https://localhost:8080/"
        }
      },
      "source": [
        "#Números de inscritos pelo tipo de escola\n",
        "microdadosEnem2019['TP_ESCOLA'].value_counts()"
      ],
      "execution_count": 639,
      "outputs": [
        {
          "output_type": "execute_result",
          "data": {
            "text/plain": [
              "Não Respondeu    1160\n",
              "Pública           325\n",
              "Privada            22\n",
              "Name: TP_ESCOLA, dtype: int64"
            ]
          },
          "metadata": {
            "tags": []
          },
          "execution_count": 639
        }
      ]
    },
    {
      "cell_type": "markdown",
      "metadata": {
        "id": "TOiUQQ9RJq2Z"
      },
      "source": [
        "No ano de 2019 os inscritos Altoenses estudaram em escolas do tipo:\n",
        "\n",
        "* 325 Inscritos - Colégio Público\n",
        "* 22 Inscritos - Colégio Privado\n",
        "\n",
        "1160 inscritos não respondeu em que tipo de escola estudaram totalizando os 1507 Altoenses inscritos no ano de 2019."
      ]
    },
    {
      "cell_type": "markdown",
      "metadata": {
        "id": "qO5tF3eHI1_f"
      },
      "source": [
        "##### **2018**"
      ]
    },
    {
      "cell_type": "code",
      "metadata": {
        "id": "Y8LSPpj7I5Lp",
        "outputId": "6c1b964c-4416-4685-f70d-3842329d96ae",
        "colab": {
          "base_uri": "https://localhost:8080/"
        }
      },
      "source": [
        "#Números de inscritos pelo tipo de escola\n",
        "microdadosEnem2018['TP_ESCOLA'].value_counts()"
      ],
      "execution_count": 640,
      "outputs": [
        {
          "output_type": "execute_result",
          "data": {
            "text/plain": [
              "Não Respondeu    1145\n",
              "Pública           266\n",
              "Exterior           26\n",
              "Privada             2\n",
              "Name: TP_ESCOLA, dtype: int64"
            ]
          },
          "metadata": {
            "tags": []
          },
          "execution_count": 640
        }
      ]
    },
    {
      "cell_type": "markdown",
      "metadata": {
        "id": "WIvNy5feK7uF"
      },
      "source": [
        "No ano de 2018 os inscritos Altoenses estudaram em escolas do tipo:\n",
        "\n",
        "* 266 Inscritos - Colégio Público\n",
        "* 26 Inscritos - Colégio Exterior\n",
        "* 2 Inscritos - Colégio Privado\n",
        "\n",
        "1145 inscritos não respondeu em que tipo de escola estudaram totalizando os 1439 Altoenses inscritos no ano de 2018."
      ]
    },
    {
      "cell_type": "markdown",
      "metadata": {
        "id": "CGovGem5I57L"
      },
      "source": [
        "##### **2017**"
      ]
    },
    {
      "cell_type": "code",
      "metadata": {
        "id": "YDT2TtVoI8tt",
        "outputId": "e457071a-7399-4cfd-851f-98a4ad4afc58",
        "colab": {
          "base_uri": "https://localhost:8080/"
        }
      },
      "source": [
        "#Números de inscritos pelo tipo de escola\n",
        "microdadosEnem2017['TP_ESCOLA'].value_counts()"
      ],
      "execution_count": 641,
      "outputs": [
        {
          "output_type": "execute_result",
          "data": {
            "text/plain": [
              "Não Respondeu    1564\n",
              "Pública           383\n",
              "Privada            32\n",
              "Name: TP_ESCOLA, dtype: int64"
            ]
          },
          "metadata": {
            "tags": []
          },
          "execution_count": 641
        }
      ]
    },
    {
      "cell_type": "markdown",
      "metadata": {
        "id": "rgDdM9QZMXo8"
      },
      "source": [
        "No ano de 2017 os inscritos Altoenses estudaram em escolas do tipo:\n",
        "\n",
        "* 383 Inscritos - Colégio Público\n",
        "* 32 Inscritos - Colégio Privado\n",
        "\n",
        "1564 inscritos não respondeu em que tipo de escola estudaram totalizando os 1979 Altoenses inscritos no ano de 2018."
      ]
    },
    {
      "cell_type": "markdown",
      "metadata": {
        "id": "P4WKCOi3I_M8"
      },
      "source": [
        "##### **2016**"
      ]
    },
    {
      "cell_type": "code",
      "metadata": {
        "id": "wcZccvD7JBox",
        "outputId": "5fff7a7a-25c7-4deb-8ad4-72c962294e37",
        "colab": {
          "base_uri": "https://localhost:8080/"
        }
      },
      "source": [
        "#Números de inscritos pelo tipo de escola\n",
        "microdadosEnem2016['TP_ESCOLA'].value_counts()"
      ],
      "execution_count": 642,
      "outputs": [
        {
          "output_type": "execute_result",
          "data": {
            "text/plain": [
              "Não Respondeu    1983\n",
              "Pública           424\n",
              "Privada            43\n",
              "Name: TP_ESCOLA, dtype: int64"
            ]
          },
          "metadata": {
            "tags": []
          },
          "execution_count": 642
        }
      ]
    },
    {
      "cell_type": "markdown",
      "metadata": {
        "id": "T5y8SPcoNCY-"
      },
      "source": [
        "No ano de 2016 os inscritos Altoenses estudaram em escolas do tipo:\n",
        "\n",
        "* 424 Inscritos - Colégio Público\n",
        "* 43 Inscritos - Colégio Privado\n",
        "\n",
        "1983 inscritos não respondeu em que tipo de escola estudaram totalizando os 2450 Altoenses inscritos no ano de 2016."
      ]
    },
    {
      "cell_type": "markdown",
      "metadata": {
        "id": "gQEud7xHZTIh"
      },
      "source": [
        "## **4.0 Limpando dados vazios das notas**"
      ]
    },
    {
      "cell_type": "markdown",
      "metadata": {
        "id": "Z_aJMDKdZdMZ"
      },
      "source": [
        "Nas colunas das notas, algumas linhas possuem valores vazios, existem dois motivos para existir esse vazio nos dados:\n",
        "\n",
        "* 1º Motivo: O candidato faltou a prova\n",
        "* 2º Motivo: O candidato foi eliminado da prova\n",
        "\n",
        "Ou seja, esses candidatos não pontuaram"
      ]
    },
    {
      "cell_type": "code",
      "metadata": {
        "id": "OwZARRbJaqL-",
        "outputId": "a459dae2-2550-4a2b-b37f-baefe16716d7",
        "colab": {
          "base_uri": "https://localhost:8080/",
          "height": 165
        }
      },
      "source": [
        "#Visualizar o Dataframe\n",
        "microdadosEnem2019.head(2)"
      ],
      "execution_count": 643,
      "outputs": [
        {
          "output_type": "execute_result",
          "data": {
            "text/html": [
              "<div>\n",
              "<style scoped>\n",
              "    .dataframe tbody tr th:only-of-type {\n",
              "        vertical-align: middle;\n",
              "    }\n",
              "\n",
              "    .dataframe tbody tr th {\n",
              "        vertical-align: top;\n",
              "    }\n",
              "\n",
              "    .dataframe thead th {\n",
              "        text-align: right;\n",
              "    }\n",
              "</style>\n",
              "<table border=\"1\" class=\"dataframe\">\n",
              "  <thead>\n",
              "    <tr style=\"text-align: right;\">\n",
              "      <th></th>\n",
              "      <th>Unnamed: 0</th>\n",
              "      <th>NU_INSCRICAO</th>\n",
              "      <th>NU_ANO</th>\n",
              "      <th>NO_MUNICIPIO_RESIDENCIA</th>\n",
              "      <th>SG_UF_RESIDENCIA</th>\n",
              "      <th>NU_IDADE</th>\n",
              "      <th>TP_SEXO</th>\n",
              "      <th>TP_ST_CONCLUSAO</th>\n",
              "      <th>TP_ESCOLA</th>\n",
              "      <th>NO_MUNICIPIO_ESC</th>\n",
              "      <th>TP_DEPENDENCIA_ADM_ESC</th>\n",
              "      <th>NO_MUNICIPIO_PROVA</th>\n",
              "      <th>NU_NOTA_CN</th>\n",
              "      <th>NU_NOTA_CH</th>\n",
              "      <th>NU_NOTA_LC</th>\n",
              "      <th>NU_NOTA_MT</th>\n",
              "      <th>NU_NOTA_REDACAO</th>\n",
              "    </tr>\n",
              "  </thead>\n",
              "  <tbody>\n",
              "    <tr>\n",
              "      <th>0</th>\n",
              "      <td>91345</td>\n",
              "      <td>190001095974</td>\n",
              "      <td>2019</td>\n",
              "      <td>Altos</td>\n",
              "      <td>PI</td>\n",
              "      <td>18</td>\n",
              "      <td>M</td>\n",
              "      <td>2</td>\n",
              "      <td>Pública</td>\n",
              "      <td>Altos</td>\n",
              "      <td>2.0</td>\n",
              "      <td>Altos</td>\n",
              "      <td>488.1</td>\n",
              "      <td>454.3</td>\n",
              "      <td>562.8</td>\n",
              "      <td>516.0</td>\n",
              "      <td>640.0</td>\n",
              "    </tr>\n",
              "    <tr>\n",
              "      <th>1</th>\n",
              "      <td>91355</td>\n",
              "      <td>190001095984</td>\n",
              "      <td>2019</td>\n",
              "      <td>Altos</td>\n",
              "      <td>PI</td>\n",
              "      <td>25</td>\n",
              "      <td>F</td>\n",
              "      <td>1</td>\n",
              "      <td>Não Respondeu</td>\n",
              "      <td>Não Respondeu</td>\n",
              "      <td>NaN</td>\n",
              "      <td>Altos</td>\n",
              "      <td>424.0</td>\n",
              "      <td>440.8</td>\n",
              "      <td>539.0</td>\n",
              "      <td>462.5</td>\n",
              "      <td>560.0</td>\n",
              "    </tr>\n",
              "  </tbody>\n",
              "</table>\n",
              "</div>"
            ],
            "text/plain": [
              "   Unnamed: 0  NU_INSCRICAO  NU_ANO  ... NU_NOTA_LC NU_NOTA_MT  NU_NOTA_REDACAO\n",
              "0       91345  190001095974    2019  ...      562.8      516.0            640.0\n",
              "1       91355  190001095984    2019  ...      539.0      462.5            560.0\n",
              "\n",
              "[2 rows x 17 columns]"
            ]
          },
          "metadata": {
            "tags": []
          },
          "execution_count": 643
        }
      ]
    },
    {
      "cell_type": "code",
      "metadata": {
        "id": "cekmf-8iZa7X",
        "outputId": "ac9c5f9f-4c74-4173-9185-b96ca291b894",
        "colab": {
          "base_uri": "https://localhost:8080/"
        }
      },
      "source": [
        "#Verificar números de dados vazios\n",
        "microdadosEnem2019[['NU_NOTA_CN', 'NU_NOTA_CH', 'NU_NOTA_LC', 'NU_NOTA_MT', 'NU_NOTA_REDACAO']].isnull().sum()\n"
      ],
      "execution_count": 644,
      "outputs": [
        {
          "output_type": "execute_result",
          "data": {
            "text/plain": [
              "NU_NOTA_CN         331\n",
              "NU_NOTA_CH         279\n",
              "NU_NOTA_LC         279\n",
              "NU_NOTA_MT         331\n",
              "NU_NOTA_REDACAO    279\n",
              "dtype: int64"
            ]
          },
          "metadata": {
            "tags": []
          },
          "execution_count": 644
        }
      ]
    },
    {
      "cell_type": "markdown",
      "metadata": {
        "id": "nXaMR2tNm_Uv"
      },
      "source": [
        "Em 2019:\n",
        "\n",
        "* Nota de Ciências da Natureza tem 331 dados vazios\n",
        "* Nota de Ciências Humanas tem 279 dados vazios\n",
        "* Nota de Linguagens e Códigos tem 279 dados vazios\n",
        "* Nota de Matematica tem 331 dados vazios\n",
        "* Nota de Redação tem 279 dados vazios"
      ]
    },
    {
      "cell_type": "code",
      "metadata": {
        "id": "usYM4A-RiLQS",
        "outputId": "ba27b744-4d78-4b7e-f1b1-b316f21b00f1",
        "colab": {
          "base_uri": "https://localhost:8080/"
        }
      },
      "source": [
        "#Verificar números de dados vazios\n",
        "microdadosEnem2018[['NU_NOTA_CN', 'NU_NOTA_CH', 'NU_NOTA_LC', 'NU_NOTA_MT', 'NU_NOTA_REDACAO']].isnull().sum()\n"
      ],
      "execution_count": 645,
      "outputs": [
        {
          "output_type": "execute_result",
          "data": {
            "text/plain": [
              "NU_NOTA_CN         298\n",
              "NU_NOTA_CH         245\n",
              "NU_NOTA_LC         245\n",
              "NU_NOTA_MT         298\n",
              "NU_NOTA_REDACAO    245\n",
              "dtype: int64"
            ]
          },
          "metadata": {
            "tags": []
          },
          "execution_count": 645
        }
      ]
    },
    {
      "cell_type": "markdown",
      "metadata": {
        "id": "awcyhnbMn93K"
      },
      "source": [
        "Em 2018:\n",
        "\n",
        "* Nota de Ciências da Natureza tem 298 dados vazios\n",
        "* Nota de Ciências Humanas tem 245 dados vazios\n",
        "* Nota de Linguagens e Códigos tem 245 dados vazios\n",
        "* Nota de Matematica tem 298 dados vazios\n",
        "* Nota de Redação tem 245 dados vazios"
      ]
    },
    {
      "cell_type": "code",
      "metadata": {
        "id": "Z0BkiUuyiPNE",
        "outputId": "11194812-3771-4718-a5a5-ee71d563a411",
        "colab": {
          "base_uri": "https://localhost:8080/"
        }
      },
      "source": [
        "#Verificar números de dados vazios\n",
        "microdadosEnem2017[['NU_NOTA_CN', 'NU_NOTA_CH', 'NU_NOTA_LC', 'NU_NOTA_MT', 'NU_NOTA_REDACAO']].isnull().sum()\n"
      ],
      "execution_count": 646,
      "outputs": [
        {
          "output_type": "execute_result",
          "data": {
            "text/plain": [
              "NU_NOTA_CN         526\n",
              "NU_NOTA_CH         478\n",
              "NU_NOTA_LC         478\n",
              "NU_NOTA_MT         526\n",
              "NU_NOTA_REDACAO    478\n",
              "dtype: int64"
            ]
          },
          "metadata": {
            "tags": []
          },
          "execution_count": 646
        }
      ]
    },
    {
      "cell_type": "markdown",
      "metadata": {
        "id": "B0bo4PTloZ_0"
      },
      "source": [
        "Em 2017:\n",
        "\n",
        "* Nota de Ciências da Natureza tem 526 dados vazios\n",
        "* Nota de Ciências Humanas tem 478 dados vazios\n",
        "* Nota de Linguagens e Códigos tem 478 dados vazios\n",
        "* Nota de Matematica tem 526 dados vazios\n",
        "* Nota de Redação tem 478 dados vazios"
      ]
    },
    {
      "cell_type": "code",
      "metadata": {
        "id": "rKFCC7vii-JZ",
        "outputId": "8600d2ff-a4d3-4913-d7e1-f233f418e5e8",
        "colab": {
          "base_uri": "https://localhost:8080/"
        }
      },
      "source": [
        "#Verificar números de dados vazios\n",
        "microdadosEnem2016[['NU_NOTA_CN', 'NU_NOTA_CH', 'NU_NOTA_LC', 'NU_NOTA_MT', 'NU_NOTA_REDACAO']].isnull().sum()\n"
      ],
      "execution_count": 647,
      "outputs": [
        {
          "output_type": "execute_result",
          "data": {
            "text/plain": [
              "NU_NOTA_CN         504\n",
              "NU_NOTA_CH         504\n",
              "NU_NOTA_LC         545\n",
              "NU_NOTA_MT         545\n",
              "NU_NOTA_REDACAO    545\n",
              "dtype: int64"
            ]
          },
          "metadata": {
            "tags": []
          },
          "execution_count": 647
        }
      ]
    },
    {
      "cell_type": "markdown",
      "metadata": {
        "id": "DtVZXsDUoi_F"
      },
      "source": [
        "Em 2016:\n",
        "\n",
        "* Nota de Ciências da Natureza tem 504 dados vazios\n",
        "* Nota de Ciências Humanas tem 504 dados vazios\n",
        "* Nota de Linguagens e Códigos tem 545 dados vazios\n",
        "* Nota de Matematica tem 545 dados vazios\n",
        "* Nota de Redação tem 545 dados vazios"
      ]
    },
    {
      "cell_type": "code",
      "metadata": {
        "id": "s8UMi65k2WbW"
      },
      "source": [
        "#Criando um novo Dataframe com os valores do Dataframe original\n",
        "microdadosEnem2019_limpo = microdadosEnem2019\n",
        "microdadosEnem2018_limpo = microdadosEnem2018\n",
        "microdadosEnem2017_limpo = microdadosEnem2017\n",
        "microdadosEnem2016_limpo = microdadosEnem2016\n"
      ],
      "execution_count": 648,
      "outputs": []
    },
    {
      "cell_type": "code",
      "metadata": {
        "id": "WZB5d__VqLXO"
      },
      "source": [
        "#Removendo os valores vazios do novo Dataframe\n",
        "microdadosEnem2019_limpo = microdadosEnem2019_limpo.dropna(subset=['NU_NOTA_CN', 'NU_NOTA_CH', 'NU_NOTA_LC','NU_NOTA_MT','NU_NOTA_REDACAO'])\n",
        "microdadosEnem2018_limpo = microdadosEnem2018_limpo.dropna(subset=['NU_NOTA_CN', 'NU_NOTA_CH', 'NU_NOTA_LC','NU_NOTA_MT','NU_NOTA_REDACAO'])\n",
        "microdadosEnem2017_limpo = microdadosEnem2017_limpo.dropna(subset=['NU_NOTA_CN', 'NU_NOTA_CH', 'NU_NOTA_LC','NU_NOTA_MT','NU_NOTA_REDACAO'])\n",
        "microdadosEnem2016_limpo = microdadosEnem2016_limpo.dropna(subset=['NU_NOTA_CN', 'NU_NOTA_CH', 'NU_NOTA_LC','NU_NOTA_MT','NU_NOTA_REDACAO'])\n"
      ],
      "execution_count": 649,
      "outputs": []
    },
    {
      "cell_type": "code",
      "metadata": {
        "id": "WdAsIUY7qYq0",
        "outputId": "1492ea7c-d499-42cd-c9bd-26f36a901501",
        "colab": {
          "base_uri": "https://localhost:8080/"
        }
      },
      "source": [
        "#Visualizando os Dados\n",
        "microdadosEnem2019_limpo[['NU_NOTA_CN', 'NU_NOTA_CH', 'NU_NOTA_LC','NU_NOTA_MT','NU_NOTA_REDACAO']].isnull().sum()\n"
      ],
      "execution_count": 650,
      "outputs": [
        {
          "output_type": "execute_result",
          "data": {
            "text/plain": [
              "NU_NOTA_CN         0\n",
              "NU_NOTA_CH         0\n",
              "NU_NOTA_LC         0\n",
              "NU_NOTA_MT         0\n",
              "NU_NOTA_REDACAO    0\n",
              "dtype: int64"
            ]
          },
          "metadata": {
            "tags": []
          },
          "execution_count": 650
        }
      ]
    },
    {
      "cell_type": "markdown",
      "metadata": {
        "id": "9_vQ7xbk0EuA"
      },
      "source": [
        "Todos os valores vazios em 2019 foram retirados"
      ]
    },
    {
      "cell_type": "code",
      "metadata": {
        "id": "ZPSaKNGN0TOi",
        "outputId": "c33b36c5-87e6-4ccf-a83d-09f575d5e6ef",
        "colab": {
          "base_uri": "https://localhost:8080/"
        }
      },
      "source": [
        " #Visualizando os Dados\n",
        " microdadosEnem2018_limpo[['NU_NOTA_CN', 'NU_NOTA_CH', 'NU_NOTA_LC','NU_NOTA_MT','NU_NOTA_REDACAO']].isnull().sum()"
      ],
      "execution_count": 651,
      "outputs": [
        {
          "output_type": "execute_result",
          "data": {
            "text/plain": [
              "NU_NOTA_CN         0\n",
              "NU_NOTA_CH         0\n",
              "NU_NOTA_LC         0\n",
              "NU_NOTA_MT         0\n",
              "NU_NOTA_REDACAO    0\n",
              "dtype: int64"
            ]
          },
          "metadata": {
            "tags": []
          },
          "execution_count": 651
        }
      ]
    },
    {
      "cell_type": "markdown",
      "metadata": {
        "id": "76kczafI0Z2w"
      },
      "source": [
        "Todos os valores vazios em 2018 foram retirados"
      ]
    },
    {
      "cell_type": "code",
      "metadata": {
        "id": "d0XQqOa90VvH",
        "outputId": "895e7397-efd6-43e7-ea25-361377619b15",
        "colab": {
          "base_uri": "https://localhost:8080/"
        }
      },
      "source": [
        "#Visualizando os Dados\n",
        "microdadosEnem2017_limpo[['NU_NOTA_CN', 'NU_NOTA_CH', 'NU_NOTA_LC','NU_NOTA_MT','NU_NOTA_REDACAO']].isnull().sum()"
      ],
      "execution_count": 652,
      "outputs": [
        {
          "output_type": "execute_result",
          "data": {
            "text/plain": [
              "NU_NOTA_CN         0\n",
              "NU_NOTA_CH         0\n",
              "NU_NOTA_LC         0\n",
              "NU_NOTA_MT         0\n",
              "NU_NOTA_REDACAO    0\n",
              "dtype: int64"
            ]
          },
          "metadata": {
            "tags": []
          },
          "execution_count": 652
        }
      ]
    },
    {
      "cell_type": "markdown",
      "metadata": {
        "id": "2ak_o2rW0fdA"
      },
      "source": [
        "Todos os valores vazios em 2017 foram retirados"
      ]
    },
    {
      "cell_type": "code",
      "metadata": {
        "id": "NADdJWf00de6",
        "outputId": "a7112086-45c2-46ab-9b61-de256d78b544",
        "colab": {
          "base_uri": "https://localhost:8080/"
        }
      },
      "source": [
        "#Visualizando os Dados\n",
        "microdadosEnem2016_limpo[['NU_NOTA_CN', 'NU_NOTA_CH', 'NU_NOTA_LC','NU_NOTA_MT','NU_NOTA_REDACAO']].isnull().sum()"
      ],
      "execution_count": 653,
      "outputs": [
        {
          "output_type": "execute_result",
          "data": {
            "text/plain": [
              "NU_NOTA_CN         0\n",
              "NU_NOTA_CH         0\n",
              "NU_NOTA_LC         0\n",
              "NU_NOTA_MT         0\n",
              "NU_NOTA_REDACAO    0\n",
              "dtype: int64"
            ]
          },
          "metadata": {
            "tags": []
          },
          "execution_count": 653
        }
      ]
    },
    {
      "cell_type": "markdown",
      "metadata": {
        "id": "cDH5AAga0hxf"
      },
      "source": [
        "Todos os valores vazios em 2016 foram retirados"
      ]
    },
    {
      "cell_type": "code",
      "metadata": {
        "id": "lr-ZX3VY54xR",
        "outputId": "8cd880bc-5fc8-4bf4-cb15-f5bdfa130bc1",
        "colab": {
          "base_uri": "https://localhost:8080/"
        }
      },
      "source": [
        "#Tamanho do nosso Dataframe original com as notas vazias\n",
        "print(microdadosEnem2019.shape,\n",
        "      microdadosEnem2018.shape,\n",
        "      microdadosEnem2017.shape,\n",
        "      microdadosEnem2016.shape,)"
      ],
      "execution_count": 654,
      "outputs": [
        {
          "output_type": "stream",
          "text": [
            "(1507, 17) (1439, 17) (1979, 17) (2450, 17)\n"
          ],
          "name": "stdout"
        }
      ]
    },
    {
      "cell_type": "code",
      "metadata": {
        "id": "CaM8bYyD5oHr",
        "outputId": "9c1c72b6-b043-45a2-ef58-85b4fcaf4567",
        "colab": {
          "base_uri": "https://localhost:8080/"
        }
      },
      "source": [
        "#Tamanho do nosso novo Dataframe sem as notas vazias\n",
        "print(microdadosEnem2019_limpo.shape,\n",
        "      microdadosEnem2018_limpo.shape,\n",
        "      microdadosEnem2017_limpo.shape,\n",
        "      microdadosEnem2016_limpo.shape,)"
      ],
      "execution_count": 655,
      "outputs": [
        {
          "output_type": "stream",
          "text": [
            "(1175, 17) (1139, 17) (1451, 17) (1905, 17)\n"
          ],
          "name": "stdout"
        }
      ]
    },
    {
      "cell_type": "markdown",
      "metadata": {
        "id": "NeA33ck7OD6K"
      },
      "source": [
        "## **5.0 Novo Dataframe**"
      ]
    },
    {
      "cell_type": "markdown",
      "metadata": {
        "id": "RcLGVic4FvZe"
      },
      "source": [
        "Os novos dataframes vão conter apenas os alunos que pontuaram em todas as provas, estudaram em escolas do município de altos e em escolas públicas e privadas"
      ]
    },
    {
      "cell_type": "markdown",
      "metadata": {
        "id": "qK9RPXe38WyQ"
      },
      "source": [
        "### **5.1 Criando a coluna com as médias dos inscritos**"
      ]
    },
    {
      "cell_type": "markdown",
      "metadata": {
        "id": "mYw-tL-K8fM4"
      },
      "source": [
        "A coluna MEDIA contêm as (NotaCiênciasNatureza + NotaCiênciasHumanas + NotaLinguagensCódigos + NotaMatematica + NotaRedação)/5"
      ]
    },
    {
      "cell_type": "code",
      "metadata": {
        "id": "V0WlekbM8v8v",
        "outputId": "ac610a43-4a21-479f-dbf0-2a6f26767eb1",
        "colab": {
          "base_uri": "https://localhost:8080/",
          "height": 315
        }
      },
      "source": [
        "#Criando a nova coluna MEDIA\n",
        "microdadosEnem2019_limpo['MEDIA'] = (microdadosEnem2019_limpo['NU_NOTA_CN'] + microdadosEnem2019_limpo['NU_NOTA_CH'] + microdadosEnem2019_limpo['NU_NOTA_LC'] + microdadosEnem2019_limpo['NU_NOTA_MT'] + microdadosEnem2019_limpo['NU_NOTA_REDACAO'])/5\n",
        "microdadosEnem2019_limpo.head(3)"
      ],
      "execution_count": 678,
      "outputs": [
        {
          "output_type": "stream",
          "text": [
            "/usr/local/lib/python3.6/dist-packages/ipykernel_launcher.py:2: SettingWithCopyWarning: \n",
            "A value is trying to be set on a copy of a slice from a DataFrame.\n",
            "Try using .loc[row_indexer,col_indexer] = value instead\n",
            "\n",
            "See the caveats in the documentation: https://pandas.pydata.org/pandas-docs/stable/user_guide/indexing.html#returning-a-view-versus-a-copy\n",
            "  \n"
          ],
          "name": "stderr"
        },
        {
          "output_type": "execute_result",
          "data": {
            "text/html": [
              "<div>\n",
              "<style scoped>\n",
              "    .dataframe tbody tr th:only-of-type {\n",
              "        vertical-align: middle;\n",
              "    }\n",
              "\n",
              "    .dataframe tbody tr th {\n",
              "        vertical-align: top;\n",
              "    }\n",
              "\n",
              "    .dataframe thead th {\n",
              "        text-align: right;\n",
              "    }\n",
              "</style>\n",
              "<table border=\"1\" class=\"dataframe\">\n",
              "  <thead>\n",
              "    <tr style=\"text-align: right;\">\n",
              "      <th></th>\n",
              "      <th>Unnamed: 0</th>\n",
              "      <th>NU_INSCRICAO</th>\n",
              "      <th>NU_ANO</th>\n",
              "      <th>NO_MUNICIPIO_RESIDENCIA</th>\n",
              "      <th>SG_UF_RESIDENCIA</th>\n",
              "      <th>NU_IDADE</th>\n",
              "      <th>TP_SEXO</th>\n",
              "      <th>TP_ST_CONCLUSAO</th>\n",
              "      <th>TP_ESCOLA</th>\n",
              "      <th>NO_MUNICIPIO_ESC</th>\n",
              "      <th>TP_DEPENDENCIA_ADM_ESC</th>\n",
              "      <th>NO_MUNICIPIO_PROVA</th>\n",
              "      <th>NU_NOTA_CN</th>\n",
              "      <th>NU_NOTA_CH</th>\n",
              "      <th>NU_NOTA_LC</th>\n",
              "      <th>NU_NOTA_MT</th>\n",
              "      <th>NU_NOTA_REDACAO</th>\n",
              "      <th>MEDIA</th>\n",
              "    </tr>\n",
              "  </thead>\n",
              "  <tbody>\n",
              "    <tr>\n",
              "      <th>0</th>\n",
              "      <td>91345</td>\n",
              "      <td>190001095974</td>\n",
              "      <td>2019</td>\n",
              "      <td>Altos</td>\n",
              "      <td>PI</td>\n",
              "      <td>18</td>\n",
              "      <td>M</td>\n",
              "      <td>2</td>\n",
              "      <td>Pública</td>\n",
              "      <td>Altos</td>\n",
              "      <td>2.0</td>\n",
              "      <td>Altos</td>\n",
              "      <td>488.1</td>\n",
              "      <td>454.3</td>\n",
              "      <td>562.8</td>\n",
              "      <td>516.0</td>\n",
              "      <td>640.0</td>\n",
              "      <td>532.24</td>\n",
              "    </tr>\n",
              "    <tr>\n",
              "      <th>1</th>\n",
              "      <td>91355</td>\n",
              "      <td>190001095984</td>\n",
              "      <td>2019</td>\n",
              "      <td>Altos</td>\n",
              "      <td>PI</td>\n",
              "      <td>25</td>\n",
              "      <td>F</td>\n",
              "      <td>1</td>\n",
              "      <td>Não Respondeu</td>\n",
              "      <td>Não Respondeu</td>\n",
              "      <td>NaN</td>\n",
              "      <td>Altos</td>\n",
              "      <td>424.0</td>\n",
              "      <td>440.8</td>\n",
              "      <td>539.0</td>\n",
              "      <td>462.5</td>\n",
              "      <td>560.0</td>\n",
              "      <td>485.26</td>\n",
              "    </tr>\n",
              "    <tr>\n",
              "      <th>2</th>\n",
              "      <td>91397</td>\n",
              "      <td>190001096026</td>\n",
              "      <td>2019</td>\n",
              "      <td>Altos</td>\n",
              "      <td>PI</td>\n",
              "      <td>23</td>\n",
              "      <td>F</td>\n",
              "      <td>1</td>\n",
              "      <td>Não Respondeu</td>\n",
              "      <td>Não Respondeu</td>\n",
              "      <td>NaN</td>\n",
              "      <td>Altos</td>\n",
              "      <td>426.5</td>\n",
              "      <td>442.4</td>\n",
              "      <td>455.3</td>\n",
              "      <td>413.3</td>\n",
              "      <td>720.0</td>\n",
              "      <td>491.50</td>\n",
              "    </tr>\n",
              "  </tbody>\n",
              "</table>\n",
              "</div>"
            ],
            "text/plain": [
              "   Unnamed: 0  NU_INSCRICAO  NU_ANO  ... NU_NOTA_MT NU_NOTA_REDACAO   MEDIA\n",
              "0       91345  190001095974    2019  ...      516.0           640.0  532.24\n",
              "1       91355  190001095984    2019  ...      462.5           560.0  485.26\n",
              "2       91397  190001096026    2019  ...      413.3           720.0  491.50\n",
              "\n",
              "[3 rows x 18 columns]"
            ]
          },
          "metadata": {
            "tags": []
          },
          "execution_count": 678
        }
      ]
    },
    {
      "cell_type": "code",
      "metadata": {
        "id": "dlXEy_ZUDkW4"
      },
      "source": [
        ""
      ],
      "execution_count": 656,
      "outputs": []
    },
    {
      "cell_type": "markdown",
      "metadata": {
        "id": "i3fr5AHJuhOw"
      },
      "source": [
        "### **5.2 Visualização do dataframe**"
      ]
    },
    {
      "cell_type": "code",
      "metadata": {
        "id": "qGEvDGKAOHR4",
        "outputId": "0035623b-0286-4aba-d448-33db1cd60289",
        "colab": {
          "base_uri": "https://localhost:8080/",
          "height": 213
        }
      },
      "source": [
        "#Visualização\n",
        "microdadosEnem2019_limpo.head(3)"
      ],
      "execution_count": 657,
      "outputs": [
        {
          "output_type": "execute_result",
          "data": {
            "text/html": [
              "<div>\n",
              "<style scoped>\n",
              "    .dataframe tbody tr th:only-of-type {\n",
              "        vertical-align: middle;\n",
              "    }\n",
              "\n",
              "    .dataframe tbody tr th {\n",
              "        vertical-align: top;\n",
              "    }\n",
              "\n",
              "    .dataframe thead th {\n",
              "        text-align: right;\n",
              "    }\n",
              "</style>\n",
              "<table border=\"1\" class=\"dataframe\">\n",
              "  <thead>\n",
              "    <tr style=\"text-align: right;\">\n",
              "      <th></th>\n",
              "      <th>Unnamed: 0</th>\n",
              "      <th>NU_INSCRICAO</th>\n",
              "      <th>NU_ANO</th>\n",
              "      <th>NO_MUNICIPIO_RESIDENCIA</th>\n",
              "      <th>SG_UF_RESIDENCIA</th>\n",
              "      <th>NU_IDADE</th>\n",
              "      <th>TP_SEXO</th>\n",
              "      <th>TP_ST_CONCLUSAO</th>\n",
              "      <th>TP_ESCOLA</th>\n",
              "      <th>NO_MUNICIPIO_ESC</th>\n",
              "      <th>TP_DEPENDENCIA_ADM_ESC</th>\n",
              "      <th>NO_MUNICIPIO_PROVA</th>\n",
              "      <th>NU_NOTA_CN</th>\n",
              "      <th>NU_NOTA_CH</th>\n",
              "      <th>NU_NOTA_LC</th>\n",
              "      <th>NU_NOTA_MT</th>\n",
              "      <th>NU_NOTA_REDACAO</th>\n",
              "      <th>MEDIA</th>\n",
              "    </tr>\n",
              "  </thead>\n",
              "  <tbody>\n",
              "    <tr>\n",
              "      <th>0</th>\n",
              "      <td>91345</td>\n",
              "      <td>190001095974</td>\n",
              "      <td>2019</td>\n",
              "      <td>Altos</td>\n",
              "      <td>PI</td>\n",
              "      <td>18</td>\n",
              "      <td>M</td>\n",
              "      <td>2</td>\n",
              "      <td>Pública</td>\n",
              "      <td>Altos</td>\n",
              "      <td>2.0</td>\n",
              "      <td>Altos</td>\n",
              "      <td>488.1</td>\n",
              "      <td>454.3</td>\n",
              "      <td>562.8</td>\n",
              "      <td>516.0</td>\n",
              "      <td>640.0</td>\n",
              "      <td>532.24</td>\n",
              "    </tr>\n",
              "    <tr>\n",
              "      <th>1</th>\n",
              "      <td>91355</td>\n",
              "      <td>190001095984</td>\n",
              "      <td>2019</td>\n",
              "      <td>Altos</td>\n",
              "      <td>PI</td>\n",
              "      <td>25</td>\n",
              "      <td>F</td>\n",
              "      <td>1</td>\n",
              "      <td>Não Respondeu</td>\n",
              "      <td>Não Respondeu</td>\n",
              "      <td>NaN</td>\n",
              "      <td>Altos</td>\n",
              "      <td>424.0</td>\n",
              "      <td>440.8</td>\n",
              "      <td>539.0</td>\n",
              "      <td>462.5</td>\n",
              "      <td>560.0</td>\n",
              "      <td>485.26</td>\n",
              "    </tr>\n",
              "    <tr>\n",
              "      <th>2</th>\n",
              "      <td>91397</td>\n",
              "      <td>190001096026</td>\n",
              "      <td>2019</td>\n",
              "      <td>Altos</td>\n",
              "      <td>PI</td>\n",
              "      <td>23</td>\n",
              "      <td>F</td>\n",
              "      <td>1</td>\n",
              "      <td>Não Respondeu</td>\n",
              "      <td>Não Respondeu</td>\n",
              "      <td>NaN</td>\n",
              "      <td>Altos</td>\n",
              "      <td>426.5</td>\n",
              "      <td>442.4</td>\n",
              "      <td>455.3</td>\n",
              "      <td>413.3</td>\n",
              "      <td>720.0</td>\n",
              "      <td>491.50</td>\n",
              "    </tr>\n",
              "  </tbody>\n",
              "</table>\n",
              "</div>"
            ],
            "text/plain": [
              "   Unnamed: 0  NU_INSCRICAO  NU_ANO  ... NU_NOTA_MT NU_NOTA_REDACAO   MEDIA\n",
              "0       91345  190001095974    2019  ...      516.0           640.0  532.24\n",
              "1       91355  190001095984    2019  ...      462.5           560.0  485.26\n",
              "2       91397  190001096026    2019  ...      413.3           720.0  491.50\n",
              "\n",
              "[3 rows x 18 columns]"
            ]
          },
          "metadata": {
            "tags": []
          },
          "execution_count": 657
        }
      ]
    },
    {
      "cell_type": "code",
      "metadata": {
        "id": "RkBP5iObvHn9",
        "outputId": "4417b9bd-08bc-46c2-bf05-20729c336bcd",
        "colab": {
          "base_uri": "https://localhost:8080/"
        }
      },
      "source": [
        "microdadosEnem2019_limpo['NO_MUNICIPIO_ESC'].value_counts()"
      ],
      "execution_count": 658,
      "outputs": [
        {
          "output_type": "execute_result",
          "data": {
            "text/plain": [
              "Não Respondeu          923\n",
              "Altos                  198\n",
              "Teresina                46\n",
              "Campo Maior              7\n",
              "Pau D'Arco do Piauí      1\n",
              "Name: NO_MUNICIPIO_ESC, dtype: int64"
            ]
          },
          "metadata": {
            "tags": []
          },
          "execution_count": 658
        }
      ]
    },
    {
      "cell_type": "markdown",
      "metadata": {
        "id": "nitxie589LRy"
      },
      "source": [
        "### **5.3 Dataframe apenas com inscritos altoenses que responderam ter estudado no município de Altos**"
      ]
    },
    {
      "cell_type": "code",
      "metadata": {
        "id": "CUlnmzip8goT"
      },
      "source": [
        "#Criando novos dataframes\n",
        "DF_microdadosEnem2019 = microdadosEnem2019_limpo.loc[microdadosEnem2019_limpo['NO_MUNICIPIO_ESC'].isin(['Altos'])]\n",
        "DF_microdadosEnem2018 = microdadosEnem2018_limpo.loc[microdadosEnem2018_limpo['NO_MUNICIPIO_ESC'].isin(['Altos'])]\n",
        "DF_microdadosEnem2017 = microdadosEnem2017_limpo.loc[microdadosEnem2017_limpo['NO_MUNICIPIO_ESC'].isin(['Altos'])]\n",
        "DF_microdadosEnem2016 = microdadosEnem2016_limpo.loc[microdadosEnem2016_limpo['NO_MUNICIPIO_ESC'].isin(['Altos'])]"
      ],
      "execution_count": 659,
      "outputs": []
    },
    {
      "cell_type": "markdown",
      "metadata": {
        "id": "--h6pu7QG8S-"
      },
      "source": [
        "Dataframe novo que contêm apenas os inscritos que responderam que estudaram em colégios no município de Altos"
      ]
    },
    {
      "cell_type": "code",
      "metadata": {
        "id": "QgqA_WkNWinD",
        "outputId": "ae120d29-0807-4ea7-93b1-24ea53996714",
        "colab": {
          "base_uri": "https://localhost:8080/"
        }
      },
      "source": [
        "#Quantidade de inscritos\n",
        "print(DF_microdadosEnem2019.shape,\n",
        "DF_microdadosEnem2018.shape,\n",
        "DF_microdadosEnem2017.shape,\n",
        "DF_microdadosEnem2016.shape)"
      ],
      "execution_count": 679,
      "outputs": [
        {
          "output_type": "stream",
          "text": [
            "(198, 18) (220, 17) (311, 17) (360, 17)\n"
          ],
          "name": "stdout"
        }
      ]
    },
    {
      "cell_type": "markdown",
      "metadata": {
        "id": "BFOfXbnIXLIr"
      },
      "source": [
        "Quantidade de inscritos Altoense que estudaram em colégios no município de Altos\n",
        "\n",
        "* Ano 2019 - 198 inscritos\n",
        "* Ano 2018 - 220 inscritos\n",
        "* Ano 2017 - 311 inscritos\n",
        "* Ano 2016 - 360 inscritos"
      ]
    },
    {
      "cell_type": "markdown",
      "metadata": {
        "id": "uTwLq9aUWaL2"
      },
      "source": [
        "#### **Novo dataframe 2019**"
      ]
    },
    {
      "cell_type": "code",
      "metadata": {
        "id": "O7wtjq1UIfEv",
        "outputId": "c77fd59d-ad05-4580-8257-905769fcdedc",
        "colab": {
          "base_uri": "https://localhost:8080/"
        }
      },
      "source": [
        "#Número de inscritos 2019\n",
        "print(DF_microdadosEnem2019['NO_MUNICIPIO_ESC'].value_counts(),\n",
        "      DF_microdadosEnem2019['TP_ESCOLA'].value_counts() )"
      ],
      "execution_count": 660,
      "outputs": [
        {
          "output_type": "stream",
          "text": [
            "Altos    198\n",
            "Name: NO_MUNICIPIO_ESC, dtype: int64 Pública    193\n",
            "Privada      5\n",
            "Name: TP_ESCOLA, dtype: int64\n"
          ],
          "name": "stdout"
        }
      ]
    },
    {
      "cell_type": "markdown",
      "metadata": {
        "id": "3CqAWMTLIzMG"
      },
      "source": [
        "198 Inscritos altoense estudaram no município de Altos em 2019:\n",
        "\n",
        "* Públicas - 193 inscritos\n",
        "* Privadas - 5 inscritos\n",
        "\n",
        "Totalizando os 198 inscritos"
      ]
    },
    {
      "cell_type": "markdown",
      "metadata": {
        "id": "q88NqAzOWh_f"
      },
      "source": [
        "#### **Novo dataframe 2018**"
      ]
    },
    {
      "cell_type": "code",
      "metadata": {
        "id": "VCHaOTwvI-k6",
        "outputId": "947d888a-2c85-4a2f-d51b-de87ac4a10cc",
        "colab": {
          "base_uri": "https://localhost:8080/"
        }
      },
      "source": [
        "#Número de inscritos 2018\n",
        "print(DF_microdadosEnem2018['NO_MUNICIPIO_ESC'].value_counts(),\n",
        "      DF_microdadosEnem2018['TP_ESCOLA'].value_counts() )"
      ],
      "execution_count": 661,
      "outputs": [
        {
          "output_type": "stream",
          "text": [
            "Altos    220\n",
            "Name: NO_MUNICIPIO_ESC, dtype: int64 Pública     208\n",
            "Exterior     11\n",
            "Privada       1\n",
            "Name: TP_ESCOLA, dtype: int64\n"
          ],
          "name": "stdout"
        }
      ]
    },
    {
      "cell_type": "markdown",
      "metadata": {
        "id": "Hg2v43SqJBoM"
      },
      "source": [
        "220 Inscritos altoense estudaram no município de Altos em 2018:\n",
        "\n",
        "* Públicas - 208 inscritos\n",
        "* Exterior - 11 inscritos\n",
        "* Privadas - 1 inscrito\n",
        "\n",
        "Totalizando os 220 inscritos"
      ]
    },
    {
      "cell_type": "markdown",
      "metadata": {
        "id": "7n1so_foWonv"
      },
      "source": [
        "#### **Novo dataframe 2017**"
      ]
    },
    {
      "cell_type": "code",
      "metadata": {
        "id": "LQhv5fkrJPci",
        "outputId": "a3f6526b-3068-4181-ebd6-2fdcc7457a88",
        "colab": {
          "base_uri": "https://localhost:8080/"
        }
      },
      "source": [
        "#Número de inscritos 2017\n",
        "print(DF_microdadosEnem2017['NO_MUNICIPIO_ESC'].value_counts(),\n",
        "      DF_microdadosEnem2017['TP_ESCOLA'].value_counts() )"
      ],
      "execution_count": 662,
      "outputs": [
        {
          "output_type": "stream",
          "text": [
            "Altos    311\n",
            "Name: NO_MUNICIPIO_ESC, dtype: int64 Pública    292\n",
            "Privada     19\n",
            "Name: TP_ESCOLA, dtype: int64\n"
          ],
          "name": "stdout"
        }
      ]
    },
    {
      "cell_type": "markdown",
      "metadata": {
        "id": "Bs-7svAXJST7"
      },
      "source": [
        "311 Inscritos altoense estudaram no município de Altos em 2017:\n",
        "\n",
        "* Públicas - 292 inscritos\n",
        "* Privadas - 19 inscritos\n",
        "\n",
        "Totalizando os 311 inscritos"
      ]
    },
    {
      "cell_type": "markdown",
      "metadata": {
        "id": "mW64-kU2WsM_"
      },
      "source": [
        "#### **Novo dataframe 2016**"
      ]
    },
    {
      "cell_type": "code",
      "metadata": {
        "id": "xpJISzU9JVxy",
        "outputId": "960faa7f-ba41-42fd-e21c-d290d89272fb",
        "colab": {
          "base_uri": "https://localhost:8080/"
        }
      },
      "source": [
        "#Número de inscritos 2016\n",
        "print(DF_microdadosEnem2016['NO_MUNICIPIO_ESC'].value_counts(),\n",
        "      DF_microdadosEnem2016['TP_ESCOLA'].value_counts() )"
      ],
      "execution_count": 663,
      "outputs": [
        {
          "output_type": "stream",
          "text": [
            "Altos    360\n",
            "Name: NO_MUNICIPIO_ESC, dtype: int64 Pública    332\n",
            "Privada     28\n",
            "Name: TP_ESCOLA, dtype: int64\n"
          ],
          "name": "stdout"
        }
      ]
    },
    {
      "cell_type": "markdown",
      "metadata": {
        "id": "uDf_6OybJZks"
      },
      "source": [
        "360 Inscritos altoense estudaram no município de Altos em 2016:\n",
        "\n",
        "* Públicas - 332 inscritos\n",
        "* Privadas - 28 inscritos\n",
        "\n",
        "Totalizando os 360 inscritos"
      ]
    },
    {
      "cell_type": "markdown",
      "metadata": {
        "id": "17R7tqKIWB4c"
      },
      "source": [
        "### **5.4 Dataframe apenas com inscritos que estudaram em colégios públicos/privados no município de Altos**"
      ]
    },
    {
      "cell_type": "code",
      "metadata": {
        "id": "g5788C5dEp18"
      },
      "source": [
        "#Criando novos dataframes\n",
        "DF1_microdadosEnem2019 = DF_microdadosEnem2019.loc[DF_microdadosEnem2019['TP_ESCOLA'].isin(['Pública','Privada'])]\n",
        "DF1_microdadosEnem2018 = DF_microdadosEnem2018.loc[DF_microdadosEnem2018['TP_ESCOLA'].isin(['Pública','Privada'])]\n",
        "DF1_microdadosEnem2017 = DF_microdadosEnem2017.loc[DF_microdadosEnem2017['TP_ESCOLA'].isin(['Pública','Privada'])]\n",
        "DF1_microdadosEnem2016 = DF_microdadosEnem2016.loc[DF_microdadosEnem2016['TP_ESCOLA'].isin(['Pública','Privada'])]"
      ],
      "execution_count": 666,
      "outputs": []
    },
    {
      "cell_type": "markdown",
      "metadata": {
        "id": "a3SCFJIKHr6m"
      },
      "source": [
        "Dataframe que contêm apenas os inscritos que estudaram em colégios públicos/privados no município de Altos"
      ]
    },
    {
      "cell_type": "code",
      "metadata": {
        "id": "cPOgdWZxW7Cd",
        "outputId": "91b16fea-75d0-4939-a910-fc054f8dd055",
        "colab": {
          "base_uri": "https://localhost:8080/"
        }
      },
      "source": [
        "#Quantidade de inscritos\n",
        "print(DF1_microdadosEnem2019.shape,\n",
        "DF1_microdadosEnem2018.shape,\n",
        "DF1_microdadosEnem2017.shape,\n",
        "DF1_microdadosEnem2016.shape)"
      ],
      "execution_count": 680,
      "outputs": [
        {
          "output_type": "stream",
          "text": [
            "(198, 18) (209, 17) (311, 17) (360, 17)\n"
          ],
          "name": "stdout"
        }
      ]
    },
    {
      "cell_type": "markdown",
      "metadata": {
        "id": "zegPxD3pX2E3"
      },
      "source": [
        "Quantidade de inscritos Altoense que estudaram em colégios no município de Altos em escolas públicas e privadas\n",
        "\n",
        "* Ano 2019 - 198 inscritos\n",
        "* Ano 2018 - 209 inscritos\n",
        "* Ano 2017 - 311 inscritos\n",
        "* Ano 2016 - 360 inscritos\n"
      ]
    },
    {
      "cell_type": "markdown",
      "metadata": {
        "id": "AY8ArkSH95Jr"
      },
      "source": [
        "#### **Novo dataframe 2019**"
      ]
    },
    {
      "cell_type": "code",
      "metadata": {
        "id": "YdMIEaplOqkY",
        "outputId": "cfd0da8a-94f9-47f8-c45c-709032bb6750",
        "colab": {
          "base_uri": "https://localhost:8080/"
        }
      },
      "source": [
        "print(DF1_microdadosEnem2019['NO_MUNICIPIO_ESC'].value_counts(),\n",
        "      DF1_microdadosEnem2019['TP_ESCOLA'].value_counts())\n"
      ],
      "execution_count": 667,
      "outputs": [
        {
          "output_type": "stream",
          "text": [
            "Altos    198\n",
            "Name: NO_MUNICIPIO_ESC, dtype: int64 Pública    193\n",
            "Privada      5\n",
            "Name: TP_ESCOLA, dtype: int64\n"
          ],
          "name": "stdout"
        }
      ]
    },
    {
      "cell_type": "markdown",
      "metadata": {
        "id": "zD-5riEFO0hz"
      },
      "source": [
        "198 Inscritos altoense estudaram no município de Altos em 2019:\n",
        "\n",
        "* Públicas - 193 inscritos\n",
        "* Privadas - 5 inscritos\n",
        "\n",
        "Totalizando os 198 inscritos\n",
        "\n"
      ]
    },
    {
      "cell_type": "markdown",
      "metadata": {
        "id": "Z7yoCr0O_5mo"
      },
      "source": [
        "#### **Novo dataframe 2018**"
      ]
    },
    {
      "cell_type": "code",
      "metadata": {
        "id": "4Hob9V-IPUXV",
        "outputId": "deda0a6e-f26a-4ca0-ab9c-e5b1d9a5bac0",
        "colab": {
          "base_uri": "https://localhost:8080/"
        }
      },
      "source": [
        "print(DF1_microdadosEnem2018['NO_MUNICIPIO_ESC'].value_counts(),\n",
        "      DF1_microdadosEnem2018['TP_ESCOLA'].value_counts())"
      ],
      "execution_count": 668,
      "outputs": [
        {
          "output_type": "stream",
          "text": [
            "Altos    209\n",
            "Name: NO_MUNICIPIO_ESC, dtype: int64 Pública    208\n",
            "Privada      1\n",
            "Name: TP_ESCOLA, dtype: int64\n"
          ],
          "name": "stdout"
        }
      ]
    },
    {
      "cell_type": "markdown",
      "metadata": {
        "id": "bAiwZIh5P4Jl"
      },
      "source": [
        "209 Inscritos altoense estudaram no município de Altos em 2018:\n",
        "\n",
        "* Públicas - 208 inscritos\n",
        "* Privadas - 1 inscrito\n",
        "\n",
        "Totalizando os 209 inscritos"
      ]
    },
    {
      "cell_type": "markdown",
      "metadata": {
        "id": "RntrRSMxAehC"
      },
      "source": [
        "#### **Novo dataframe 2017**"
      ]
    },
    {
      "cell_type": "code",
      "metadata": {
        "id": "1Bxy-Pp7R1_A",
        "outputId": "7a1f2180-5d3e-43ac-f1d6-c2e4620f49ce",
        "colab": {
          "base_uri": "https://localhost:8080/"
        }
      },
      "source": [
        "print(DF1_microdadosEnem2017['NO_MUNICIPIO_ESC'].value_counts(),\n",
        "      DF1_microdadosEnem2017['TP_ESCOLA'].value_counts())"
      ],
      "execution_count": 669,
      "outputs": [
        {
          "output_type": "stream",
          "text": [
            "Altos    311\n",
            "Name: NO_MUNICIPIO_ESC, dtype: int64 Pública    292\n",
            "Privada     19\n",
            "Name: TP_ESCOLA, dtype: int64\n"
          ],
          "name": "stdout"
        }
      ]
    },
    {
      "cell_type": "markdown",
      "metadata": {
        "id": "oeEx_agCR6IA"
      },
      "source": [
        "311 Inscritos altoense estudaram no município de Altos em 2017:\n",
        "\n",
        "* Públicas - 292 inscritos\n",
        "* Privadas - 19 inscritos\n",
        "\n",
        "Totalizando os 311 inscritos"
      ]
    },
    {
      "cell_type": "markdown",
      "metadata": {
        "id": "bj6M95UAAoBY"
      },
      "source": [
        "#### **Novo dataframe 2016**"
      ]
    },
    {
      "cell_type": "code",
      "metadata": {
        "id": "A36h9I4CSTje",
        "outputId": "014b03a3-35b9-4983-aeb1-d7235fadd310",
        "colab": {
          "base_uri": "https://localhost:8080/"
        }
      },
      "source": [
        "print(DF1_microdadosEnem2016['NO_MUNICIPIO_ESC'].value_counts(),\n",
        "      DF1_microdadosEnem2016['TP_ESCOLA'].value_counts())"
      ],
      "execution_count": 670,
      "outputs": [
        {
          "output_type": "stream",
          "text": [
            "Altos    360\n",
            "Name: NO_MUNICIPIO_ESC, dtype: int64 Pública    332\n",
            "Privada     28\n",
            "Name: TP_ESCOLA, dtype: int64\n"
          ],
          "name": "stdout"
        }
      ]
    },
    {
      "cell_type": "markdown",
      "metadata": {
        "id": "Q4rqug6FSfl5"
      },
      "source": [
        "360 Inscritos altoense estudaram no município de Altos em 2016:\n",
        "\n",
        "* Públicas - 332 inscritos\n",
        "* Privadas - 28 inscritos\n",
        "\n",
        "Totalizando os 360 inscritos"
      ]
    },
    {
      "cell_type": "code",
      "metadata": {
        "id": "mgQhaJ0SalNJ"
      },
      "source": [
        ""
      ],
      "execution_count": null,
      "outputs": []
    }
  ]
}